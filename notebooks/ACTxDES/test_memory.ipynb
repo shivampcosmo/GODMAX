{
 "cells": [
  {
   "cell_type": "code",
   "execution_count": 3,
   "metadata": {},
   "outputs": [],
   "source": [
    "%reset\n",
    "import sys, os\n",
    "# del os.environ[\"XLA_PYTHON_CLIENT_ALLOCATOR\"]\n",
    "# del os.environ[\"XLA_PYTHON_CLIENT_PREALLOCATE\"]\n",
    "# os.environ['XLA_PYTHON_CLIENT_PREALLOCATE'] = '0.95'\n",
    "os.environ[\"CUDA_VISIBLE_DEVICES\"] = \"0\"\n",
    "os.environ['XLA_PYTHON_CLIENT_PREALLOCATE']=\"False\"\n",
    "\n",
    "# Change the current working directory to the desired path\n",
    "os.chdir('/mnt/home/spandey/ceph/GODMAX/src/')\n",
    "from jax import config\n",
    "# config.update(\"jax_enable_x64\", True)\n",
    "import numpy as np\n",
    "import jax.numpy as jnp\n",
    "import colossus \n",
    "from jax import vmap, grad\n",
    "%matplotlib inline\n",
    "import matplotlib.pyplot as pl\n",
    "pl.rc('text', usetex=True)\n",
    "# Palatino\n",
    "pl.rc('font', family='DejaVu Sans')\n",
    "\n",
    "%load_ext autoreload\n",
    "%autoreload 2\n",
    "\n",
    "\n"
   ]
  },
  {
   "cell_type": "code",
   "execution_count": null,
   "metadata": {},
   "outputs": [],
   "source": [
    "df = jnp.zeros()\n",
    "\n"
   ]
  }
 ],
 "metadata": {
  "kernelspec": {
   "display_name": "Python 3",
   "language": "python",
   "name": "python3"
  },
  "language_info": {
   "codemirror_mode": {
    "name": "ipython",
    "version": 3
   },
   "file_extension": ".py",
   "mimetype": "text/x-python",
   "name": "python",
   "nbconvert_exporter": "python",
   "pygments_lexer": "ipython3",
   "version": "3.12.0"
  }
 },
 "nbformat": 4,
 "nbformat_minor": 2
}
