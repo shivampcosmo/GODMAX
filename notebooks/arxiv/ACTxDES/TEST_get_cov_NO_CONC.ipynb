{
 "cells": [
  {
   "cell_type": "code",
   "execution_count": 3,
   "metadata": {},
   "outputs": [
    {
     "name": "stdout",
     "output_type": "stream",
     "text": [
      "The autoreload extension is already loaded. To reload it, use:\n",
      "  %reload_ext autoreload\n"
     ]
    }
   ],
   "source": [
    "# %reset\n",
    "import sys, os\n",
    "os.environ['XLA_PYTHON_CLIENT_PREALLOCATE'] = 'false'\n",
    "os.environ['JAX_ENABLE_X64'] = 'True'\n",
    "from jax import config\n",
    "config.update(\"jax_enable_x64\", True)\n",
    "\n",
    "# JAX_ENABLE_X64=True\n",
    "# os.environ[\"CUDA_VISIBLE_DEVICES\"] = \"0\"\n",
    "# Change the current working directory to the desired path\n",
    "# os.chdir('/mnt/home/spandey/ceph/GODMAX/src/')\n",
    "import pathlib\n",
    "curr_path = pathlib.Path().absolute()\n",
    "# Let's assume that we have a relative path to a file or directory (rel_path) within our current working directory.\n",
    "\n",
    "abs_path_data = os.path.abspath(curr_path / \"../../data/\") \n",
    "abs_path_src = os.path.abspath(curr_path / \"../../src/\") \n",
    "\n",
    "sys.path.append((curr_path))\n",
    "sys.path.append((abs_path_data))\n",
    "\n",
    "sys.path.append(abs_path_src)\n",
    "\n",
    "# from jax import config\n",
    "# config.update(\"jax_enable_x64\", True)\n",
    "\n",
    "import numpy as np\n",
    "import jax.numpy as jnp\n",
    "import colossus \n",
    "from jax import vmap, grad\n",
    "%matplotlib inline\n",
    "import matplotlib.pyplot as pl\n",
    "pl.rc('text', usetex=True)\n",
    "# Palatino\n",
    "pl.rc('font', family='DejaVu Sans')\n",
    "\n",
    "%load_ext autoreload\n",
    "%autoreload 2\n",
    "%reload_ext autocomplete\n",
    "\n",
    "\n",
    "\n"
   ]
  },
  {
   "cell_type": "code",
   "execution_count": 8,
   "metadata": {},
   "outputs": [],
   "source": [
    "# abs_path_data\n",
    "import os\n",
    "from get_power_spectra_NO_CONC_jit import get_power_BCMP_NO_CONC\n",
    "from setup_power_spectra_NO_CONC_jit import setup_power_BCMP_NO_CONC\n",
    "import jax.numpy as jnp\n",
    "from jax import grad, jit, vmap\n",
    "import numpy as np\n",
    "import jax.scipy.integrate as jsi\n",
    "from jax_cosmo import Cosmology\n",
    "from functools import partial\n",
    "import astropy.units as u\n",
    "from astropy import constants as const\n",
    "RHO_CRIT_0_MPC3 = 2.77536627245708E11\n",
    "G_new = ((const.G * (u.M_sun / u.Mpc**3) * (u.M_sun) / (u.Mpc)).to(u.eV / u.cm**3)).value\n",
    "# from transforms import Hankel\n",
    "# from mcfit import Hankel\n",
    "from mcfitjax.transforms import Hankel\n",
    "import time\n",
    "from twobessel import *\n",
    "import interpax\n",
    "\n"
   ]
  },
  {
   "cell_type": "code",
   "execution_count": 9,
   "metadata": {},
   "outputs": [],
   "source": [
    "# !pip install interpax\n"
   ]
  },
  {
   "cell_type": "code",
   "execution_count": 18,
   "metadata": {},
   "outputs": [],
   "source": [
    "# cosmo_params_dict = {'flat': True, 'H0': 70.0, 'Om0': 0.2793, 'Ob0': 0.0463, 'sigma8': 0.821, 'ns': 0.972, 'w0':-1.0}\n",
    "# cosmo_params_dict = {'flat': True, 'H0': 67.2, 'Om0': 0.31, 'Ob0': 0.049, 'sigma8': 0.81, 'ns': 0.95, 'w0':-1.0}\n",
    "cosmo_params_dict = {'flat': True, 'H0': 67.2, 'Om0': 0.29, 'Ob0': 0.049, 'sigma8': 0.783, 'ns': 0.95, 'w0':-1.0}\n",
    "sim_params_dict = {}\n",
    "sim_params_dict['nfw_trunc'] = True\n",
    "sim_params_dict['gamma_rhogas'] = 2.0\n",
    "sim_params_dict['delta_rhogas'] = 7.0\n",
    "# sim_params_dict['theta_co'] = 0.01\n",
    "# sim_params_dict['theta_ej'] = 1.0\n",
    "\n",
    "sim_params_dict['theta_co_0'] = 0.1\n",
    "sim_params_dict['log10_Mstar0_theta_co'] = 14.0\n",
    "sim_params_dict['nu_theta_co_M'] = 0.0\n",
    "sim_params_dict['nu_theta_co_z'] = 0.0\n",
    "\n",
    "sim_params_dict['theta_ej_0'] = 2.75\n",
    "sim_params_dict['log10_Mstar0_theta_ej'] = 14.0\n",
    "sim_params_dict['nu_theta_ej_M'] = 0.0\n",
    "sim_params_dict['nu_theta_ej_z'] = 0.0\n",
    "\n",
    "sim_params_dict['log10_Mc0'] = 14.83\n",
    "sim_params_dict['log10_Mstar0'] = 14.0\n",
    "sim_params_dict['mu_beta'] = 0.21\n",
    "sim_params_dict['nu_z'] = 0.0\n",
    "sim_params_dict['nu_M'] = 0.0\n",
    "\n",
    "sim_params_dict['eta_star'] = 0.3\n",
    "sim_params_dict['eta_cga'] = 0.6\n",
    "\n",
    "\n",
    "sim_params_dict['neg_bhse_plus_1'] = 0.833\n",
    "sim_params_dict['A_starcga'] = 0.09\n",
    "sim_params_dict['log10_M1_starcga'] = 11.4\n",
    "sim_params_dict['epsilon_rt'] = 4.0\n",
    "\n",
    "\n",
    "sim_params_dict['a_zeta'] = 0.3\n",
    "sim_params_dict['n_zeta'] = 2\n",
    "sim_params_dict['alpha_nt'] = 0.18\n",
    "sim_params_dict['beta_nt'] = 0.5\n",
    "sim_params_dict['n_nt'] = 0.3\n",
    "sim_params_dict['cosmo'] = cosmo_params_dict\n",
    "\n",
    "\n",
    "halo_params_dict = {}\n",
    "halo_params_dict['rmin'], halo_params_dict['rmax'], halo_params_dict['nr'] = 5e-3, 12, 32\n",
    "# halo_params_dict['zmin'], halo_params_dict['zmax'], halo_params_dict['nz'] = 0.001, 0.002, 2\n",
    "# halo_params_dict['zmin'], halo_params_dict['zmax'], halo_params_dict['nz'] = 0.001, 1.0, 10\n",
    "# halo_params_dict['z_array'] = np.array([1e-3, 0.5, 1.0])\n",
    "# halo_params_dict['zmin'], halo_params_dict['zmax'], halo_params_dict['nz'] = 0.01, 3.0, 20\n",
    "halo_params_dict['zmin'], halo_params_dict['zmax'], halo_params_dict['nz'] = 0.01, 3.0, 24\n",
    "# halo_params_dict['z_array'] = np.array([1e-3])\n",
    "# halo_params_dict['z_array'] = np.array([0.5])\n",
    "# halo_params_dict['z_array'] = np.array([1.0])\n",
    "# halo_params_dict['nz'] = len(halo_params_dict['z_array'])\n",
    "# halo_params_dict['lg10_Mmin'], halo_params_dict['lg10_Mmax'], halo_params_dict['nM'] = 12.0, 15.5, 20\n",
    "halo_params_dict['lg10_Mmin'], halo_params_dict['lg10_Mmax'], halo_params_dict['nM'] = 11.0, 16.0, 32\n",
    "halo_params_dict['cmin'], halo_params_dict['cmax'], halo_params_dict['nc'] = 2, 9, 16\n",
    "\n",
    "lmin = 1.0\n",
    "lmax = 60000.0\n",
    "fac = 1\n",
    "dl_log_array = 0.23025851 / fac\n",
    "# dl_log_array = 0.1\n",
    "l_array_all = np.exp(np.arange(np.log(lmin), np.log(lmax), dl_log_array))\n",
    "dl_array = l_array_all[1:] - l_array_all[:-1]\n",
    "l_array_survey = (l_array_all[1:] + l_array_all[:-1]) / 2.\n",
    "halo_params_dict['ell_array'] = jnp.array(l_array_survey)\n",
    "halo_params_dict['nell'] = len(l_array_survey)\n",
    "halo_params_dict['ellmin'] = l_array_survey[0]\n",
    "halo_params_dict['ellmax'] = l_array_survey[-1]\n",
    "# halo_params_dict['ellmin'], halo_params_dict['ellmax'], halo_params_dict['nell'] = 8, 2**14, 32\n",
    "# try:\n",
    "halo_params_dict['sig_logc_z_array'] = np.ones(halo_params_dict['nz']) * 0.05\n",
    "halo_params_dict['mdef'] = '200c'\n",
    "halo_params_dict['hmf_model'] = 'T10'\n",
    "# halo_params_dict['conc_model'] = 'Diemer15'\n",
    "halo_params_dict['conc_model'] = 'Duffy08'\n",
    "halo_params_dict['do_corr_2h_mm'] = True\n",
    "\n",
    "# halo_params_dict['do_corr_2h_mm'] = False\n",
    "\n",
    "from astropy.io import fits\n",
    "df = fits.open(os.path.abspath(abs_path_data + '/DESxACT/2pt_NG_final_2ptunblind_02_26_21_wnz_maglim_covupdate.fits'))\n",
    "# df = fits.open('data/DESxACT/2pt_NG_final_2ptunblind_02_26_21_wnz_maglim_covupdate.fits') \n",
    "z_array = df['nz_source'].data['Z_MID']\n",
    "nz_info_dict = {}\n",
    "nz_info_dict['z_array'] = z_array\n",
    "nz_info_dict['nbins'] = 4\n",
    "nz_info_dict['nz0'] = np.maximum(df['nz_source'].data['BIN1'], 1e-4)\n",
    "nz_info_dict['nz1'] = np.maximum(df['nz_source'].data['BIN2'], 1e-4)\n",
    "nz_info_dict['nz2'] = np.maximum(df['nz_source'].data['BIN3'], 1e-4)\n",
    "nz_info_dict['nz3'] = np.maximum(df['nz_source'].data['BIN4'], 1e-4)\n",
    "# nz_info_dict['nz4'] = np.maximum(df['nz_source'].data['BIN5'], 1e-4)\n",
    "analysis_dict = {}\n",
    "analysis_dict['nz_info_dict'] = nz_info_dict\n",
    "analysis_dict['do_sheary'] = True\n",
    "analysis_dict['do_shear2pt'] = True\n",
    "analysis_dict['do_yy'] = True\n",
    "\n",
    "analysis_dict['fsky_yy'] = 0.1\n",
    "analysis_dict['fsky_ky'] = 0.1\n",
    "analysis_dict['fsky_kk'] = 0.1\n",
    "analysis_dict['fac_ell_hres'] = fac\n",
    "\n",
    "# df_data = fits.open('/mnt/home/spandey/ceph/GODMAX/data/DESxACT/2pt_NG_final_2ptunblind_02_26_21_wnz_maglim_covupdate.fits')\n",
    "# df_data = fits.open('/mnt/home/spandey/ceph/GODMAX/data/DESxACT/2pt_NG_final_2ptunblind_02_26_21_wnz_maglim_covupdate.fits')\n",
    "theta_data = df['xip'].data['ANG'][0:20]\n",
    "\n",
    "# analysis_dict['ellmin_transf'], analysis_dict['ellmax_transf'], analysis_dict['nell_transf'] = 8, 2**15, 16384\n",
    "analysis_dict['angles_data_array'] = jnp.array(theta_data)\n",
    "analysis_dict['beam_fwhm_arcmin'] = 1.6\n",
    "analysis_dict['want_like_diff'] = True\n",
    "analysis_dict['calc_nfw_only'] = False\n",
    "analysis_dict['conc_dep_model'] = False\n",
    "\n",
    "\n",
    "analysis_dict['get_cov'] = True\n",
    "# analysis_dict['stats_for_cov'] = ['ky']\n",
    "analysis_dict['stats_for_cov'] = ['ky', 'kk']\n",
    "analysis_dict['analysis_coords'] = 'real'\n",
    "# l_array_survey = np.logspace(np.log10(lmin), np.log10(lmax), int((lmax-lmin)/dl_log_array)+1)\n",
    "analysis_dict['l_array_survey'] = jnp.array(l_array_survey)\n",
    "analysis_dict['dl_array_survey'] = jnp.array(dl_array)\n",
    "# analysis_dict['yy_total_ell_fname'] = '/Users/shivam/Downloads/ACT_Cls/Cls_ilc_SZ_deproj_cib_cibdBeta_1.7_10.7_yy_apod10arcmin_21Mar24.txt'\n",
    "# analysis_dict['yy_total_ell_fname'] = '/Users/shivam/Downloads/ACT_Cls/Cls_ilc_SZ_yy_apod10arcmin_21Mar24.txt'\n",
    "analysis_dict['yy_total_ell_fname'] = os.path.abspath(abs_path_data + '/DESxACT/ACT_Cls/Cls_ilc_SZ_yy_apod10arcmin_21Mar24.txt')\n",
    "analysis_dict['sigma_epsilon_SN_bins'] = [0.2724, 0.2724, 0.2724, 0.2724]\n",
    "analysis_dict['neff_arcmin2_SN_bins'] = [1.7971, 1.5521, 1.5967, 1.0979]\n",
    "\n",
    "other_params_dict = {}\n",
    "other_params_dict['A_IA'] = 0.0\n",
    "other_params_dict['eta_IA'] = 0.0\n",
    "other_params_dict['z0_IA'] = 0.62\n",
    "other_params_dict['C1_rhocrit'] = 0.0134\n",
    "other_params_dict['Delta_z_bias_array'] = np.zeros(nz_info_dict['nbins'])\n",
    "other_params_dict['mult_shear_bias_array'] = np.zeros(nz_info_dict['nbins'])\n",
    "\n",
    "\n",
    "\n"
   ]
  },
  {
   "cell_type": "code",
   "execution_count": 19,
   "metadata": {},
   "outputs": [
    {
     "name": "stdout",
     "output_type": "stream",
     "text": [
      "5.7187835045775756e-09\n"
     ]
    }
   ],
   "source": [
    "neff_arcmin2_SN_bins = analysis_dict['neff_arcmin2_SN_bins']\n",
    "sigma_epsilon_SN_bins = analysis_dict['sigma_epsilon_SN_bins']\n",
    "jb1 = 3\n",
    "neff_rad2_from_arcmin2 = neff_arcmin2_SN_bins[jb1] * (180 * 60./ jnp.pi)**2\n",
    "shape_noise_jb = ((sigma_epsilon_SN_bins[jb1]**2)/neff_rad2_from_arcmin2) * jnp.ones(len(l_array_survey))\n",
    "print(shape_noise_jb[0])\n",
    "\n"
   ]
  },
  {
   "cell_type": "code",
   "execution_count": null,
   "metadata": {},
   "outputs": [],
   "source": []
  },
  {
   "cell_type": "code",
   "execution_count": 12,
   "metadata": {},
   "outputs": [],
   "source": [
    "import itertools\n",
    "import scipy as sp\n",
    "import math\n",
    "\n",
    "class get_cov:\n",
    "    def __init__(self,\n",
    "                sim_params_dict,\n",
    "                halo_params_dict,\n",
    "                analysis_dict,\n",
    "                other_params_dict=None,\n",
    "                num_points_trapz_int=64,\n",
    "                setup_power_BCMP_obj=None,\n",
    "                get_power_BCMP_obj=None,\n",
    "                verbose_time=False\n",
    "                ):\n",
    "\n",
    "        self.verbose = verbose_time\n",
    "        if verbose_time:\n",
    "            t0 = time.time()\n",
    "\n",
    "        self.cosmo_params = sim_params_dict['cosmo']\n",
    "\n",
    "        if verbose_time:\n",
    "            ti = time.time()\n",
    "        if setup_power_BCMP_obj is None:\n",
    "            setup_power_BCMP_obj = setup_power_BCMP_NO_CONC(sim_params_dict, halo_params_dict, analysis_dict, other_params_dict, verbose_time=verbose_time)            \n",
    "        if get_power_BCMP_obj is None:\n",
    "            get_power_BCMP_obj = get_power_BCMP_NO_CONC(sim_params_dict, halo_params_dict, analysis_dict, other_params_dict, num_points_trapz_int=num_points_trapz_int, setup_power_BCMP_obj=setup_power_BCMP_obj, verbose_time=verbose_time)\n",
    "        if verbose_time:\n",
    "            print('Time for setup_power_BCMP: ', time.time() - ti)\n",
    "            ti = time.time()\n",
    "\n",
    "        analysis_coords = analysis_dict['analysis_coords']\n",
    "        beam_fwhm_arcmin = analysis_dict['beam_fwhm_arcmin']\n",
    "        l_array_survey = analysis_dict['l_array_survey']\n",
    "        beam_fwhm_arcmin = analysis_dict['beam_fwhm_arcmin']\n",
    "\n",
    "        fac_ell_hres = analysis_dict['fac_ell_hres']\n",
    "\n",
    "        if beam_fwhm_arcmin > 0.:\n",
    "            self.add_beam_to_theory = True\n",
    "        else:\n",
    "            self.add_beam_to_theory = False\n",
    "        ell_array_calc = setup_power_BCMP_obj.ell_array\n",
    "\n",
    "        if np.allclose(l_array_survey, ell_array_calc):\n",
    "            do_interpolation = False\n",
    "        else:\n",
    "            do_interpolation = True\n",
    "        \n",
    "        if verbose_time:\n",
    "            print('do_interpolation: ', do_interpolation)\n",
    "\n",
    "        dl_array_survey = analysis_dict['dl_array_survey']        \n",
    "        self.nell, self.nM, self.nz = setup_power_BCMP_obj.nell, setup_power_BCMP_obj.nM, setup_power_BCMP_obj.nz\n",
    "\n",
    "        self.dndlnM_z = setup_power_BCMP_obj.hmf_Mz_mat\n",
    "        self.chi_array = setup_power_BCMP_obj.chi_array\n",
    "        self.M_array = setup_power_BCMP_obj.M_array\n",
    "        self.z_array = setup_power_BCMP_obj.z_array\n",
    "        self.dchi_dz_array = get_power_BCMP_obj.dchi_dz_array\n",
    "\n",
    "        self.fsky_dict = {\n",
    "            'yy': analysis_dict.get('fsky_yy',0.1),\n",
    "            'yk': analysis_dict.get('fsky_ky',0.1),\n",
    "            'ky': analysis_dict.get('fsky_ky',0.1),\n",
    "            'kk': analysis_dict.get('fsky_kk',0.1),\n",
    "            }\n",
    "\n",
    "        self.stats_analyze = analysis_dict['stats_for_cov']\n",
    "        stats_analyze_pairs = []\n",
    "        stats_analyze_pairs_all = []\n",
    "        index_params = range(len(self.stats_analyze))\n",
    "        for j1 in index_params:\n",
    "            for j2 in index_params:\n",
    "                if j2 >= j1:\n",
    "                    stats_analyze_pairs.append([self.stats_analyze[j1], self.stats_analyze[j2]])\n",
    "\n",
    "                stats_analyze_pairs_all.append([self.stats_analyze[j1], self.stats_analyze[j2]])\n",
    "\n",
    "        self.stats_analyze_pairs = stats_analyze_pairs\n",
    "        self.stats_analyze_pairs_all = stats_analyze_pairs_all\n",
    "\n",
    "        self.Cl_result_dict = {}\n",
    "        self.Cl_result_dict['l_array_survey'] = l_array_survey\n",
    "        self.Cl_result_dict['dl_array_survey'] = dl_array_survey\n",
    "        self.Cl_result_dict['yy'] = {}\n",
    "        self.Cl_result_dict['yy']['bin_' + '0_0'] = {}\n",
    "        if do_interpolation:\n",
    "            log_Cl_yy_interp = interpax.Interpolator1D(\n",
    "                jnp.log(get_power_BCMP_obj.ell_array), jnp.log(jnp.abs(get_power_BCMP_obj.Cl_y_y_1h_mat + get_power_BCMP_obj.Cl_y_y_2h_mat) + 1e-25)\n",
    "                )\n",
    "            self.Cl_result_dict['yy']['bin_' + '0_0']['tot_ellsurvey'] = jnp.exp(log_Cl_yy_interp(jnp.log(l_array_survey)))\n",
    "        else:\n",
    "            self.Cl_result_dict['yy']['bin_' + '0_0']['tot_ellsurvey'] = get_power_BCMP_obj.Cl_y_y_1h_mat + get_power_BCMP_obj.Cl_y_y_2h_mat\n",
    "        \n",
    "        yy_noise_ell_fname = analysis_dict.get('yy_noise_ell_fname',None)\n",
    "        yy_total_ell_fname = analysis_dict.get('yy_total_ell_fname',None)\n",
    "        sigma_epsilon_SN_bins = analysis_dict.get('sigma_epsilon_SN_bins',jnp.zeros(get_power_BCMP_obj.nbins))\n",
    "        neff_arcmin2_SN_bins = analysis_dict.get('neff_arcmin2_SN_bins',jnp.ones(get_power_BCMP_obj.nbins))\n",
    "\n",
    "        if yy_total_ell_fname is not None:\n",
    "            ell_yy_tot, Cl_yy_tot = np.loadtxt(yy_total_ell_fname, unpack  = True)\n",
    "            log_Cl_yy_tot_interp = interpax.Interpolator1D(\n",
    "                jnp.log(ell_yy_tot), jnp.log(Cl_yy_tot + 1e-25), extrap=(math.log(Cl_yy_tot[0]), math.log(Cl_yy_tot[-1])))\n",
    "            # log_Cl_yy_tot_interp = interpax.Interpolator1D(\n",
    "            #     jnp.log(ell_yy_tot), jnp.log(Cl_yy_tot + 1e-25), extrap=-120)\n",
    "            Cl_yy_tot = jnp.exp(log_Cl_yy_tot_interp(jnp.log(l_array_survey)))\n",
    "            self.Cl_result_dict['yy']['bin_' + '0_0']['tot_plus_noise_ellsurvey'] = Cl_yy_tot\n",
    "        elif yy_noise_ell_fname is not None:\n",
    "            ell_yy_noise, Cl_yy_noise = np.loadtxt(yy_noise_ell_fname, unpack = True)\n",
    "            log_Cl_yy_noise_interp = interpax.Interpolator1D(\n",
    "                jnp.log(ell_yy_noise), jnp.log(jnp.abs(Cl_yy_noise)) + 1e-25, extrap=True\n",
    "            )\n",
    "            noise_yy = jnp.exp(log_Cl_yy_noise_interp(jnp.log(l_array_survey)))\n",
    "            self.Cl_result_dict['yy']['bin_' + '0_0']['tot_plus_noise_ellsurvey'] = self.Cl_result_dict['yy']['0_0']['tot_ellsurvey'] + noise_yy\n",
    "        else:\n",
    "            # print a warning:\n",
    "            print('Warning: no yy-total or yy-noise file found')\n",
    "            self.Cl_result_dict['yy']['bin_' + '0_0']['tot_plus_noise_ellsurvey'] = self.Cl_result_dict['yy']['0_0']['tot_ellsurvey']\n",
    "        self.Cl_result_dict['yy']['bin_combs'] = [[0,0]]\n",
    "\n",
    "        if do_interpolation:\n",
    "            log_Cl_ky_interp = interpax.Interpolator2D(\n",
    "                jnp.arange(get_power_BCMP_obj.nbins), jnp.log(get_power_BCMP_obj.ell_array),\n",
    "                jnp.log(jnp.abs(get_power_BCMP_obj.Cl_kappa_y_1h_mat + get_power_BCMP_obj.Cl_kappa_y_2h_mat) + 1e-25)\n",
    "                )\n",
    "            \n",
    "            log_Cl_kk_interp = interpax.Interpolator3D(\n",
    "                jnp.arange(get_power_BCMP_obj.nbins), jnp.arange(get_power_BCMP_obj.nbins), jnp.log(get_power_BCMP_obj.ell_array),\n",
    "                jnp.log(jnp.abs(get_power_BCMP_obj.Cl_kappa_kappa_1h_mat + get_power_BCMP_obj.Cl_kappa_kappa_2h_mat) + 1e-25)\n",
    "                )\n",
    "\n",
    "        bin_combs_ky = []\n",
    "        bin_combs_kk = []        \n",
    "        self.Cl_result_dict['ky'] = {}\n",
    "        self.Cl_result_dict['kk'] = {}\n",
    "        for jb1 in range(get_power_BCMP_obj.nbins):\n",
    "            self.Cl_result_dict['ky']['bin_' + str(jb1+1) + '_' + str(0)] = {}       \n",
    "            if do_interpolation:             \n",
    "                self.Cl_result_dict['ky']['bin_' + str(jb1+1) + '_' + str(0)]['tot_ellsurvey'] = jnp.exp(log_Cl_ky_interp(jb1, jnp.log(l_array_survey)))\n",
    "            else:\n",
    "                self.Cl_result_dict['ky']['bin_' + str(jb1+1) + '_' + str(0)]['tot_ellsurvey'] = (get_power_BCMP_obj.Cl_kappa_y_1h_mat + get_power_BCMP_obj.Cl_kappa_y_2h_mat)[jb1,:]\n",
    "            self.Cl_result_dict['ky']['bin_' + str(jb1+1) + '_' + str(0)]['tot_plus_noise_ellsurvey'] = self.Cl_result_dict['ky']['bin_' + str(jb1+1) + '_' + str(0)]['tot_ellsurvey']\n",
    "            bin_combs_ky.append([jb1+1, 0])\n",
    "            for jb2 in range(get_power_BCMP_obj.nbins):\n",
    "                self.Cl_result_dict['kk']['bin_' + str(jb1+1) + '_' + str(jb2+1)] = {}   \n",
    "                if do_interpolation:             \n",
    "                    self.Cl_result_dict['kk']['bin_' + str(jb1+1) + '_' + str(jb2+1)]['tot_ellsurvey'] = jnp.exp(log_Cl_kk_interp(jb1, jb2, jnp.log(l_array_survey)))\n",
    "                else:\n",
    "                    self.Cl_result_dict['kk']['bin_' + str(jb1+1) + '_' + str(jb2+1)]['tot_ellsurvey'] = (get_power_BCMP_obj.Cl_kappa_kappa_1h_mat + get_power_BCMP_obj.Cl_kappa_kappa_2h_mat)[jb1, jb2, :]\n",
    "                bin_combs_kk.append([jb1+1, jb2+1])                \n",
    "                if jb1 == jb2:\n",
    "                    neff_rad2_from_arcmin2 = neff_arcmin2_SN_bins[jb1] * (180 * 60./ jnp.pi)**2\n",
    "                    shape_noise_jb = ((sigma_epsilon_SN_bins[jb1]**2)/neff_rad2_from_arcmin2) * jnp.ones(len(l_array_survey))\n",
    "                    self.Cl_result_dict['kk']['bin_' + str(jb1+1) + '_' + str(jb2+1)]['noise_ellsurvey'] = shape_noise_jb\n",
    "                    self.Cl_result_dict['kk']['bin_' + str(jb1+1) + '_' + str(jb2+1)]['tot_plus_noise_ellsurvey'] = self.Cl_result_dict['kk']['bin_' + str(jb1+1) + '_' + str(jb2+1)]['tot_ellsurvey'] + shape_noise_jb\n",
    "                else:\n",
    "                    self.Cl_result_dict['kk']['bin_' + str(jb1+1) + '_' + str(jb2+1)]['tot_plus_noise_ellsurvey'] = self.Cl_result_dict['kk']['bin_' + str(jb1+1) + '_' + str(jb2+1)]['tot_ellsurvey']\n",
    "\n",
    "        self.Cl_result_dict['ky']['bin_combs'] = bin_combs_ky\n",
    "        self.Cl_result_dict['kk']['bin_combs'] = bin_combs_kk\n",
    "\n",
    "        ul_dict = {}\n",
    "        if do_interpolation:\n",
    "            log_uyl_interp = interpax.Interpolator3D(\n",
    "                jnp.log(setup_power_BCMP_obj.ell_array), setup_power_BCMP_obj.z_array, jnp.log(setup_power_BCMP_obj.M_array),\n",
    "                jnp.log(jnp.abs(setup_power_BCMP_obj.uyl_mat) + 1e-25)\n",
    "                )     \n",
    "            ul_dict['y_0'] = jnp.exp(log_uyl_interp(jnp.log(l_array_survey), setup_power_BCMP_obj.z_array, jnp.log(setup_power_BCMP_obj.M_array)))\n",
    "        else:\n",
    "            ul_dict['y_0'] = setup_power_BCMP_obj.uyl_mat\n",
    "\n",
    "        for jb in range(get_power_BCMP_obj.nbins):\n",
    "            if do_interpolation:\n",
    "                log_ukl_interp = interpax.Interpolator3D(\n",
    "                    jnp.log(setup_power_BCMP_obj.ell_array), setup_power_BCMP_obj.z_array, jnp.log(setup_power_BCMP_obj.M_array),\n",
    "                    jnp.log(jnp.abs(get_power_BCMP_obj.ukappa_l_for_cov[jb,...]) + 1e-25)\n",
    "                    )\n",
    "                ul_dict['k_' + str(jb+1)] = jnp.exp(log_ukl_interp(jnp.log(l_array_survey), setup_power_BCMP_obj.z_array, jnp.log(setup_power_BCMP_obj.M_array)))                \n",
    "            else:\n",
    "                ul_dict['k_' + str(jb+1)] = get_power_BCMP_obj.ukappa_l_for_cov[jb,...]\n",
    "\n",
    "            \n",
    "        if self.verbose:\n",
    "            print(list(self.Cl_result_dict['kk'].keys()))\n",
    "        if analysis_coords == 'real':\n",
    "            if self.verbose:\n",
    "                print('setting up realspace covariance')\n",
    "\n",
    "            isodd = 0\n",
    "            ell_temp = l_array_survey\n",
    "\n",
    "            if np.mod(len(ell_temp), 2) > 0:\n",
    "                isodd = 1\n",
    "                ell = ell_temp[:-1]\n",
    "            else:\n",
    "                ell = ell_temp\n",
    "            nl = len(ell)\n",
    "            dlnk = fac_ell_hres * np.log(ell[1] / ell[0])\n",
    "            ell_mat = np.tile(ell.reshape(nl, 1), (1, nl))\n",
    "            ell1_ell2 = ell_mat * ell_mat.T\n",
    "            self.fftcovtot_dict = {}\n",
    "\n",
    "        self.covG_dict = {}\n",
    "        self.covNG_dict = {}\n",
    "        self.covtot_dict = {}\n",
    "        if analysis_coords == 'real':\n",
    "            self.fftcovtot_dict = {}\n",
    "\n",
    "        for j in range(len(self.stats_analyze_pairs)):\n",
    "            stats_analyze_1, stats_analyze_2 = self.stats_analyze_pairs[j]\n",
    "            if self.verbose:\n",
    "                print('starting covariance of ' + str(stats_analyze_1) + ' and ' + str(stats_analyze_2))\n",
    "            if stats_analyze_1 in self.Cl_result_dict.keys():\n",
    "                stats_analyze_1_ordered = stats_analyze_1\n",
    "            else:\n",
    "                stats_analyze_1_ordered = list(stats_analyze_1)[1] + list(stats_analyze_1)[0]\n",
    "            bin_combs_stat1 = self.Cl_result_dict[stats_analyze_1_ordered]['bin_combs']\n",
    "            bins1_stat1 = []\n",
    "            bins2_stat1 = []\n",
    "            for jb in range(len(bin_combs_stat1)):\n",
    "                bins1_stat1.append(bin_combs_stat1[jb][0])\n",
    "                bins2_stat1.append(bin_combs_stat1[jb][1])\n",
    "\n",
    "            if stats_analyze_2 in self.Cl_result_dict.keys():\n",
    "                stats_analyze_2_ordered = stats_analyze_2\n",
    "            else:\n",
    "                stats_analyze_2_ordered = list(stats_analyze_2)[1] + list(stats_analyze_2)[0]\n",
    "            bin_combs_stat2 = self.Cl_result_dict[stats_analyze_2_ordered]['bin_combs']\n",
    "            bins1_stat2 = []\n",
    "            bins2_stat2 = []\n",
    "            for jb in range(len(bin_combs_stat2)):\n",
    "                bins1_stat2.append(bin_combs_stat2[jb][0])\n",
    "                bins2_stat2.append(bin_combs_stat2[jb][1])\n",
    "\n",
    "            covG_stat12 = {}\n",
    "            covNG_stat12 = {}\n",
    "            covtot_stat12 = {}\n",
    "            isgtykk, isgtygty, iskkkk, isgygy = False, False, False, False\n",
    "            if analysis_coords == 'real':\n",
    "                fftcovtot_stat12 = {}\n",
    "                fftmcovtot_stat12 = {}\n",
    "                fftpmcovtot_stat12 = {}\n",
    "                if (stats_analyze_1_ordered == 'ky') and (stats_analyze_2_ordered == 'ky'):\n",
    "                    gtfftcovtot_stat12 = {}\n",
    "                    isgtygty = True\n",
    "                # if (stats_analyze_1_ordered == 'gy') and (stats_analyze_2_ordered == 'gy'):\n",
    "                #     isgygy = True\n",
    "                if (stats_analyze_1_ordered == 'kk') and (stats_analyze_2_ordered == 'kk'):\n",
    "                    iskkkk = True\n",
    "                if ((stats_analyze_1_ordered == 'kk') and\n",
    "                    (stats_analyze_2_ordered\n",
    "                        == 'ky')) or ((stats_analyze_1_ordered == 'ky') and (stats_analyze_2_ordered == 'kk')):\n",
    "                    kkgtfftcovtot_stat12 = {}\n",
    "                    kkmgtfftcovtot_stat12 = {}\n",
    "                    isgtykk = True\n",
    "            bins_comb = []\n",
    "            for jb1 in range(len(bins1_stat1)):\n",
    "                for jb2 in range(len(bins1_stat2)):\n",
    "                    if self.verbose:\n",
    "                        print(\n",
    "                            stats_analyze_1_ordered, stats_analyze_2_ordered, bins1_stat1[jb1], bins2_stat1[jb1],\n",
    "                            bins1_stat2[jb2], bins2_stat2[jb2]\n",
    "                            )\n",
    "\n",
    "                    covG = self.get_cov_G(\n",
    "                        bins1_stat1[jb1], bins2_stat1[jb1], bins1_stat2[jb2], bins2_stat2[jb2],\n",
    "                        stats_analyze_1_ordered, stats_analyze_2_ordered, self.Cl_result_dict, self.fsky_dict\n",
    "                        )\n",
    "\n",
    "                    A, B = list(stats_analyze_1_ordered)\n",
    "                    C, D = list(stats_analyze_2_ordered)\n",
    "\n",
    "                    uAl_zM_dict = ul_dict[A + '_' + str(bins1_stat1[jb1])]\n",
    "                    uBl_zM_dict = ul_dict[B + '_' + str(bins2_stat1[jb1])]\n",
    "                    uCl_zM_dict = ul_dict[C + '_' + str(bins1_stat2[jb2])]\n",
    "                    uDl_zM_dict = ul_dict[D + '_' + str(bins2_stat2[jb2])]\n",
    "\n",
    "                    covNG = self.get_cov_NG(\n",
    "                        l_array_survey, stats_analyze_1_ordered, stats_analyze_2_ordered,\n",
    "                        False, self.fsky_dict, uAl_zM_dict, uBl_zM_dict, uCl_zM_dict, uDl_zM_dict,\n",
    "                        beam_fwhm_arcmin\n",
    "                        )\n",
    "\n",
    "                    covtot = covG + covNG\n",
    "                    # covtot = covG\n",
    "                    # covtot = covNG\n",
    "                    bin_key = 'bin_' + str(bins1_stat1[jb1]) + '_' + str(bins2_stat1[jb1]) + '_' + str(\n",
    "                        bins1_stat2[jb2]\n",
    "                        ) + '_' + str(bins2_stat2[jb2])\n",
    "                    covG_stat12[bin_key] = covG\n",
    "                    covNG_stat12[bin_key] = covNG\n",
    "                    covtot_stat12[bin_key] = covtot\n",
    "                    bins_comb.append([bins1_stat1[jb1], bins2_stat1[jb1], bins1_stat2[jb2], bins2_stat2[jb2]])\n",
    "                    if analysis_coords == 'real':\n",
    "                        if isodd:\n",
    "                            covtot_rs = covtot[:-1, :][:, :-1]\n",
    "                        else:\n",
    "                            covtot_rs = covtot\n",
    "                        newtwobessel = two_Bessel(\n",
    "                            ell,\n",
    "                            ell,\n",
    "                            covtot_rs * (ell1_ell2**2) * (1. / (4 * np.pi**2)),\n",
    "                            nu1=1.05,\n",
    "                            nu2=1.05,\n",
    "                            N_extrap_low=0,\n",
    "                            N_extrap_high=0,\n",
    "                            c_window_width=0.25,\n",
    "                            N_pad=32\n",
    "                            )\n",
    "                        t1, t2, cov_fft = newtwobessel.two_Bessel_binave(0, 0, dlnk, dlnk)\n",
    "                        theta_vals_arcmin_fft = (t1[:-1] + t1[1:]) / 2. / np.pi * 180 * 60\n",
    "                        cov_tot_fft = cov_fft[:, :-1][:-1, :]\n",
    "                        fftcovtot_stat12[bin_key] = cov_tot_fft\n",
    "                        # import pdb; pdb.set_trace()\n",
    "\n",
    "                        if iskkkk:\n",
    "                            t1, t2, cov_fft = newtwobessel.two_Bessel_binave(4, 4, dlnk, dlnk)\n",
    "                            theta_vals_arcmin_fft = (t1[:-1] + t1[1:]) / 2. / np.pi * 180 * 60\n",
    "                            cov_tot_fftm = cov_fft[:, :-1][:-1, :]\n",
    "                            fftmcovtot_stat12[bin_key] = cov_tot_fftm\n",
    "\n",
    "                            t1, t2, cov_fft = newtwobessel.two_Bessel_binave(4, 0, dlnk, dlnk)\n",
    "                            theta_vals_arcmin_fft = (t1[:-1] + t1[1:]) / 2. / np.pi * 180 * 60\n",
    "                            cov_tot_fftm = cov_fft[:, :-1][:-1, :]\n",
    "                            fftpmcovtot_stat12[bin_key] = cov_tot_fftm\n",
    "\n",
    "                        if isgtygty:\n",
    "                            t1, t2, covgt_fft = newtwobessel.two_Bessel_binave(2, 2, dlnk, dlnk)\n",
    "                            gtfftcovtot_stat12[bin_key] = covgt_fft[:, :-1][:-1, :]\n",
    "                            theta_vals_arcmin_fft = (t1[:-1] + t1[1:]) / 2. / np.pi * 180 * 60\n",
    "                            if 'theta' not in gtfftcovtot_stat12.keys():\n",
    "                                gtfftcovtot_stat12['theta'] = theta_vals_arcmin_fft\n",
    "\n",
    "                        if isgtykk:\n",
    "                            t1, t2, covgt_fft = newtwobessel.two_Bessel_binave(2, 0, dlnk, dlnk)\n",
    "                            kkgtfftcovtot_stat12[bin_key] = covgt_fft[:, :-1][:-1, :]\n",
    "                            theta_vals_arcmin_fft = (t1[:-1] + t1[1:]) / 2. / np.pi * 180 * 60\n",
    "                            if 'theta' not in kkgtfftcovtot_stat12.keys():\n",
    "                                kkgtfftcovtot_stat12['theta'] = theta_vals_arcmin_fft\n",
    "\n",
    "                            t1, t2, covgt_fft = newtwobessel.two_Bessel_binave(2, 4, dlnk, dlnk)\n",
    "                            kkmgtfftcovtot_stat12[bin_key] = covgt_fft[:, :-1][:-1, :]\n",
    "                            theta_vals_arcmin_fft = (t1[:-1] + t1[1:]) / 2. / np.pi * 180 * 60\n",
    "                            if 'theta' not in kkmgtfftcovtot_stat12.keys():\n",
    "                                kkmgtfftcovtot_stat12['theta'] = theta_vals_arcmin_fft\n",
    "                            \n",
    "                        if 'theta' not in fftcovtot_stat12.keys():\n",
    "                            fftcovtot_stat12['theta'] = theta_vals_arcmin_fft\n",
    "                        if 'theta' not in fftmcovtot_stat12.keys():\n",
    "                            fftmcovtot_stat12['theta'] = theta_vals_arcmin_fft\n",
    "                        if 'theta' not in fftpmcovtot_stat12.keys():\n",
    "                            fftpmcovtot_stat12['theta'] = theta_vals_arcmin_fft\n",
    "\n",
    "            covG_stat12['bins_comb'] = bins_comb\n",
    "            covNG_stat12['bins_comb'] = bins_comb\n",
    "            covtot_stat12['bins_comb'] = bins_comb\n",
    "            if analysis_coords == 'real':\n",
    "                fftcovtot_stat12['bins_comb'] = bins_comb\n",
    "                fftmcovtot_stat12['bins_comb'] = bins_comb\n",
    "                fftpmcovtot_stat12['bins_comb'] = bins_comb\n",
    "                if isgtygty:\n",
    "                    gtfftcovtot_stat12['bins_comb'] = bins_comb\n",
    "                    stat_analyze_key = 'gty_gty'\n",
    "                    self.fftcovtot_dict[stat_analyze_key] = gtfftcovtot_stat12\n",
    "\n",
    "                if isgtykk:\n",
    "                    kkgtfftcovtot_stat12['bins_comb'] = bins_comb\n",
    "                    if ((stats_analyze_1_ordered == 'kk') and (stats_analyze_2_ordered == 'ky')):\n",
    "                        stat_analyze_key1 = 'kk_gty'\n",
    "                        stat_analyze_key2 = 'kkm_gty'\n",
    "                    else:\n",
    "                        stat_analyze_key1 = 'gty_kk'\n",
    "                        stat_analyze_key2 = 'gty_kkm'\n",
    "\n",
    "                    self.fftcovtot_dict[stat_analyze_key1] = kkgtfftcovtot_stat12\n",
    "                    kkmgtfftcovtot_stat12['bins_comb'] = bins_comb\n",
    "                    self.fftcovtot_dict[stat_analyze_key2] = kkmgtfftcovtot_stat12\n",
    "\n",
    "                self.fftcovtot_dict[stats_analyze_1_ordered + '_' + stats_analyze_2_ordered] = fftcovtot_stat12\n",
    "                if iskkkk:\n",
    "                    self.fftcovtot_dict['kkm_kkm'] = fftmcovtot_stat12\n",
    "                    self.fftcovtot_dict['kk_kkm'] = fftpmcovtot_stat12\n",
    "\n",
    "            self.covG_dict[stats_analyze_1_ordered + '_' + stats_analyze_2_ordered] = covG_stat12\n",
    "            self.covNG_dict[stats_analyze_1_ordered + '_' + stats_analyze_2_ordered] = covNG_stat12\n",
    "            self.covtot_dict[stats_analyze_1_ordered + '_' + stats_analyze_2_ordered] = covtot_stat12\n",
    "\n",
    "\n",
    "    @partial(jit, static_argnums=(0,))\n",
    "    def get_uyl_intc(self, jz):\n",
    "        uyl_jl_jz = self.uyl_mat[:, :, jz, :]\n",
    "        cmean_jz = self.conc_Mz_mat[jz, :]\n",
    "        logc_array = jnp.log(self.conc_array)\n",
    "        sig_logc = self.sig_logc_z_array[jz]\n",
    "        conc_mat = jnp.tile(self.conc_array, (self.nell, self.nM, 1))\n",
    "        cmean_jz_mat = jnp.tile(cmean_jz, (self.nc, 1)).T\n",
    "        p_logc_Mz = jnp.exp(-0.5 * (jnp.log(conc_mat/cmean_jz_mat)/ sig_logc)**2) * (1.0/(sig_logc * jnp.sqrt(2*jnp.pi)))\n",
    "\n",
    "        fx = uyl_jl_jz.T * p_logc_Mz\n",
    "        uyl_intc = jsi.trapezoid(fx, x=logc_array)\n",
    "\n",
    "        return uyl_intc\n",
    "\n",
    "\n",
    "    def get_cov_G(\n",
    "            self, bin1_stat1, bin2_stat1, bin1_stat2, bin2_stat2, stats_analyze_1, stats_analyze_2, Cl_result_dict,\n",
    "            fsky_dict\n",
    "        ):\n",
    "\n",
    "        A, B = list(stats_analyze_1)\n",
    "        C, D = list(stats_analyze_2)\n",
    "        k_sum1 = (A == 'k') * (B == 'k')\n",
    "        k_sum2 = (C == 'k') * (D == 'k')\n",
    "        if k_sum1 == 1 and k_sum2 == 1:\n",
    "            iskk = 1\n",
    "        else:\n",
    "            iskk = 0\n",
    "        stats_pairs = [A + C, B + D, A + D, B + C]\n",
    "        bin_pairs = [\n",
    "            [bin1_stat1, bin1_stat2], [bin2_stat1, bin2_stat2], [bin1_stat1, bin2_stat2], [bin2_stat1, bin1_stat2]\n",
    "            ]\n",
    "        Cl_stats_dict = {}\n",
    "        Nl_stats_dict = {}\n",
    "\n",
    "        for j in range(len(stats_pairs)):\n",
    "            stat = stats_pairs[j]\n",
    "            bin_pair = bin_pairs[j]\n",
    "            bin_key = 'bin_' + str(bin_pair[0]) + '_' + str(bin_pair[1])\n",
    "            Atemp, Btemp = list(stat)\n",
    "            if Atemp == Btemp:\n",
    "                try:\n",
    "                    # Cl_temp = Cl_result_dict[stat][bin_key]['tot_plus_noise_ellsurvey']\n",
    "                    if iskk:\n",
    "                        Nl = Cl_result_dict[stat][bin_key]['tot_plus_noise_ellsurvey'] - Cl_result_dict[stat][bin_key][\n",
    "                            'tot_ellsurvey']\n",
    "                        Nl_stats_dict[j] = Nl\n",
    "                    \n",
    "                    Cl_stats_dict[j] = Cl_result_dict[stat][bin_key]['tot_plus_noise_ellsurvey']\n",
    "                except:\n",
    "                    bin_key = 'bin_' + str(bin_pair[1]) + '_' + str(bin_pair[0])\n",
    "                    if iskk:\n",
    "                        Nl = Cl_result_dict[stat][bin_key]['tot_plus_noise_ellsurvey'] - Cl_result_dict[stat][bin_key][\n",
    "                            'tot_ellsurvey']\n",
    "                        Nl_stats_dict[j] = Nl\n",
    "                    Cl_stats_dict[j] = Cl_result_dict[stat][bin_key]['tot_plus_noise_ellsurvey']\n",
    "            else:\n",
    "                try:\n",
    "                    Cl_stats_dict[j] = Cl_result_dict[stat][bin_key]['tot_plus_noise_ellsurvey']\n",
    "                except:\n",
    "                    bin_key = 'bin_' + str(bin_pair[1]) + '_' + str(bin_pair[0])\n",
    "                    Cl_stats_dict[j] = Cl_result_dict[Btemp + Atemp][bin_key]['tot_plus_noise_ellsurvey']\n",
    "\n",
    "        fsky_j = np.sqrt(fsky_dict[A + B] * fsky_dict[C + D])\n",
    "\n",
    "        to_mult = np.ones_like(Cl_result_dict['l_array_survey'])\n",
    "\n",
    "        if iskk:\n",
    "            #           if doing xi_plus or xi_minus, then add the shape noise due to BB correlations\n",
    "            Nl_BB = (bin1_stat1 == bin1_stat2) * (bin2_stat1 == bin2_stat2) * Nl_stats_dict[0] * Nl_stats_dict[\n",
    "                1] + (bin1_stat1 == bin2_stat2) * (bin2_stat1 == bin1_stat2) * Nl_stats_dict[2] * Nl_stats_dict[3]\n",
    "            val_diag = (\n",
    "                1. / (fsky_j * (2 * Cl_result_dict['l_array_survey'] + 1.) * Cl_result_dict['dl_array_survey'])\n",
    "                ) * (Cl_stats_dict[0] * Cl_stats_dict[1] + Cl_stats_dict[2] * Cl_stats_dict[3] + Nl_BB) * (to_mult**2)\n",
    "        else:\n",
    "            val_diag = (\n",
    "                1. / (fsky_j * (2 * Cl_result_dict['l_array_survey'] + 1.) * Cl_result_dict['dl_array_survey'])\n",
    "                ) * (Cl_stats_dict[0] * Cl_stats_dict[1] + Cl_stats_dict[2] * Cl_stats_dict[3]) * (to_mult**2)\n",
    "        return np.diag(val_diag)\n",
    "    \n",
    "    def get_cov_NG(\n",
    "            self, l_array_survey, stats_analyze_1, stats_analyze_2, use_only_halos, fsky_dict, uAl_zM_dict, uBl_zM_dict,\n",
    "            uCl_zM_dict, uDl_zM_dict, beam_fwhm_arcmin\n",
    "        ):\n",
    "        A, B = list(stats_analyze_1)\n",
    "        C, D = list(stats_analyze_2)\n",
    "\n",
    "        T_l_ABCD = self.get_T_ABCD_NG(\n",
    "            l_array_survey, A, B, C, D, uAl_zM_dict, uBl_zM_dict, uCl_zM_dict, uDl_zM_dict, beam_fwhm_arcmin\n",
    "            )\n",
    "        fsky_j = np.sqrt(fsky_dict[A + B] * fsky_dict[C + D])\n",
    "        val_NG = (1. / (4. * np.pi * fsky_j)) * T_l_ABCD\n",
    "\n",
    "        return val_NG    \n",
    "\n",
    "    def get_T_ABCD_NG(\n",
    "            self, l_array_all, A, B, C, D, uAl_zM_dict, uBl_zM_dict, uCl_zM_dict, uDl_zM_dict, beam_fwhm_arcmin\n",
    "        ):\n",
    "        nl = len(l_array_all)\n",
    "\n",
    "        ul_A_mat = np.abs(uAl_zM_dict)\n",
    "        ul_B_mat = np.abs(uBl_zM_dict)\n",
    "        ul_C_mat = np.abs(uCl_zM_dict)\n",
    "        ul_D_mat = np.abs(uDl_zM_dict)\n",
    "\n",
    "        uAl1_uBl1 = ul_A_mat * ul_B_mat\n",
    "        uCl2_uDl2 = ul_C_mat * ul_D_mat\n",
    "        uAl1_uBl1_mat = np.tile(uAl1_uBl1.reshape(1, nl, self.nz, self.nM), (nl, 1, 1, 1))\n",
    "        uCl2_uDl2_mat = np.tile(uCl2_uDl2.reshape(nl, 1, self.nz, self.nM), (1, nl, 1, 1))\n",
    "        \n",
    "        dndlnm_array_mat = np.tile(\n",
    "            self.dndlnM_z.reshape(1, 1, self.nz, self.nM), (nl, nl, 1, 1)\n",
    "            )\n",
    "        toint_M = (uAl1_uBl1_mat * uCl2_uDl2_mat) * dndlnm_array_mat\n",
    "        val_z = sp.integrate.simpson(toint_M, np.log(self.M_array))\n",
    "        chi2_array_mat = np.tile((self.chi_array**2).reshape(1, 1, self.nz), (nl, nl, 1))\n",
    "        dchi_dz_array_mat = np.tile(self.dchi_dz_array.reshape(1, 1, self.nz), (nl, nl, 1))\n",
    "        toint_z = val_z * chi2_array_mat * dchi_dz_array_mat\n",
    "        val = sp.integrate.simpson(toint_z, self.z_array)\n",
    "\n",
    "        return val    \n",
    "    \n",
    "    "
   ]
  },
  {
   "cell_type": "code",
   "execution_count": 13,
   "metadata": {},
   "outputs": [],
   "source": [
    "# ell_yy_tot\n",
    "# Cl_yy_tot\n"
   ]
  },
  {
   "cell_type": "code",
   "execution_count": 68,
   "metadata": {},
   "outputs": [],
   "source": [
    "# import math\n",
    "# log_Cl_yy_tot_interp = interpax.Interpolator1D(\n",
    "#     jnp.log(ell_yy_tot), jnp.log(Cl_yy_tot + 1e-25),  extrap=(math.log(Cl_yy_tot[0]), math.log(Cl_yy_tot[-1])))\n",
    "# Cl_yy_tot_new = jnp.exp(log_Cl_yy_tot_interp(jnp.log(l_array_survey)))\n"
   ]
  },
  {
   "cell_type": "code",
   "execution_count": 69,
   "metadata": {},
   "outputs": [],
   "source": [
    "# pl.figure()\n",
    "# pl.plot(ell_yy_tot, Cl_yy_tot)\n",
    "# pl.plot(l_array_survey, Cl_yy_tot_new)\n",
    "# pl.xscale('log')\n",
    "# pl.yscale('log')\n",
    "# pl.xlabel(r'$\\ell$')\n",
    "# pl.ylabel(r'$C_{\\ell}$')\n",
    "# pl.show()\n",
    "\n"
   ]
  },
  {
   "cell_type": "code",
   "execution_count": 70,
   "metadata": {},
   "outputs": [],
   "source": [
    "# np.log(l_array_survey)\n"
   ]
  },
  {
   "cell_type": "code",
   "execution_count": 14,
   "metadata": {},
   "outputs": [],
   "source": [
    "setup_power_BCMP_obj = setup_power_BCMP_NO_CONC(sim_params_dict, halo_params_dict, analysis_dict)            \n",
    "\n",
    "\n"
   ]
  },
  {
   "cell_type": "code",
   "execution_count": 15,
   "metadata": {},
   "outputs": [],
   "source": [
    "get_power_BCMP_obj = get_power_BCMP_NO_CONC(sim_params_dict, halo_params_dict, analysis_dict, other_params_dict, setup_power_BCMP_obj=setup_power_BCMP_obj)\n",
    "\n"
   ]
  },
  {
   "cell_type": "code",
   "execution_count": 342,
   "metadata": {},
   "outputs": [],
   "source": [
    "# from get_corr_func_jit import get_corrfunc_BCMP\n",
    "# get_corrfunc_BCMP_test = get_corrfunc_BCMP(sim_params_dict, halo_params_dict, analysis_dict, other_params_dict, verbose_time=False)\n",
    "\n"
   ]
  },
  {
   "cell_type": "code",
   "execution_count": 329,
   "metadata": {},
   "outputs": [],
   "source": [
    "# import scipy.interpolate as interp\n",
    "# import pickle as pk\n",
    "# jt_dv = 1\n",
    "# # cov_total = pk.load(open('/mnt/home/spandey/ceph/GODMAX/data/forecast/total_cov_gty_xip_xim_Y1.pk', 'rb'))['cov_total']\n",
    "# df_measure = pk.load(open(abs_path_data + '/DESxACT/DESxACT_gty_xip_xim_DV_ilc_SZ_yy.pk', 'rb'))\n",
    "# cov_total = df_measure['cov_total']\n",
    "# cov_gty = cov_total[0:80,0:80]\n",
    "\n",
    "# gty_data_to_plot = df_measure['xi_all'][60:80]\n",
    "# gty_sig_to_plot = jnp.sqrt(jnp.diag(cov_gty))[60:80]\n",
    "\n",
    "# C = cov_total[80:280,80:280]\n",
    "# bin1, bin2 = df_measure['bin1_all'][80:280], df_measure['bin2_all'][80:280]\n",
    "# indsel = np.where((bin1==4) & (bin2==4))[0]\n",
    "# xip_data_to_plot = df_measure['xi_all'][80:280][indsel]\n",
    "# xip_sig_to_plot = jnp.sqrt(jnp.diag(C))[indsel]\n",
    "\n",
    "# C = cov_total[280:480,280:480]\n",
    "# bin1, bin2 = df_measure['bin1_all'][280:480], df_measure['bin2_all'][280:480]\n",
    "# indsel = np.where((bin1==4) & (bin2==4))[0]\n",
    "# xim_data_to_plot = df_measure['xi_all'][280:480][indsel]\n",
    "# xim_sig_to_plot = jnp.sqrt(jnp.diag(C))[indsel]\n",
    "\n",
    "\n",
    "\n",
    "\n",
    "\n"
   ]
  },
  {
   "cell_type": "code",
   "execution_count": 330,
   "metadata": {},
   "outputs": [
    {
     "data": {
      "image/png": "[encoded data removed]",
      "text/plain": [
       "<Figure size 1500x400 with 3 Axes>"
      ]
     },
     "metadata": {},
     "output_type": "display_data"
    }
   ],
   "source": [
    "# pl.rc('text', usetex=True)\n",
    "# # make a three panel plot, plotting all the theta_ej curves for for gty_out_thetaej[:,3,:], xip_out_thetaej[:,3,3,:], xim_out_thetaej[:,3,3,:]\n",
    "# # draw theta_ej curves from a colormap\n",
    "# from matplotlib import cm, colorbar\n",
    "# from matplotlib.colors import Normalize\n",
    "# from matplotlib.cm import ScalarMappable\n",
    "\n",
    "# cmap = cm.get_cmap('coolwarm')  # or any other colormap you like\n",
    "# # create a normalize object the scales the input Mc0 value to the range [0,1]\n",
    "# # norm = Normalize(vmin=(theta_ej_array).min(), vmax=(theta_ej_array).max())\n",
    "# # analysis_dict_vary['angles_data_array'] = jnp.logspace(np.log10(0.5), np.log10(100), fac_th * len(theta_data))\n",
    "\n",
    "# pl.figure(figsize=(15,4))\n",
    "# # increase the distance between subplots:\n",
    "# pl.subplots_adjust(wspace=0.25)\n",
    "# pl.subplot(131)\n",
    "# color = 'r'\n",
    "# # for jM in tqdm(range(len(theta_ej_array))):\n",
    "#     # color = cmap(norm((theta_ej_array[jM])))\n",
    "# pl.plot(analysis_dict['angles_data_array'], 1e9*get_corrfunc_BCMP_test.gty_out_mat[:,3], color=color, alpha=1.0,lw=1.0)\n",
    "# # pl.legend()\n",
    "# # gty_sig_to_plot = np.sqrt(np.diag(DV.fftcovtot_dict['gty_gty']['bin_' + str(j1+1) + '_0_' + str(j2+1) + '_0'][ind_th_sel,:][:,ind_th_sel] ))\n",
    "# pl.errorbar(analysis_dict['angles_data_array'], 1e9*gty_data_to_plot, yerr=1e9*gty_sig_to_plot, fmt='o', color='k',label='data', ms=3.05)\n",
    "# pl.text(22, 1.05, r'shear$\\times$tSZ' + '\\n' + r'Bin 4$\\times y$', fontsize=14)\n",
    "# pl.xscale('log')\n",
    "# pl.xlim(2.0,100)\n",
    "# pl.ylim(0.0,1.6)\n",
    "# pl.ylabel(r'$10^9 \\xi_{\\gamma_t y}$', fontsize=15)\n",
    "# pl.xlabel(r'$\\theta$ (arcmin)', fontsize=15)\n",
    "# # set tick label sizes:\n",
    "# pl.tick_params(axis='both', which='major', labelsize=14)\n",
    "# pl.tick_params(axis='both', which='minor', labelsize=14)\n",
    "# # pl.title('1-halo term')\n",
    "# pl.subplot(132)\n",
    "# # for jM in tqdm(range(len(theta_ej_array))):\n",
    "#     # color = cmap(norm((theta_ej_array[jM])))\n",
    "#     # pl.plot(analysis_dict_vary['angles_data_array'], 1e4*xip_out_all[jM,:], color=color, alpha=1.0,lw=1.0)\n",
    "# pl.plot(analysis_dict['angles_data_array'], 1e4*get_corrfunc_BCMP_test.xip_out_mat[:,3,3]*analysis_dict['angles_data_array'], color=color, alpha=1.0,lw=1.0)    \n",
    "# # pl.errorbar(analysis_dict['angles_data_array'], 1e4*xip_data_to_plot, yerr=1e4*xip_sig_to_plot, fmt='o', color='k',label='data', ms=3.05)\n",
    "# pl.errorbar(analysis_dict['angles_data_array'], 1e4*xip_data_to_plot*analysis_dict['angles_data_array'], yerr=1e4*xip_sig_to_plot*analysis_dict['angles_data_array'], fmt='o', color='k',label='data', ms=3.05)\n",
    "# # pl.legend()\n",
    "# pl.text(3.25, 0.6, r'shear$\\times$shear' + '\\n' + '(Component 1)' + '\\n' + r'Bin $4 \\times 4$', fontsize=14)\n",
    "# pl.xscale('log')\n",
    "# # pl.yscale('log')\n",
    "# pl.xlim(2.0,100)\n",
    "# # pl.ylim(2.4,4.6)\n",
    "# pl.ylabel(r'$10^4 \\, \\theta \\, \\xi_+$', fontsize=15)\n",
    "# pl.xlabel(r'$\\theta$ (arcmin)', fontsize=15)\n",
    "# pl.tick_params(axis='both', which='major', labelsize=14)\n",
    "# pl.tick_params(axis='both', which='minor', labelsize=14)\n",
    "# # pl.title('2-halo term')\n",
    "# pl.subplot(133)\n",
    "# # for jM in tqdm(range(len(theta_ej_array))):\n",
    "# color = 'r'\n",
    "#     # pl.plot(analysis_dict_vary['angles_data_array'], 1e5*xim_out_all[jM,:], color=color, alpha=1.0,lw=1.0)\n",
    "# pl.plot(analysis_dict['angles_data_array'], 1e4*get_corrfunc_BCMP_test.xim_out_mat[:,3,3]*np.sqrt(analysis_dict['angles_data_array']), color=color, alpha=1.0,lw=1.0)    \n",
    "# # pl.errorbar(analysis_dict['angles_data_array'], 1e5*xim_data_to_plot, yerr=1e5*xim_sig_to_plot, fmt='o', color='k', label=r'LSST (Y1)$\\times$SO', ms=3.05)\n",
    "# pl.errorbar(analysis_dict['angles_data_array'], 1e4*xim_data_to_plot*np.sqrt(analysis_dict['angles_data_array']), yerr=1e4*xim_sig_to_plot*np.sqrt(analysis_dict['angles_data_array']), fmt='o', color='k', label=r'DES Y3 $\\times$ ACT DR6', ms=3.05)\n",
    "# pl.legend(loc='lower left', fontsize=14)\n",
    "# # pl.legend()\n",
    "# pl.xscale('log')\n",
    "# pl.text(20, 0.55, r'shear$\\times$shear' + '\\n' +'(Component 2)' + '\\n' + r'Bin $4 \\times 4$', fontsize=14)\n",
    "# # pl.yscale('log')\n",
    "# pl.xlim(2.3,100)\n",
    "# # pl.ylim(0.38,0.6)\n",
    "# pl.ylabel(r'$10^4 \\, \\sqrt{\\theta} \\, \\xi_-$', fontsize=15)\n",
    "# pl.xlabel(r'$\\theta$ (arcmin)', fontsize=15)\n",
    "# # pl.title('2-halo term')\n",
    "# pl.tick_params(axis='both', which='major', labelsize=14)\n",
    "# pl.tick_params(axis='both', which='minor', labelsize=14)\n",
    "# # create a ScalarMappable with the colormap and norm\n",
    "# # sm = ScalarMappable(cmap=cmap, norm=norm)\n",
    "# # the array is not used in this case, but normally the values used for the colormap are passed here\n",
    "# # sm.set_array([])\n",
    "# # add the colorbar to the figure\n",
    "# # cbar = pl.colorbar(sm, ax=pl.gcf().get_axes(), orientation='vertical', fraction=0.05, pad=0.01)\n",
    "# # cbar.set_label(r'$\\theta_{\\rm ej, 0}$', fontsize=16, rotation=270, labelpad=20)\n",
    "# # cbar.ax.tick_params(labelsize=15)\n",
    "# # pl.savefig('/mnt/home/spandey/ceph/GODMAX/notebooks/plots/forecast_dv_lssty1_so.pdf', bbox_inches='tight')\n",
    "\n",
    "\n",
    "\n",
    "\n"
   ]
  },
  {
   "cell_type": "code",
   "execution_count": 300,
   "metadata": {},
   "outputs": [
    {
     "data": {
      "image/png": "[encoded data removed]",
      "text/plain": [
       "<Figure size 640x480 with 1 Axes>"
      ]
     },
     "metadata": {},
     "output_type": "display_data"
    }
   ],
   "source": [
    "# setup_power_BCMP_obj.uyl_mat.shape\n",
    "jz = 0\n",
    "jM = 15\n",
    "pl.figure()\n",
    "pl.plot(l_array_survey, np.abs(setup_power_BCMP_obj.uyl_mat[:, jz, jM]))\n",
    "pl.xscale('log')\n",
    "pl.yscale('log')\n",
    "pl.xlabel(r'$\\ell$')\n",
    "pl.ylabel(r'$u_{\\ell}$')\n",
    "pl.show()\n",
    "\n"
   ]
  },
  {
   "cell_type": "code",
   "execution_count": 20,
   "metadata": {},
   "outputs": [
    {
     "name": "stdout",
     "output_type": "stream",
     "text": [
      "do_interpolation:  False\n"
     ]
    },
    {
     "name": "stderr",
     "output_type": "stream",
     "text": [
      "/tmp/ipykernel_328554/2813209991.py:551: DeprecationWarning: 'scipy.integrate.simps' is deprecated in favour of 'scipy.integrate.simpson' and will be removed in SciPy 1.14.0\n",
      "  val_z = sp.integrate.simps(toint_M, np.log(self.M_array))\n",
      "/tmp/ipykernel_328554/2813209991.py:555: DeprecationWarning: 'scipy.integrate.simps' is deprecated in favour of 'scipy.integrate.simpson' and will be removed in SciPy 1.14.0\n",
      "  val = sp.integrate.simps(toint_z, self.z_array)\n"
     ]
    }
   ],
   "source": [
    "DV = get_cov(sim_params_dict, halo_params_dict, analysis_dict, other_params_dict=other_params_dict, \n",
    "                  setup_power_BCMP_obj=setup_power_BCMP_obj, get_power_BCMP_obj=get_power_BCMP_obj, verbose_time=False)\n",
    "\n",
    "\n"
   ]
  },
  {
   "cell_type": "code",
   "execution_count": 43,
   "metadata": {},
   "outputs": [
    {
     "data": {
      "text/plain": [
       "array([[1.28650305e-35, 1.28613527e-35, 1.28257956e-35, ...,\n",
       "        2.39973396e-46, 1.43042933e-50, 3.68912273e-57],\n",
       "       [1.28613527e-35, 1.28576761e-35, 1.28221287e-35, ...,\n",
       "        2.39973390e-46, 1.43042926e-50, 3.68912247e-57],\n",
       "       [1.28257956e-35, 1.28221287e-35, 1.27868438e-35, ...,\n",
       "        2.39973281e-46, 1.43042875e-50, 3.68911950e-57],\n",
       "       ...,\n",
       "       [2.39973396e-46, 2.39973390e-46, 2.39973281e-46, ...,\n",
       "        5.38384375e-54, 3.31182074e-58, 8.74338497e-65],\n",
       "       [1.43042933e-50, 1.43042926e-50, 1.43042875e-50, ...,\n",
       "        3.31182074e-58, 2.04176601e-62, 5.39984412e-69],\n",
       "       [3.68912273e-57, 3.68912247e-57, 3.68911950e-57, ...,\n",
       "        8.74338497e-65, 5.39984412e-69, 1.43008970e-75]])"
      ]
     },
     "execution_count": 43,
     "metadata": {},
     "output_type": "execute_result"
    }
   ],
   "source": [
    "\n",
    "\n"
   ]
  },
  {
   "cell_type": "code",
   "execution_count": 32,
   "metadata": {},
   "outputs": [],
   "source": [
    "# Cl_yy_theory = DV.Cl_result_dict['yy']['bin_0_0']['tot_ellsurvey']\n",
    "# Cl_yy_measure = DV.Cl_result_dict['yy']['bin_0_0']['tot_plus_noise_ellsurvey']\n",
    "\n",
    "# prefac = l_array_survey * (l_array_survey+1) / (2*np.pi)\n",
    "# pl.figure()\n",
    "# pl.plot(l_array_survey, prefac*Cl_yy_theory)\n",
    "# pl.plot(l_array_survey, prefac*Cl_yy_measure)\n",
    "# pl.xscale('log')\n",
    "# # pl.yscale('log')\n",
    "# pl.xlabel(r'$\\ell$')\n",
    "# pl.ylim(1e-21, 2e-11)\n",
    "# pl.ylabel(r'$C_{\\ell, \\ell}$')\n",
    "# pl.show()\n"
   ]
  },
  {
   "cell_type": "code",
   "execution_count": 21,
   "metadata": {},
   "outputs": [
    {
     "ename": "FileNotFoundError",
     "evalue": "[Errno 2] No such file or directory: '/Users/shivam/Downloads/DESxACT_gty_xip_xim_DV_ilc_SZ_deproj_cib_cibdBeta_1.7_10.7_yy.pk'",
     "output_type": "error",
     "traceback": [
      "\u001b[0;31m---------------------------------------------------------------------------\u001b[0m",
      "\u001b[0;31mFileNotFoundError\u001b[0m                         Traceback (most recent call last)",
      "Cell \u001b[0;32mIn[21], line 10\u001b[0m\n\u001b[1;32m      5\u001b[0m cov_xim_b44 \u001b[38;5;241m=\u001b[39m DV\u001b[38;5;241m.\u001b[39mfftcovtot_dict[\u001b[38;5;124m'\u001b[39m\u001b[38;5;124mkkm_kkm\u001b[39m\u001b[38;5;124m'\u001b[39m][\u001b[38;5;124m'\u001b[39m\u001b[38;5;124mbin_4_4_4_4\u001b[39m\u001b[38;5;124m'\u001b[39m][ind_th_sel,:][:, ind_th_sel]\n\u001b[1;32m      6\u001b[0m \u001b[38;5;66;03m# DV.fftcovtot_dict['kk_kk']['bin_4_4_4_4'].shape\u001b[39;00m\n\u001b[1;32m      7\u001b[0m \u001b[38;5;66;03m# cov_all.Cl_result_dict['yy']['bin_' + '0_0']['tot_plus_noise_ellsurvey']\u001b[39;00m\n\u001b[1;32m      8\u001b[0m \u001b[38;5;66;03m# cov_all.Cl_result_dict['yy']['bin_' + '0_0']['tot_ellsurvey']\u001b[39;00m\n\u001b[1;32m      9\u001b[0m \u001b[38;5;66;03m# DV.fftcovtot_dict.keys()\u001b[39;00m\n\u001b[0;32m---> 10\u001b[0m df \u001b[38;5;241m=\u001b[39m pk\u001b[38;5;241m.\u001b[39mload(\u001b[38;5;28;43mopen\u001b[39;49m\u001b[43m(\u001b[49m\u001b[38;5;124;43m'\u001b[39;49m\u001b[38;5;124;43m/Users/shivam/Downloads/DESxACT_gty_xip_xim_DV_ilc_SZ_deproj_cib_cibdBeta_1.7_10.7_yy.pk\u001b[39;49m\u001b[38;5;124;43m'\u001b[39;49m\u001b[43m,\u001b[49m\u001b[38;5;124;43m'\u001b[39;49m\u001b[38;5;124;43mrb\u001b[39;49m\u001b[38;5;124;43m'\u001b[39;49m\u001b[43m)\u001b[49m)\n\u001b[1;32m     11\u001b[0m cov_tot_xim \u001b[38;5;241m=\u001b[39m df[\u001b[38;5;124m'\u001b[39m\u001b[38;5;124mcov_total\u001b[39m\u001b[38;5;124m'\u001b[39m][\u001b[38;5;241m460\u001b[39m:\u001b[38;5;241m480\u001b[39m, :][:, \u001b[38;5;241m460\u001b[39m:\u001b[38;5;241m480\u001b[39m]\n\u001b[1;32m     12\u001b[0m cov_tot_xip \u001b[38;5;241m=\u001b[39m df[\u001b[38;5;124m'\u001b[39m\u001b[38;5;124mcov_total\u001b[39m\u001b[38;5;124m'\u001b[39m][\u001b[38;5;241m260\u001b[39m:\u001b[38;5;241m280\u001b[39m, :][:, \u001b[38;5;241m260\u001b[39m:\u001b[38;5;241m280\u001b[39m]\n",
      "File \u001b[0;32m~/miniconda3/envs/ili-sbi/lib/python3.10/site-packages/IPython/core/interactiveshell.py:286\u001b[0m, in \u001b[0;36m_modified_open\u001b[0;34m(file, *args, **kwargs)\u001b[0m\n\u001b[1;32m    279\u001b[0m \u001b[38;5;28;01mif\u001b[39;00m file \u001b[38;5;129;01min\u001b[39;00m {\u001b[38;5;241m0\u001b[39m, \u001b[38;5;241m1\u001b[39m, \u001b[38;5;241m2\u001b[39m}:\n\u001b[1;32m    280\u001b[0m     \u001b[38;5;28;01mraise\u001b[39;00m \u001b[38;5;167;01mValueError\u001b[39;00m(\n\u001b[1;32m    281\u001b[0m         \u001b[38;5;124mf\u001b[39m\u001b[38;5;124m\"\u001b[39m\u001b[38;5;124mIPython won\u001b[39m\u001b[38;5;124m'\u001b[39m\u001b[38;5;124mt let you open fd=\u001b[39m\u001b[38;5;132;01m{\u001b[39;00mfile\u001b[38;5;132;01m}\u001b[39;00m\u001b[38;5;124m by default \u001b[39m\u001b[38;5;124m\"\u001b[39m\n\u001b[1;32m    282\u001b[0m         \u001b[38;5;124m\"\u001b[39m\u001b[38;5;124mas it is likely to crash IPython. If you know what you are doing, \u001b[39m\u001b[38;5;124m\"\u001b[39m\n\u001b[1;32m    283\u001b[0m         \u001b[38;5;124m\"\u001b[39m\u001b[38;5;124myou can use builtins\u001b[39m\u001b[38;5;124m'\u001b[39m\u001b[38;5;124m open.\u001b[39m\u001b[38;5;124m\"\u001b[39m\n\u001b[1;32m    284\u001b[0m     )\n\u001b[0;32m--> 286\u001b[0m \u001b[38;5;28;01mreturn\u001b[39;00m \u001b[43mio_open\u001b[49m\u001b[43m(\u001b[49m\u001b[43mfile\u001b[49m\u001b[43m,\u001b[49m\u001b[43m \u001b[49m\u001b[38;5;241;43m*\u001b[39;49m\u001b[43margs\u001b[49m\u001b[43m,\u001b[49m\u001b[43m \u001b[49m\u001b[38;5;241;43m*\u001b[39;49m\u001b[38;5;241;43m*\u001b[39;49m\u001b[43mkwargs\u001b[49m\u001b[43m)\u001b[49m\n",
      "\u001b[0;31mFileNotFoundError\u001b[0m: [Errno 2] No such file or directory: '/Users/shivam/Downloads/DESxACT_gty_xip_xim_DV_ilc_SZ_deproj_cib_cibdBeta_1.7_10.7_yy.pk'"
     ]
    }
   ],
   "source": [
    "# cov_all.fftcovtot_dict['gty_gty']['bin_1_0_1_0'].shape\n",
    "import pickle as pk\n",
    "ind_th_sel = np.where( (DV.fftcovtot_dict['ky_ky']['theta'] > 2.5) & (DV.fftcovtot_dict['ky_ky']['theta'] < 250.0))[0]\n",
    "cov_xip_b44 = DV.fftcovtot_dict['kk_kk']['bin_4_4_4_4'][ind_th_sel,:][:, ind_th_sel]\n",
    "cov_xim_b44 = DV.fftcovtot_dict['kkm_kkm']['bin_4_4_4_4'][ind_th_sel,:][:, ind_th_sel]\n",
    "# DV.fftcovtot_dict['kk_kk']['bin_4_4_4_4'].shape\n",
    "# cov_all.Cl_result_dict['yy']['bin_' + '0_0']['tot_plus_noise_ellsurvey']\n",
    "# cov_all.Cl_result_dict['yy']['bin_' + '0_0']['tot_ellsurvey']\n",
    "# DV.fftcovtot_dict.keys()\n",
    "df = pk.load(open('/Users/shivam/Downloads/DESxACT_gty_xip_xim_DV_ilc_SZ_deproj_cib_cibdBeta_1.7_10.7_yy.pk','rb'))\n",
    "cov_tot_xim = df['cov_total'][460:480, :][:, 460:480]\n",
    "cov_tot_xip = df['cov_total'][260:280, :][:, 260:280]\n"
   ]
  },
  {
   "cell_type": "code",
   "execution_count": 110,
   "metadata": {},
   "outputs": [
    {
     "data": {
      "text/plain": [
       "<matplotlib.colorbar.Colorbar at 0x3a5023500>"
      ]
     },
     "execution_count": 110,
     "metadata": {},
     "output_type": "execute_result"
    },
    {
     "data": {
      "image/png": "[encoded data removed]",
      "text/plain": [
       "<Figure size 640x480 with 2 Axes>"
      ]
     },
     "metadata": {},
     "output_type": "display_data"
    }
   ],
   "source": [
    "# cov_xim_b44.shape\n",
    "# cov_tot_xim\n",
    "cov_gty_xip_b44 = DV.fftcovtot_dict['gty_kk']['bin_4_0_4_4'][ind_th_sel,:][:, ind_th_sel]\n",
    "pl.figure()\n",
    "# pl.imshow(cov_tot)\n",
    "# pl.imshow(np.log(cov_tot_xip))\n",
    "pl.imshow((cov_gty_xip_b44))\n",
    "pl.colorbar()\n",
    "\n"
   ]
  },
  {
   "cell_type": "code",
   "execution_count": 107,
   "metadata": {},
   "outputs": [
    {
     "data": {
      "text/plain": [
       "dict_keys(['gty_gty', 'ky_ky', 'gty_kk', 'gty_kkm', 'ky_kk', 'kk_kk', 'kkm_kkm', 'kk_kkm'])"
      ]
     },
     "execution_count": 107,
     "metadata": {},
     "output_type": "execute_result"
    }
   ],
   "source": [
    "# DV.fftcovtot_dict.keys()\n"
   ]
  },
  {
   "cell_type": "code",
   "execution_count": 106,
   "metadata": {},
   "outputs": [
    {
     "data": {
      "text/plain": [
       "<matplotlib.colorbar.Colorbar at 0x3a43b7bc0>"
      ]
     },
     "execution_count": 106,
     "metadata": {},
     "output_type": "execute_result"
    },
    {
     "data": {
      "image/png": "[encoded data removed]",
      "text/plain": [
       "<Figure size 640x480 with 2 Axes>"
      ]
     },
     "metadata": {},
     "output_type": "display_data"
    }
   ],
   "source": [
    "pl.figure()\n",
    "# pl.imshow(cov_tot)\n",
    "# pl.imshow(np.log(cov_tot_xip))\n",
    "pl.imshow(np.log(cov_tot_xim))\n",
    "pl.colorbar()\n"
   ]
  },
  {
   "cell_type": "code",
   "execution_count": 105,
   "metadata": {},
   "outputs": [
    {
     "name": "stderr",
     "output_type": "stream",
     "text": [
      "/var/folders/pq/42sn_xl53138x3_lbnjsvvjr0000gn/T/ipykernel_2974/2319061889.py:3: RuntimeWarning: invalid value encountered in log\n",
      "  pl.imshow(np.log(cov_xim_b44))\n"
     ]
    },
    {
     "data": {
      "text/plain": [
       "<matplotlib.colorbar.Colorbar at 0x3a43b75c0>"
      ]
     },
     "execution_count": 105,
     "metadata": {},
     "output_type": "execute_result"
    },
    {
     "data": {
      "image/png": "[encoded data removed]",
      "text/plain": [
       "<Figure size 640x480 with 2 Axes>"
      ]
     },
     "metadata": {},
     "output_type": "display_data"
    }
   ],
   "source": [
    "pl.figure()\n",
    "# pl.imshow(np.log(cov_xip_b44))\n",
    "pl.imshow(np.log(cov_xim_b44))\n",
    "pl.colorbar()\n"
   ]
  },
  {
   "cell_type": "code",
   "execution_count": 225,
   "metadata": {},
   "outputs": [],
   "source": [
    "# cov_xip_b44\n"
   ]
  },
  {
   "cell_type": "code",
   "execution_count": 237,
   "metadata": {},
   "outputs": [],
   "source": [
    "import pickle as pk\n",
    "df = pk.load(open('/Users/shivam/Downloads/DESxACT_gty_xip_xim_DV_ilc_SZ_deproj_cib_cibdBeta_1.7_10.7_yy.pk','rb'))\n"
   ]
  },
  {
   "cell_type": "code",
   "execution_count": 238,
   "metadata": {},
   "outputs": [
    {
     "ename": "ValueError",
     "evalue": "could not broadcast input array from shape (46,46) into shape (20,20)",
     "output_type": "error",
     "traceback": [
      "\u001b[0;31m---------------------------------------------------------------------------\u001b[0m",
      "\u001b[0;31mValueError\u001b[0m                                Traceback (most recent call last)",
      "Cell \u001b[0;32mIn[238], line 10\u001b[0m\n\u001b[1;32m      8\u001b[0m \u001b[38;5;28;01mfor\u001b[39;00m j1 \u001b[38;5;129;01min\u001b[39;00m \u001b[38;5;28mrange\u001b[39m(nbins):\n\u001b[1;32m      9\u001b[0m     \u001b[38;5;28;01mfor\u001b[39;00m j2 \u001b[38;5;129;01min\u001b[39;00m \u001b[38;5;28mrange\u001b[39m(nbins):\n\u001b[0;32m---> 10\u001b[0m         \u001b[43mcov_gty_gty\u001b[49m\u001b[43m[\u001b[49m\u001b[43mntheta_bin\u001b[49m\u001b[38;5;241;43m*\u001b[39;49m\u001b[43mj1\u001b[49m\u001b[43m:\u001b[49m\u001b[43mntheta_bin\u001b[49m\u001b[38;5;241;43m*\u001b[39;49m\u001b[43m(\u001b[49m\u001b[43mj1\u001b[49m\u001b[38;5;241;43m+\u001b[39;49m\u001b[38;5;241;43m1\u001b[39;49m\u001b[43m)\u001b[49m\u001b[43m,\u001b[49m\u001b[43mntheta_bin\u001b[49m\u001b[38;5;241;43m*\u001b[39;49m\u001b[43mj2\u001b[49m\u001b[43m:\u001b[49m\u001b[43mntheta_bin\u001b[49m\u001b[38;5;241;43m*\u001b[39;49m\u001b[43m(\u001b[49m\u001b[43mj2\u001b[49m\u001b[38;5;241;43m+\u001b[39;49m\u001b[38;5;241;43m1\u001b[39;49m\u001b[43m)\u001b[49m\u001b[43m]\u001b[49m \u001b[38;5;241m=\u001b[39m DV\u001b[38;5;241m.\u001b[39mfftcovtot_dict[\u001b[38;5;124m'\u001b[39m\u001b[38;5;124mgty_gty\u001b[39m\u001b[38;5;124m'\u001b[39m][\u001b[38;5;124m'\u001b[39m\u001b[38;5;124mbin_\u001b[39m\u001b[38;5;124m'\u001b[39m \u001b[38;5;241m+\u001b[39m \u001b[38;5;28mstr\u001b[39m(j1\u001b[38;5;241m+\u001b[39m\u001b[38;5;241m1\u001b[39m) \u001b[38;5;241m+\u001b[39m \u001b[38;5;124m'\u001b[39m\u001b[38;5;124m_0_\u001b[39m\u001b[38;5;124m'\u001b[39m \u001b[38;5;241m+\u001b[39m \u001b[38;5;28mstr\u001b[39m(j2\u001b[38;5;241m+\u001b[39m\u001b[38;5;241m1\u001b[39m) \u001b[38;5;241m+\u001b[39m \u001b[38;5;124m'\u001b[39m\u001b[38;5;124m_0\u001b[39m\u001b[38;5;124m'\u001b[39m][ind_th_sel,:][:,ind_th_sel]   \n",
      "\u001b[0;31mValueError\u001b[0m: could not broadcast input array from shape (46,46) into shape (20,20)"
     ]
    }
   ],
   "source": [
    "nbins = 4\n",
    "# ntheta_bin = 20\n",
    "ind_th_sel = np.where( (DV.fftcovtot_dict['gty_gty']['theta'] > 2.5) & (DV.fftcovtot_dict['gty_gty']['theta'] < 250.0))[0]\n",
    "# cov_gty_gty = np.zeros((ntheta_bin*nbins,ntheta_bin*nbins))\n",
    "# ldir = '/global/cfs/cdirs/lsst/www/shivamp/cosmosis-standard-library/ACTxDESY3/src/run_measurements/results_27Jan24/'\n",
    "\n",
    "jstart = 0\n",
    "for j1 in range(nbins):\n",
    "    for j2 in range(nbins):\n",
    "        cov_gty_gty[ntheta_bin*j1:ntheta_bin*(j1+1),ntheta_bin*j2:ntheta_bin*(j2+1)] = DV.fftcovtot_dict['gty_gty']['bin_' + str(j1+1) + '_0_' + str(j2+1) + '_0'][ind_th_sel,:][:,ind_th_sel]   \n"
   ]
  },
  {
   "cell_type": "code",
   "execution_count": 92,
   "metadata": {},
   "outputs": [
    {
     "data": {
      "text/plain": [
       "<matplotlib.colorbar.Colorbar at 0x3a340fbc0>"
      ]
     },
     "execution_count": 92,
     "metadata": {},
     "output_type": "execute_result"
    },
    {
     "data": {
      "image/png": "[encoded data removed]",
      "text/plain": [
       "<Figure size 640x480 with 2 Axes>"
      ]
     },
     "metadata": {},
     "output_type": "display_data"
    }
   ],
   "source": [
    "ind_th_sel = np.where( (DV.fftcovtot_dict['ky_ky']['theta'] > 2.5) & (DV.fftcovtot_dict['ky_ky']['theta'] < 250.0))[0]\n",
    "j1 = 3\n",
    "j2 = 3\n",
    "cov_gty_gty = DV.fftcovtot_dict['gty_gty']['bin_' + str(j1+1) + '_0_' + str(j2+1) + '_0'][ind_th_sel,:][:,ind_th_sel]   \n",
    "pl.figure()\n",
    "# pl.imshow(np.log(np.abs(cov_gty_gty)))\n",
    "pl.imshow((cov_gty_gty))\n",
    "pl.colorbar()\n",
    "# pl.show()\n",
    "# pl.xlim(0,10)\n",
    "# pl.ylim(0,10)\n"
   ]
  },
  {
   "cell_type": "code",
   "execution_count": 327,
   "metadata": {},
   "outputs": [
    {
     "data": {
      "text/plain": [
       "<matplotlib.colorbar.Colorbar at 0xd07cb6ff0>"
      ]
     },
     "execution_count": 327,
     "metadata": {},
     "output_type": "execute_result"
    },
    {
     "data": {
      "image/png": "[encoded data removed]",
      "text/plain": [
       "<Figure size 640x480 with 2 Axes>"
      ]
     },
     "metadata": {},
     "output_type": "display_data"
    }
   ],
   "source": [
    "import pickle as pk\n",
    "df = pk.load(open('/Users/shivam/Downloads/DESxACT_gty_xip_xim_DV_ilc_SZ_deproj_cib_cibdBeta_1.7_10.7_yy.pk','rb'))\n",
    "# df.keys()\n",
    "cov_tot = df['cov_total'][60:80, 60:80]\n",
    "\n",
    "pl.figure()\n",
    "pl.imshow((cov_tot))\n",
    "pl.colorbar()\n"
   ]
  },
  {
   "cell_type": "code",
   "execution_count": 206,
   "metadata": {},
   "outputs": [],
   "source": [
    "# np.linalg.cond(cov_gty_gty)\n",
    "import pickle as pk\n",
    "df = pk.load(open('/Users/shivam/Downloads/DESxACT_gty_xip_xim_DV_ilc_SZ_deproj_cib_cibdBeta_1.7_10.7_yy.pk','rb'))\n",
    "# df.keys()\n",
    "cov_tot = df['cov_total'][0:80, 0:80]\n",
    "\n"
   ]
  },
  {
   "cell_type": "code",
   "execution_count": 207,
   "metadata": {},
   "outputs": [
    {
     "data": {
      "text/plain": [
       "<matplotlib.colorbar.Colorbar at 0x362c83590>"
      ]
     },
     "execution_count": 207,
     "metadata": {},
     "output_type": "execute_result"
    },
    {
     "data": {
      "image/png": "[encoded data removed]",
      "text/plain": [
       "<Figure size 640x480 with 2 Axes>"
      ]
     },
     "metadata": {},
     "output_type": "display_data"
    }
   ],
   "source": [
    "# a1 = np.arange(5)\n",
    "# a2 = np.arange(5)\n",
    "# np.allclose(a1, a2)\n",
    "pl.figure()\n",
    "pl.imshow((cov_tot))\n",
    "pl.colorbar()\n"
   ]
  },
  {
   "cell_type": "code",
   "execution_count": 170,
   "metadata": {},
   "outputs": [],
   "source": [
    "\n",
    "\n",
    "\n",
    "\n",
    "\n",
    "\n",
    "\n",
    "\n"
   ]
  },
  {
   "cell_type": "code",
   "execution_count": null,
   "metadata": {},
   "outputs": [],
   "source": []
  },
  {
   "cell_type": "code",
   "execution_count": 5,
   "metadata": {},
   "outputs": [],
   "source": [
    "# %reset\n",
    "# import get_marked2pt as m2pt\n",
    "import numpy as np\n",
    "import matplotlib\n",
    "import matplotlib.pyplot as plt\n",
    "import scipy as sp\n",
    "import os\n",
    "from astropy.io import fits\n",
    "import dill\n",
    "import sys, os\n",
    "sys.path.insert(0, '/Users/shivam/Library/CloudStorage/Dropbox/research/cosmosis_code/')\n",
    "# import camb\n",
    "# import LSS_funcs as ghmf\n",
    "# import general_funcs as gnf\n",
    "# matplotlib.rcParams['text.usetex'] = True\n",
    "# matplotlib.rcParams['text.latex.unicode'] = True\n",
    "font = {'size': 18}\n",
    "matplotlib.rc('font', **font)\n",
    "# plt.rc('text', usetex=False)\n",
    "# plt.rc('font', family='DejaVu Serif')\n",
    "\n"
   ]
  },
  {
   "cell_type": "code",
   "execution_count": 35,
   "metadata": {},
   "outputs": [],
   "source": [
    "df_name = '/Users/shivam/Downloads/DV_DES_ACT_v1_ky_only_deproj_None_v0_NONGAUSSIANONLY_TEST_GODMAX.pk'\n",
    "DV_NG = dill.load(open(df_name,'rb'))['DV']\n",
    "\n",
    "df_name = '/Users/shivam/Downloads/DV_DES_ACT_v1_ky_only_deproj_None_v0_GAUSSIANONLY_TEST_GODMAX.pk'\n",
    "DV_G = dill.load(open(df_name,'rb'))['DV']\n",
    "\n",
    "\n"
   ]
  },
  {
   "cell_type": "code",
   "execution_count": 38,
   "metadata": {},
   "outputs": [
    {
     "data": {
      "text/plain": [
       "dict_keys([1.1, 1.4, 1.8, 2.3, 2.8, 3.6, 4.5, 5.7, 7.1, 9.0, 11.3, 14.2, 17.9, 22.5, 28.4, 35.7, 45.0, 56.6, 71.3, 89.7, 112.9, 142.2, 179.0, 225.4, 283.7, 357.2, 449.6, 566.1, 712.6, 897.2, 1129.5, 1421.9, 1790.1, 2253.6, 2837.1, 3571.7, 4496.5, 5660.7, 7126.4, 8971.6, 11294.6, 14219.1, 17900.8])"
      ]
     },
     "execution_count": 38,
     "metadata": {},
     "output_type": "execute_result"
    }
   ],
   "source": [
    "DV_NG.PrepDV.uyl_zM_dict.keys()\n",
    "# DV_NG.PrepDV.uyl_zM_dict[112.9]\n"
   ]
  },
  {
   "cell_type": "code",
   "execution_count": 24,
   "metadata": {},
   "outputs": [
    {
     "data": {
      "text/plain": [
       "<matplotlib.colorbar.Colorbar at 0x31f1cd3a0>"
      ]
     },
     "execution_count": 24,
     "metadata": {},
     "output_type": "execute_result"
    },
    {
     "data": {
      "image/png": "[encoded data removed]",
      "text/plain": [
       "<Figure size 640x480 with 2 Axes>"
      ]
     },
     "metadata": {},
     "output_type": "display_data"
    }
   ],
   "source": [
    "ind_th_sel = np.where( (DV_NG.fftcovtot_dict['ky_ky']['theta'] > 2.5) & (DV_NG.fftcovtot_dict['ky_ky']['theta'] < 250.0))[0]\n",
    "plt.figure()\n",
    "plt.imshow(DV_NG.fftcovtot_dict['gty_gty']['bin_4_0_4_0'][ind_th_sel, :][:, ind_th_sel], origin='lower')\n",
    "plt.colorbar()\n"
   ]
  },
  {
   "cell_type": "code",
   "execution_count": 25,
   "metadata": {},
   "outputs": [
    {
     "data": {
      "text/plain": [
       "<matplotlib.colorbar.Colorbar at 0x31f1a7bc0>"
      ]
     },
     "execution_count": 25,
     "metadata": {},
     "output_type": "execute_result"
    },
    {
     "data": {
      "image/png": "[encoded data removed]",
      "text/plain": [
       "<Figure size 640x480 with 2 Axes>"
      ]
     },
     "metadata": {},
     "output_type": "display_data"
    }
   ],
   "source": [
    "plt.figure()\n",
    "plt.imshow(DV_G.fftcovtot_dict['gty_gty']['bin_4_0_4_0'][ind_th_sel, :][:, ind_th_sel], origin='lower')\n",
    "plt.colorbar()\n"
   ]
  },
  {
   "cell_type": "code",
   "execution_count": 88,
   "metadata": {},
   "outputs": [
    {
     "data": {
      "text/plain": [
       "array([[7.26258554e-23, 0.00000000e+00, 0.00000000e+00, ...,\n",
       "        0.00000000e+00, 0.00000000e+00, 0.00000000e+00],\n",
       "       [0.00000000e+00, 4.76828146e-23, 0.00000000e+00, ...,\n",
       "        0.00000000e+00, 0.00000000e+00, 0.00000000e+00],\n",
       "       [0.00000000e+00, 0.00000000e+00, 3.03656199e-23, ...,\n",
       "        0.00000000e+00, 0.00000000e+00, 0.00000000e+00],\n",
       "       ...,\n",
       "       [0.00000000e+00, 0.00000000e+00, 0.00000000e+00, ...,\n",
       "        1.57898388e-34, 0.00000000e+00, 0.00000000e+00],\n",
       "       [0.00000000e+00, 0.00000000e+00, 0.00000000e+00, ...,\n",
       "        0.00000000e+00, 9.96232005e-35, 0.00000000e+00],\n",
       "       [0.00000000e+00, 0.00000000e+00, 0.00000000e+00, ...,\n",
       "        0.00000000e+00, 0.00000000e+00, 6.28565455e-35]])"
      ]
     },
     "execution_count": 88,
     "metadata": {},
     "output_type": "execute_result"
    }
   ],
   "source": [
    "DV.covG_dict['ky_ky']['bin_4_0_4_0']\n"
   ]
  },
  {
   "cell_type": "code",
   "execution_count": 89,
   "metadata": {},
   "outputs": [
    {
     "data": {
      "text/plain": [
       "array([[8.43017698e-23, 0.00000000e+00, 0.00000000e+00, ...,\n",
       "        0.00000000e+00, 0.00000000e+00, 0.00000000e+00],\n",
       "       [0.00000000e+00, 5.90087734e-23, 0.00000000e+00, ...,\n",
       "        0.00000000e+00, 0.00000000e+00, 0.00000000e+00],\n",
       "       [0.00000000e+00, 0.00000000e+00, 3.95282956e-23, ...,\n",
       "        0.00000000e+00, 0.00000000e+00, 0.00000000e+00],\n",
       "       ...,\n",
       "       [0.00000000e+00, 0.00000000e+00, 0.00000000e+00, ...,\n",
       "        4.83824053e-42, 0.00000000e+00, 0.00000000e+00],\n",
       "       [0.00000000e+00, 0.00000000e+00, 0.00000000e+00, ...,\n",
       "        0.00000000e+00, 3.36471429e-44, 0.00000000e+00],\n",
       "       [0.00000000e+00, 0.00000000e+00, 0.00000000e+00, ...,\n",
       "        0.00000000e+00, 0.00000000e+00, 3.96201514e-47]])"
      ]
     },
     "execution_count": 89,
     "metadata": {},
     "output_type": "execute_result"
    }
   ],
   "source": [
    "DV_NG.covG_dict['ky_ky']['bin_4_0_4_0']"
   ]
  },
  {
   "cell_type": "code",
   "execution_count": 58,
   "metadata": {},
   "outputs": [
    {
     "data": {
      "image/png": "[encoded data removed]",
      "text/plain": [
       "<Figure size 640x480 with 1 Axes>"
      ]
     },
     "metadata": {},
     "output_type": "display_data"
    }
   ],
   "source": [
    "# DV_NG.PrepDV_params['PrepDV_fid'].PS.chi_array, DV_NG.PrepDV_params['PrepDV_fid'].PS.z_array, DV_NG.PrepDV_params['PrepDV_fid'].PS.dchi_dz_array\n",
    "pl.figure()\n",
    "# pl.plot(DV_NG.PrepDV_params['PrepDV_fid'].PS.z_array, DV_NG.PrepDV_params['PrepDV_fid'].PS.dchi_dz_array)\n",
    "# pl.plot(DV.z_array, DV.dchi_dz_array, ls='--')\n",
    "\n",
    "\n",
    "# pl.plot(DV_NG.PrepDV_params['PrepDV_fid'].PS.z_array, DV_NG.PrepDV_params['PrepDV_fid'].PS.chi_array)\n",
    "# pl.plot(DV.z_array, DV.chi_array, ls='--')\n",
    "\n",
    "pl.plot(DV_NG.PrepDV_params['PrepDV_fid'].PS.M_array, DV_NG.PrepDV_params['PrepDV_fid'].PS.dndm_array[0,:])\n",
    "pl.plot(DV.M_array, (1/DV.M_array)*DV.dndlnM_z[0,:])\n",
    "pl.xscale('log')\n",
    "pl.yscale('log')\n",
    "# pl.plot(DV.z_array, DV.chi_array, ls='--')\n",
    "\n",
    "\n"
   ]
  },
  {
   "cell_type": "code",
   "execution_count": 55,
   "metadata": {},
   "outputs": [
    {
     "data": {
      "text/plain": [
       "(20, 20)"
      ]
     },
     "execution_count": 55,
     "metadata": {},
     "output_type": "execute_result"
    }
   ],
   "source": [
    "# DV_NG.PrepDV_params['PrepDV_fid'].PS.dndm_array.shape\n",
    "DV.dndlnM_z.shape\n"
   ]
  },
  {
   "cell_type": "code",
   "execution_count": null,
   "metadata": {},
   "outputs": [],
   "source": []
  }
 ],
 "metadata": {
  "kernelspec": {
   "display_name": "Python 3",
   "language": "python",
   "name": "python3"
  },
  "language_info": {
   "codemirror_mode": {
    "name": "ipython",
    "version": 3
   },
   "file_extension": ".py",
   "mimetype": "text/x-python",
   "name": "python",
   "nbconvert_exporter": "python",
   "pygments_lexer": "ipython3",
   "version": "3.10.12"
  }
 },
 "nbformat": 4,
 "nbformat_minor": 2
}
