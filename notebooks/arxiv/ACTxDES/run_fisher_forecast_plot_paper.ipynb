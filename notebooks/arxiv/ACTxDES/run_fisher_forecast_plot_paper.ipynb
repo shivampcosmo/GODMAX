{
 "cells": [
  {
   "cell_type": "code",
   "execution_count": 1,
   "metadata": {},
   "outputs": [
    {
     "name": "stderr",
     "output_type": "stream",
     "text": [
      "/tmp/ipykernel_2231056/3084209893.py:12: DeprecationWarning: Accessing jax.config via the jax.config submodule is deprecated.\n",
      "  from jax.config import config\n"
     ]
    }
   ],
   "source": [
    "%reset\n",
    "import sys, os\n",
    "# del os.environ[\"XLA_PYTHON_CLIENT_ALLOCATOR\"]\n",
    "# del os.environ[\"XLA_PYTHON_CLIENT_PREALLOCATE\"]\n",
    "os.environ['XLA_PYTHON_CLIENT_PREALLOCATE'] = '0.95'\n",
    "os.environ[\"CUDA_VISIBLE_DEVICES\"] = \"0\"\n",
    "# os.environ['XLA_PYTHON_CLIENT_PREALLOCATE']=\"False\"\n",
    "\n",
    "# Change the current working directory to the desired path\n",
    "# os.chdir('/mnt/home/spandey/ceph/GODMAX/src/')\n",
    "sys.path.append('/mnt/home/spandey/ceph/GODMAX/src/')\n",
    "from jax.config import config\n",
    "config.update(\"jax_enable_x64\", True)\n",
    "import numpy as np\n",
    "import jax.numpy as jnp\n",
    "import colossus \n",
    "from jax import vmap, grad\n",
    "%matplotlib inline\n",
    "import matplotlib.pyplot as pl\n",
    "pl.rc('text', usetex=True)\n",
    "# Palatino\n",
    "pl.rc('font', family='DejaVu Sans')\n",
    "\n",
    "%load_ext autoreload\n",
    "%autoreload 2\n",
    "\n",
    "\n"
   ]
  },
  {
   "cell_type": "code",
   "execution_count": 2,
   "metadata": {},
   "outputs": [],
   "source": [
    "# cosmo_params_dict = {'flat': True, 'H0': 70.0, 'Om0': 0.2793, 'Ob0': 0.0463, 'sigma8': 0.821, 'ns': 0.972, 'w0':-1.0}\n",
    "cosmo_params_dict = {'flat': True, 'H0': 67.2, 'Om0': 0.31, 'Ob0': 0.049, 'sigma8': 0.81, 'ns': 0.95, 'w0':-1.0}\n",
    "sim_params_dict = {}\n",
    "sim_params_dict['nfw_trunc'] = True\n",
    "sim_params_dict['gamma_rhogas'] = 2.0\n",
    "sim_params_dict['delta_rhogas'] = 7.0\n",
    "# sim_params_dict['theta_co'] = 0.01\n",
    "# sim_params_dict['theta_ej'] = 1.0\n",
    "\n",
    "sim_params_dict['theta_co_0'] = 0.1\n",
    "sim_params_dict['log10_Mstar0_theta_co'] = 15.0\n",
    "sim_params_dict['nu_theta_co_M'] = 0.0\n",
    "sim_params_dict['nu_theta_co_z'] = 0.0\n",
    "\n",
    "sim_params_dict['theta_ej_0'] = 4.0\n",
    "sim_params_dict['log10_Mstar0_theta_ej'] = 15.0\n",
    "sim_params_dict['nu_theta_ej_M'] = -0.2\n",
    "sim_params_dict['nu_theta_ej_z'] = 0.05\n",
    "\n",
    "sim_params_dict['log10_Mc0'] = 15.0\n",
    "sim_params_dict['log10_Mstar0'] = 14.0\n",
    "sim_params_dict['mu_beta'] = 0.21\n",
    "sim_params_dict['nu_z'] = -2.5\n",
    "sim_params_dict['nu_M'] = 0.0\n",
    "\n",
    "sim_params_dict['eta_star'] = 0.3\n",
    "sim_params_dict['eta_cga'] = 0.6\n",
    "\n",
    "\n",
    "sim_params_dict['neg_bhse_plus_1'] = 0.833\n",
    "sim_params_dict['A_starcga'] = 0.09\n",
    "sim_params_dict['log10_M1_starcga'] = 11.4\n",
    "sim_params_dict['epsilon_rt'] = 4.0\n",
    "\n",
    "\n",
    "sim_params_dict['a_zeta'] = 0.3\n",
    "sim_params_dict['n_zeta'] = 2\n",
    "sim_params_dict['alpha_nt'] = 0.18\n",
    "sim_params_dict['beta_nt'] = 0.5\n",
    "sim_params_dict['n_nt'] = 0.3\n",
    "sim_params_dict['cosmo'] = cosmo_params_dict\n",
    "\n",
    "\n",
    "halo_params_dict = {}\n",
    "halo_params_dict['rmin'], halo_params_dict['rmax'], halo_params_dict['nr'] = 5e-3, 12, 32\n",
    "# halo_params_dict['zmin'], halo_params_dict['zmax'], halo_params_dict['nz'] = 0.001, 0.002, 2\n",
    "# halo_params_dict['zmin'], halo_params_dict['zmax'], halo_params_dict['nz'] = 0.001, 1.0, 10\n",
    "# halo_params_dict['z_array'] = np.array([1e-3, 0.5, 1.0])\n",
    "halo_params_dict['zmin'], halo_params_dict['zmax'], halo_params_dict['nz'] = 0.001, 2.5, 20\n",
    "# halo_params_dict['z_array'] = np.array([1e-3])\n",
    "# halo_params_dict['z_array'] = np.array([0.5])\n",
    "# halo_params_dict['z_array'] = np.array([1.0])\n",
    "# halo_params_dict['nz'] = len(halo_params_dict['z_array'])\n",
    "halo_params_dict['lg10_Mmin'], halo_params_dict['lg10_Mmax'], halo_params_dict['nM'] = 12.0, 15.5, 28\n",
    "halo_params_dict['cmin'], halo_params_dict['cmax'], halo_params_dict['nc'] = 2, 8, 16\n",
    "halo_params_dict['ellmin'], halo_params_dict['ellmax'], halo_params_dict['nell'] = 8, 2**15, 64\n",
    "# try:\n",
    "halo_params_dict['sig_logc_z_array'] = np.ones(halo_params_dict['nz']) * 0.05\n",
    "halo_params_dict['mdef'] = '200c'\n",
    "halo_params_dict['hmf_model'] = 'T10'\n",
    "halo_params_dict['conc_model'] = 'Diemer15'\n",
    "halo_params_dict['do_corr_2h_mm'] = True\n",
    "\n",
    "# halo_params_dict['do_corr_2h_mm'] = False\n",
    "\n",
    "from astropy.io import fits\n",
    "df = fits.open('/mnt/home/spandey/ceph/GODMAX/data/forecast/lsst_simulate_Y1.fits') \n",
    "z_array = df['nz_source'].data['Z_MID']\n",
    "nz_info_dict = {}\n",
    "nz_info_dict['z_array'] = z_array\n",
    "nz_info_dict['nbins'] = 5\n",
    "nz_info_dict['nz0'] = np.maximum(df['nz_source'].data['BIN1'], 1e-4)\n",
    "nz_info_dict['nz1'] = np.maximum(df['nz_source'].data['BIN2'], 1e-4)\n",
    "nz_info_dict['nz2'] = np.maximum(df['nz_source'].data['BIN3'], 1e-4)\n",
    "nz_info_dict['nz3'] = np.maximum(df['nz_source'].data['BIN4'], 1e-4)\n",
    "nz_info_dict['nz4'] = np.maximum(df['nz_source'].data['BIN5'], 1e-4)\n",
    "analysis_dict = {}\n",
    "analysis_dict['nz_info_dict'] = nz_info_dict\n",
    "analysis_dict['do_sheary'] = True\n",
    "analysis_dict['do_shear2pt'] = True\n",
    "analysis_dict['do_yy'] = False\n",
    "\n",
    "df_data = fits.open('/mnt/home/spandey/ceph/GODMAX/data/forecast/lsst_simulate_Y1.fits')\n",
    "theta_data = df_data['xip'].data['ANG'][0:20]\n",
    "\n",
    "analysis_dict['ellmin_transf'], analysis_dict['ellmax_transf'], analysis_dict['nell_transf'] = 8, 2**15, 16384\n",
    "# analysis_dict['ellmin_transf'], analysis_dict['ellmax_transf'], analysis_dict['nell_transf'] = 8, 2**15, 128\n",
    "analysis_dict['angles_data_array'] = jnp.array(theta_data)\n",
    "analysis_dict['beam_fwhm_arcmin'] = 1.0\n",
    "analysis_dict['want_like_diff'] = True\n",
    "analysis_dict['calc_nfw_only'] = True\n",
    "\n",
    "other_params_dict = {}\n",
    "other_params_dict['A_IA'] = 0.1\n",
    "other_params_dict['eta_IA'] = 0.0\n",
    "other_params_dict['z0_IA'] = 0.62\n",
    "other_params_dict['C1_bar'] = 5e-14\n",
    "# for jb in range(nz_info_dict['nbins']):\n",
    "#     other_params_dict['Delta_z_bias_bin%d'%(jb+1)] = 0.0\n",
    "#     other_params_dict['mult_shear_bias_bin%d'%(jb+1)] = 0.0\n",
    "other_params_dict['Delta_z_bias_array'] = jnp.zeros(nz_info_dict['nbins'])\n",
    "other_params_dict['mult_shear_bias_array'] = jnp.zeros(nz_info_dict['nbins'])\n",
    "\n"
   ]
  },
  {
   "cell_type": "code",
   "execution_count": 3,
   "metadata": {},
   "outputs": [],
   "source": [
    "import copy\n",
    "from tqdm import tqdm\n",
    "from get_corr_func_jit import get_corrfunc_BCMP\n",
    "get_corrfunc_BCMP_test = get_corrfunc_BCMP(sim_params_dict, halo_params_dict, analysis_dict, other_params_dict, verbose_time=False)\n",
    "\n",
    "\n"
   ]
  },
  {
   "cell_type": "code",
   "execution_count": 4,
   "metadata": {},
   "outputs": [],
   "source": [
    "import pickle as pk\n",
    "\n",
    "# probe = 'xip_xim' \n",
    "probe = 'gty'\n",
    "# probe = 'all'\n",
    "\n",
    "# cov_total = pk.load(open('/mnt/home/spandey/ceph/GODMAX/data/forecast/total_cov_gty_xip_xim_Y1.pk', 'rb'))['cov_total']\n",
    "cov_total = pk.load(open('/mnt/home/spandey/ceph/GODMAX/data/forecast/total_cov_gty_xip_xim_Y6.pk', 'rb'))['cov_total']\n",
    "cov_total = jnp.array(cov_total)\n",
    "if probe == 'xip_xim':\n",
    "    cov_total = cov_total[100:, 100:]\n",
    "elif probe == 'gty':\n",
    "    cov_total = cov_total[:100, :100]\n",
    "P = jnp.linalg.inv(cov_total)\n",
    "\n",
    "\n"
   ]
  },
  {
   "cell_type": "code",
   "execution_count": 5,
   "metadata": {},
   "outputs": [],
   "source": [
    "df_cs = fits.open('/mnt/home/spandey/ceph/GODMAX/data/forecast/lsst_simulate_Y1.fits') \n",
    "bin1_vals =  df_cs['xip'].data['BIN1'][::20]\n",
    "bin2_vals =  df_cs['xip'].data['BIN2'][::20]\n",
    "biny_vals = np.array([1,2,3,4,5])\n",
    "\n",
    "# index_gty = {}\n",
    "index_gty = []\n",
    "for js in range(100):\n",
    "    # index_gty[js] = [js%20 ,js//20]\n",
    "    index_gty.append([js%20 ,js//20])\n",
    "index_gty = jnp.array(index_gty)\n",
    "# index_xip = {}\n",
    "index_xip = []\n",
    "for js in range(300):\n",
    "    binv = js//20\n",
    "    thetav = js%20\n",
    "    # index_xip[js] = [thetav ,bin1_vals[binv]-1, bin2_vals[binv]-1]\n",
    "    index_xip.append([thetav ,bin1_vals[binv]-1, bin2_vals[binv]-1])\n",
    "index_xip = jnp.array(index_xip)\n",
    "# index_xim = {}\n",
    "index_xim = []\n",
    "for js in range(300):\n",
    "    binv = js//20\n",
    "    thetav = js%20\n",
    "    # index_xim[js] = [thetav ,bin1_vals[binv]-1, bin2_vals[binv]-1]   \n",
    "    index_xim.append([thetav ,bin1_vals[binv]-1, bin2_vals[binv]-1])\n",
    "index_xim = jnp.array(index_xim)\n",
    "\n",
    "# mean_dv_all = np.zeros(700)\n",
    "# for jy in range(len(biny_vals)):\n",
    "#     mean_dv_all[jy*20:(jy+1)*20] = get_corrfunc_BCMP_test.gty_out_mat[:,jy]\n",
    "\n",
    "# for jk in  range(len(bin1_vals)):\n",
    "#     b1 = int(bin1_vals[jk] - 1)\n",
    "#     b2 = int(bin2_vals[jk] - 1)\n",
    "#     mean_dv_all[100 + jk*20:100 + (jk+1)*20] = get_corrfunc_BCMP_test.xip_out_mat[:,b1,b2]\n",
    "#     mean_dv_all[400 + jk*20:400 + (jk+1)*20] = get_corrfunc_BCMP_test.xim_out_mat[:,b1,b2]\n",
    "\n"
   ]
  },
  {
   "cell_type": "code",
   "execution_count": 6,
   "metadata": {},
   "outputs": [],
   "source": [
    "def get_gty_from_index(index):\n",
    "    index_val = index_gty[index]\n",
    "    return get_corrfunc_BCMP_test.gty_out_mat[index_val[0], index_val[1]]\n",
    "\n",
    "def get_xip_from_index(index):\n",
    "    index_val = index_xip[index]\n",
    "    return get_corrfunc_BCMP_test.xip_out_mat[index_val[0], index_val[1], index_val[2]]\n",
    "\n",
    "def get_xim_from_index(index):\n",
    "    index_val = index_xim[index]\n",
    "    return get_corrfunc_BCMP_test.xim_out_mat[index_val[0], index_val[1], index_val[2]]\n",
    "\n",
    "gty_val = vmap(get_gty_from_index)(np.arange(100))\n",
    "xip_val = vmap(get_xip_from_index)(np.arange(300))\n",
    "xim_val = vmap(get_xim_from_index)(np.arange(300))\n",
    "\n",
    "if probe == 'xip_xim':\n",
    "    mean_dv_val = jnp.concatenate([xip_val, xim_val])\n",
    "elif probe == 'gty':\n",
    "    mean_dv_val = gty_val\n",
    "else:\n",
    "    mean_dv_val = jnp.concatenate([gty_val, xip_val, xim_val])\n",
    "\n"
   ]
  },
  {
   "cell_type": "code",
   "execution_count": 7,
   "metadata": {},
   "outputs": [
    {
     "name": "stdout",
     "output_type": "stream",
     "text": [
      "138.3885871364987\n"
     ]
    }
   ],
   "source": [
    "# mean_dv_val_wIA = copy.deepcopy(mean_dv_val)\n",
    "# mean_dv_val\n",
    "\n",
    "# mean_dv_val.shape\n",
    "\n",
    "snr_y1 = jnp.sqrt(mean_dv_val.T @ P @ mean_dv_val)\n",
    "print(snr_y1)\n",
    "\n"
   ]
  },
  {
   "cell_type": "code",
   "execution_count": 8,
   "metadata": {},
   "outputs": [],
   "source": [
    "# pl.figure()\n",
    "# pl.plot(mean_dv_val)\n",
    "# pl.plot(mean_dv_val - mean_dv_val_wIA)\n",
    "# # pl.xscale('log')\n",
    "# pl.yscale('log')\n",
    "\n",
    "# 238, \n",
    "snr_y1_all = 238.0\n",
    "snr_y1_shear = 234.0\n",
    "\n",
    "snr_y6_all = 390\n",
    "snr_y6_shear = 380\n"
   ]
  },
  {
   "cell_type": "code",
   "execution_count": 9,
   "metadata": {},
   "outputs": [
    {
     "data": {
      "text/plain": [
       "247.2973918180295"
      ]
     },
     "execution_count": 9,
     "metadata": {},
     "output_type": "execute_result"
    }
   ],
   "source": [
    "# mean_dv_val\n",
    "# pl.figure()\n",
    "# pl.plot(mean_dv_val)\n",
    "# # pl.xscale('log')\n",
    "# pl.yscale('log')\n",
    "\n",
    "np.sqrt(234**2 + 80**2)\n"
   ]
  },
  {
   "cell_type": "code",
   "execution_count": 10,
   "metadata": {},
   "outputs": [],
   "source": [
    "# params_vary_names = ['eta_star','alpha_nt', 'theta_ej_0', 'theta_co_0', 'nu_theta_ej_M', 'nu_theta_ej_z', 'nu_z', 'log10_Mc0', 'mu_beta', 'delta_rhogas', 'gamma_rhogas']\n",
    "# params_vary_names = ['theta_ej_0', 'theta_co_0', 'nu_theta_ej_M', 'gamma_rhogas']\n"
   ]
  },
  {
   "cell_type": "code",
   "execution_count": 11,
   "metadata": {},
   "outputs": [],
   "source": [
    "# import jax\n",
    "# import copy\n",
    "# import jax_cosmo as jc\n",
    "# params_vary_names = ['theta_ej_0', 'gamma_rhogas']\n",
    "# @jax.jit\n",
    "# def likelihood(p):\n",
    "#     # params_vary_names = ['theta_ej_0', 'theta_co_0', 'nu_theta_ej_M', 'gamma_rhogas']\n",
    "\n",
    "#     sim_params_dict_vary = copy.deepcopy(sim_params_dict)\n",
    "#     for jp in range(len(params_vary_names)):\n",
    "#         sim_params_dict_vary[params_vary_names[jp]] = p[jp]\n",
    "\n",
    "#     get_corrfunc_BCMP_test = get_corrfunc_BCMP(sim_params_dict_vary, halo_params_dict, analysis_dict, other_params_dict, verbose_time=False)\n",
    "\n",
    "#     def get_gty_from_index(index):\n",
    "#         index_val = index_gty[index]\n",
    "#         return get_corrfunc_BCMP_test.gty_out_mat[index_val[0], index_val[1]]\n",
    "\n",
    "#     def get_xip_from_index(index):\n",
    "#         index_val = index_xip[index]\n",
    "#         return get_corrfunc_BCMP_test.xip_out_mat[index_val[0], index_val[1], index_val[2]]\n",
    "\n",
    "#     def get_xim_from_index(index):\n",
    "#         index_val = index_xim[index]\n",
    "#         return get_corrfunc_BCMP_test.xim_out_mat[index_val[0], index_val[1], index_val[2]]\n",
    "\n",
    "#     gty_val = vmap(get_gty_from_index)(np.arange(100))\n",
    "#     xip_val = vmap(get_xip_from_index)(np.arange(300))\n",
    "#     xim_val = vmap(get_xim_from_index)(np.arange(300))\n",
    "\n",
    "#     mu = jnp.concatenate([gty_val, xip_val, xim_val])\n",
    "\n",
    "\n",
    "#     # Return likelihood value assuming constant covariance, so we stop the gradient\n",
    "#     # at the level of the precision matrix, and we will not include the logdet term\n",
    "#     # in the likelihood\n",
    "#     r = mean_dv_val - mu\n",
    "#     return -0.5 * r.T @ jc.sparse.sparse_dot_vec(P, r)\n"
   ]
  },
  {
   "cell_type": "code",
   "execution_count": 12,
   "metadata": {},
   "outputs": [],
   "source": [
    "# hessian_loglik = jax.jit(jax.hessian(likelihood))\n"
   ]
  },
  {
   "cell_type": "code",
   "execution_count": 13,
   "metadata": {},
   "outputs": [],
   "source": [
    "cosmo_params_vary_names = ['Om0', 'Ob0', 'H0', 'ns', 'sigma8']\n",
    "sims_params_vary_names1 = ['eta_star','alpha_nt', 'theta_ej_0', 'theta_co_0']\n",
    "sims_params_vary_names2 = ['nu_theta_ej_M', 'nu_theta_ej_z', 'nu_z', 'log10_Mc0']\n",
    "sims_params_vary_names3 = ['mu_beta', 'delta_rhogas', 'gamma_rhogas']\n",
    "IA_params_vary_names = ['A_IA', 'eta_IA']\n",
    "mult_shear_vary_names = ['mult_shear_bias_bin1', 'mult_shear_bias_bin2', 'mult_shear_bias_bin3', 'mult_shear_bias_bin4', 'mult_shear_bias_bin5'] \n",
    "Delta_shear_vary_names = ['Delta_z_bias_bin1', 'Delta_z_bias_bin2', 'Delta_z_bias_bin3', 'Delta_z_bias_bin4', 'Delta_z_bias_bin5']\n",
    "\n",
    "\n",
    "# params_fid = np.zeros(len(cosmo_params_vary_names) + len(sims_params_vary_names) + len(IA_params_vary_names) + len(other_params_vary_names))\n",
    "# for jp in range(len(cosmo_params_vary_names)):\n",
    "#     params_fid[jp] = sim_params_dict['cosmo'][cosmo_params_vary_names[jp]]\n",
    "\n",
    "# for jp in range(len(sims_params_vary_names)):\n",
    "#     params_fid[len(cosmo_params_vary_names) + jp] = sim_params_dict[sims_params_vary_names[jp]]\n",
    "\n",
    "# for jp in range(len(IA_params_vary_names)):\n",
    "#     params_fid[len(cosmo_params_vary_names) + len(sims_params_vary_names) + jp] = other_params_dict[IA_params_vary_names[jp]]\n",
    "\n",
    "# params_fid = jnp.array(params_fid)\n",
    "\n",
    "\n"
   ]
  },
  {
   "cell_type": "code",
   "execution_count": 15,
   "metadata": {},
   "outputs": [],
   "source": [
    "import jax \n",
    "from tqdm import tqdm\n",
    "\n",
    "# @jax.jit\n",
    "def get_mean_cosmo(p):\n",
    "    sim_params_dict_vary = copy.deepcopy(sim_params_dict)\n",
    "    other_params_dict_vary = copy.deepcopy(other_params_dict)\n",
    "\n",
    "    for jp in range(len(cosmo_params_vary_names)):\n",
    "        sim_params_dict_vary['cosmo'][cosmo_params_vary_names[jp]] = p[jp]\n",
    "    \n",
    "    get_corrfunc_BCMP_test = get_corrfunc_BCMP(sim_params_dict_vary, halo_params_dict, analysis_dict, other_params_dict_vary, verbose_time=False)\n",
    "\n",
    "    def get_gty_from_index(index):\n",
    "        index_val = index_gty[index]\n",
    "        return get_corrfunc_BCMP_test.gty_out_mat[index_val[0], index_val[1]]\n",
    "\n",
    "    def get_xip_from_index(index):\n",
    "        index_val = index_xip[index]\n",
    "        return get_corrfunc_BCMP_test.xip_out_mat[index_val[0], index_val[1], index_val[2]]\n",
    "\n",
    "    def get_xim_from_index(index):\n",
    "        index_val = index_xim[index]\n",
    "        return get_corrfunc_BCMP_test.xim_out_mat[index_val[0], index_val[1], index_val[2]]\n",
    "\n",
    "    gty_val = vmap(get_gty_from_index)(np.arange(100))\n",
    "    xip_val = vmap(get_xip_from_index)(np.arange(300))\n",
    "    xim_val = vmap(get_xim_from_index)(np.arange(300))\n",
    "\n",
    "    if probe == 'xip_xim':\n",
    "        mu = jnp.concatenate([xip_val, xim_val])\n",
    "    elif probe == 'gty':\n",
    "        mu = gty_val\n",
    "    else:\n",
    "        mu = jnp.concatenate([gty_val, xip_val, xim_val])\n",
    "\n",
    "    return mu\n",
    "\n",
    "\n"
   ]
  },
  {
   "cell_type": "code",
   "execution_count": 33,
   "metadata": {},
   "outputs": [
    {
     "name": "stderr",
     "output_type": "stream",
     "text": [
      "  0%|          | 0/5 [00:00<?, ?it/s]2024-02-17 20:34:29.292237: W external/tsl/tsl/framework/bfc_allocator.cc:485] Allocator (GPU_0_bfc) ran out of memory trying to allocate 50.72GiB (rounded to 54465338624)requested by op \n",
      "2024-02-17 20:34:29.292671: W external/tsl/tsl/framework/bfc_allocator.cc:497] **__________________________________________________________________________________________________\n",
      "2024-02-17 20:34:29.302879: E external/xla/xla/pjrt/pjrt_stream_executor_client.cc:2732] Execution of replica 0 failed: RESOURCE_EXHAUSTED: Out of memory while trying to allocate 54465338512 bytes.\n",
      "BufferAssignment OOM Debugging.\n",
      "BufferAssignment stats:\n",
      "             parameter allocation:         8B\n",
      "              constant allocation:    36.5KiB\n",
      "        maybe_live_out allocation:       800B\n",
      "     preallocated temp allocation:   50.72GiB\n",
      "  preallocated temp fragmentation:     3.8KiB (0.00%)\n",
      "                 total allocation:   50.72GiB\n",
      "              total fragmentation:   108.6KiB (0.00%)\n",
      "Peak buffers:\n",
      "\tBuffer 1:\n",
      "\t\tSize: 4.38GiB\n",
      "\t\tOperator: op_name=\"jit(get_mean_cosmo)/jit(main)/vmap(jvp(vmap(vmap(vmap(vmap(jit(get_zeta)))))))/vmap(jit(get_Mgas))/mul\" source_file=\"/mnt/home/spandey/ceph/GODMAX/src/get_BCMP_profile_jit.py\" source_line=254\n",
      "\t\tXLA Label: fusion\n",
      "\t\tShape: f64[32,16,20,28,32,64]\n",
      "\t\t==========================\n",
      "\n",
      "\tBuffer 2:\n",
      "\t\tSize: 4.38GiB\n",
      "\t\tOperator: op_name=\"jit(get_mean_cosmo)/jit(main)/vmap(jvp(vmap(vmap(vmap(vmap(jit(get_zeta)))))))/vmap(jit(get_Mgas))/mul\" source_file=\"/mnt/home/spandey/ceph/GODMAX/src/get_BCMP_profile_jit.py\" source_line=254\n",
      "\t\tXLA Label: fusion\n",
      "\t\tShape: f64[32,16,20,28,32,64]\n",
      "\t\t==========================\n",
      "\n",
      "\tBuffer 3:\n",
      "\t\tSize: 4.38GiB\n",
      "\t\tOperator: op_name=\"jit(get_mean_cosmo)/jit(main)/vmap(jvp(vmap(vmap(vmap(vmap(jit(get_zeta)))))))/vmap(jit(get_Mgas))/mul\" source_file=\"/mnt/home/spandey/ceph/GODMAX/src/get_BCMP_profile_jit.py\" source_line=254\n",
      "\t\tXLA Label: fusion\n",
      "\t\tShape: f64[32,16,20,28,32,64]\n",
      "\t\t==========================\n",
      "\n",
      "\tBuffer 4:\n",
      "\t\tSize: 4.38GiB\n",
      "\t\tOperator: op_name=\"jit(get_mean_cosmo)/jit(main)/vmap(jvp(vmap(vmap(vmap(vmap(jit(get_zeta)))))))/vmap(jit(get_Mgas))/mul\" source_file=\"/mnt/home/spandey/ceph/GODMAX/src/get_BCMP_profile_jit.py\" source_line=254\n",
      "\t\tXLA Label: fusion\n",
      "\t\tShape: f64[32,16,20,28,32,64]\n",
      "\t\t==========================\n",
      "\n",
      "\tBuffer 5:\n",
      "\t\tSize: 4.38GiB\n",
      "\t\tOperator: op_name=\"jit(get_mean_cosmo)/jit(main)/vmap(jvp(vmap(vmap(vmap(vmap(jit(get_zeta)))))))/vmap(jit(get_Mgas))/mul\" source_file=\"/mnt/home/spandey/ceph/GODMAX/src/get_BCMP_profile_jit.py\" source_line=254\n",
      "\t\tXLA Label: fusion\n",
      "\t\tShape: f64[32,16,20,28,32,64]\n",
      "\t\t==========================\n",
      "\n",
      "\tBuffer 6:\n",
      "\t\tSize: 4.38GiB\n",
      "\t\tOperator: op_name=\"jit(get_mean_cosmo)/jit(main)/vmap(jvp(vmap(vmap(vmap(vmap(jit(get_zeta)))))))/vmap(jit(get_Mgas))/mul\" source_file=\"/mnt/home/spandey/ceph/GODMAX/src/get_BCMP_profile_jit.py\" source_line=254\n",
      "\t\tXLA Label: fusion\n",
      "\t\tShape: f64[32,16,20,28,32,64]\n",
      "\t\t==========================\n",
      "\n",
      "\tBuffer 7:\n",
      "\t\tSize: 4.38GiB\n",
      "\t\tOperator: op_name=\"jit(get_mean_cosmo)/jit(main)/vmap(jvp(vmap(vmap(vmap(vmap(jit(get_zeta)))))))/vmap(jit(get_Mgas))/mul\" source_file=\"/mnt/home/spandey/ceph/GODMAX/src/get_BCMP_profile_jit.py\" source_line=254\n",
      "\t\tXLA Label: fusion\n",
      "\t\tShape: f64[32,16,20,28,32,64]\n",
      "\t\t==========================\n",
      "\n",
      "\tBuffer 8:\n",
      "\t\tSize: 4.38GiB\n",
      "\t\tOperator: op_name=\"jit(get_mean_cosmo)/jit(main)/vmap(jvp(vmap(vmap(vmap(vmap(jit(get_zeta)))))))/vmap(jit(get_Mgas))/mul\" source_file=\"/mnt/home/spandey/ceph/GODMAX/src/get_BCMP_profile_jit.py\" source_line=254\n",
      "\t\tXLA Label: fusion\n",
      "\t\tShape: f64[32,16,20,28,32,64]\n",
      "\t\t==========================\n",
      "\n",
      "\tBuffer 9:\n",
      "\t\tSize: 4.38GiB\n",
      "\t\tOperator: op_name=\"jit(get_mean_cosmo)/jit(main)/vmap(jvp(vmap(vmap(vmap(vmap(jit(get_zeta)))))))/vmap(jit(get_Mgas))/mul\" source_file=\"/mnt/home/spandey/ceph/GODMAX/src/get_BCMP_profile_jit.py\" source_line=254\n",
      "\t\tXLA Label: fusion\n",
      "\t\tShape: f64[32,16,20,28,32,64]\n",
      "\t\t==========================\n",
      "\n",
      "\tBuffer 10:\n",
      "\t\tSize: 4.31GiB\n",
      "\t\tOperator: op_name=\"jit(get_mean_cosmo)/jit(main)/vmap(jvp(vmap(vmap(vmap(vmap(jit(get_zeta)))))))/vmap(jit(get_Mcga))/jit(trapz)/add\" source_file=\"/mnt/home/spandey/ceph/GODMAX/src/get_BCMP_profile_jit.py\" source_line=255\n",
      "\t\tXLA Label: fusion\n",
      "\t\tShape: f64[32,16,20,28,32,63]\n",
      "\t\t==========================\n",
      "\n",
      "\tBuffer 11:\n",
      "\t\tSize: 4.31GiB\n",
      "\t\tOperator: op_name=\"jit(get_mean_cosmo)/jit(main)/vmap(jvp(vmap(vmap(vmap(vmap(jit(get_zeta)))))))/vmap(jit(get_Mcga))/jit(trapz)/add\" source_file=\"/mnt/home/spandey/ceph/GODMAX/src/get_BCMP_profile_jit.py\" source_line=255\n",
      "\t\tXLA Label: fusion\n",
      "\t\tShape: f64[32,16,20,28,32,63]\n",
      "\t\t==========================\n",
      "\n",
      "\tBuffer 12:\n",
      "\t\tSize: 280.00MiB\n",
      "\t\tOperator: op_name=\"jit(get_mean_cosmo)/jit(main)/vmap(jvp(vmap(vmap(vmap(vmap(jit(get_zeta)))))))/vmap(jit(get_Mcga))/mul\" source_file=\"/mnt/home/spandey/ceph/GODMAX/src/get_BCMP_profile_jit.py\" source_line=254\n",
      "\t\tXLA Label: fusion\n",
      "\t\tShape: f64[1,32,20,28,32,64]\n",
      "\t\t==========================\n",
      "\n",
      "\tBuffer 13:\n",
      "\t\tSize: 280.00MiB\n",
      "\t\tOperator: op_name=\"jit(get_mean_cosmo)/jit(main)/vmap(jvp(vmap(vmap(vmap(vmap(jit(get_zeta)))))))/vmap(jit(get_Mcga))/mul\" source_file=\"/mnt/home/spandey/ceph/GODMAX/src/get_BCMP_profile_jit.py\" source_line=254\n",
      "\t\tXLA Label: fusion\n",
      "\t\tShape: f64[32,20,28,32,64]\n",
      "\t\t==========================\n",
      "\n",
      "\tBuffer 14:\n",
      "\t\tSize: 280.00MiB\n",
      "\t\tOperator: op_name=\"jit(get_mean_cosmo)/jit(main)/vmap(jvp(vmap(vmap(vmap(vmap(jit(get_zeta)))))))/vmap(jit(get_Mcga))/mul\" source_file=\"/mnt/home/spandey/ceph/GODMAX/src/get_BCMP_profile_jit.py\" source_line=254\n",
      "\t\tXLA Label: fusion\n",
      "\t\tShape: f64[32,20,28,32,64]\n",
      "\t\t==========================\n",
      "\n",
      "\tBuffer 15:\n",
      "\t\tSize: 280.00MiB\n",
      "\t\tOperator: op_name=\"jit(get_mean_cosmo)/jit(main)/vmap(jvp(vmap(vmap(vmap(vmap(jit(get_zeta)))))))/vmap(jit(get_Mcga))/vmap(jit(get_rho_cga))/exp\" source_file=\"/mnt/home/spandey/ceph/GODMAX/src/get_BCMP_profile_jit.py\" source_line=382\n",
      "\t\tXLA Label: fusion\n",
      "\t\tShape: f64[1,32,20,28,32,64]\n",
      "\t\t==========================\n",
      "\n",
      "\n",
      "  0%|          | 0/5 [01:00<?, ?it/s]\n"
     ]
    },
    {
     "ename": "XlaRuntimeError",
     "evalue": "RESOURCE_EXHAUSTED: Out of memory while trying to allocate 54465338512 bytes.\nBufferAssignment OOM Debugging.\nBufferAssignment stats:\n             parameter allocation:         8B\n              constant allocation:    36.5KiB\n        maybe_live_out allocation:       800B\n     preallocated temp allocation:   50.72GiB\n  preallocated temp fragmentation:     3.8KiB (0.00%)\n                 total allocation:   50.72GiB\n              total fragmentation:   108.6KiB (0.00%)\nPeak buffers:\n\tBuffer 1:\n\t\tSize: 4.38GiB\n\t\tOperator: op_name=\"jit(get_mean_cosmo)/jit(main)/vmap(jvp(vmap(vmap(vmap(vmap(jit(get_zeta)))))))/vmap(jit(get_Mgas))/mul\" source_file=\"/mnt/home/spandey/ceph/GODMAX/src/get_BCMP_profile_jit.py\" source_line=254\n\t\tXLA Label: fusion\n\t\tShape: f64[32,16,20,28,32,64]\n\t\t==========================\n\n\tBuffer 2:\n\t\tSize: 4.38GiB\n\t\tOperator: op_name=\"jit(get_mean_cosmo)/jit(main)/vmap(jvp(vmap(vmap(vmap(vmap(jit(get_zeta)))))))/vmap(jit(get_Mgas))/mul\" source_file=\"/mnt/home/spandey/ceph/GODMAX/src/get_BCMP_profile_jit.py\" source_line=254\n\t\tXLA Label: fusion\n\t\tShape: f64[32,16,20,28,32,64]\n\t\t==========================\n\n\tBuffer 3:\n\t\tSize: 4.38GiB\n\t\tOperator: op_name=\"jit(get_mean_cosmo)/jit(main)/vmap(jvp(vmap(vmap(vmap(vmap(jit(get_zeta)))))))/vmap(jit(get_Mgas))/mul\" source_file=\"/mnt/home/spandey/ceph/GODMAX/src/get_BCMP_profile_jit.py\" source_line=254\n\t\tXLA Label: fusion\n\t\tShape: f64[32,16,20,28,32,64]\n\t\t==========================\n\n\tBuffer 4:\n\t\tSize: 4.38GiB\n\t\tOperator: op_name=\"jit(get_mean_cosmo)/jit(main)/vmap(jvp(vmap(vmap(vmap(vmap(jit(get_zeta)))))))/vmap(jit(get_Mgas))/mul\" source_file=\"/mnt/home/spandey/ceph/GODMAX/src/get_BCMP_profile_jit.py\" source_line=254\n\t\tXLA Label: fusion\n\t\tShape: f64[32,16,20,28,32,64]\n\t\t==========================\n\n\tBuffer 5:\n\t\tSize: 4.38GiB\n\t\tOperator: op_name=\"jit(get_mean_cosmo)/jit(main)/vmap(jvp(vmap(vmap(vmap(vmap(jit(get_zeta)))))))/vmap(jit(get_Mgas))/mul\" source_file=\"/mnt/home/spandey/ceph/GODMAX/src/get_BCMP_profile_jit.py\" source_line=254\n\t\tXLA Label: fusion\n\t\tShape: f64[32,16,20,28,32,64]\n\t\t==========================\n\n\tBuffer 6:\n\t\tSize: 4.38GiB\n\t\tOperator: op_name=\"jit(get_mean_cosmo)/jit(main)/vmap(jvp(vmap(vmap(vmap(vmap(jit(get_zeta)))))))/vmap(jit(get_Mgas))/mul\" source_file=\"/mnt/home/spandey/ceph/GODMAX/src/get_BCMP_profile_jit.py\" source_line=254\n\t\tXLA Label: fusion\n\t\tShape: f64[32,16,20,28,32,64]\n\t\t==========================\n\n\tBuffer 7:\n\t\tSize: 4.38GiB\n\t\tOperator: op_name=\"jit(get_mean_cosmo)/jit(main)/vmap(jvp(vmap(vmap(vmap(vmap(jit(get_zeta)))))))/vmap(jit(get_Mgas))/mul\" source_file=\"/mnt/home/spandey/ceph/GODMAX/src/get_BCMP_profile_jit.py\" source_line=254\n\t\tXLA Label: fusion\n\t\tShape: f64[32,16,20,28,32,64]\n\t\t==========================\n\n\tBuffer 8:\n\t\tSize: 4.38GiB\n\t\tOperator: op_name=\"jit(get_mean_cosmo)/jit(main)/vmap(jvp(vmap(vmap(vmap(vmap(jit(get_zeta)))))))/vmap(jit(get_Mgas))/mul\" source_file=\"/mnt/home/spandey/ceph/GODMAX/src/get_BCMP_profile_jit.py\" source_line=254\n\t\tXLA Label: fusion\n\t\tShape: f64[32,16,20,28,32,64]\n\t\t==========================\n\n\tBuffer 9:\n\t\tSize: 4.38GiB\n\t\tOperator: op_name=\"jit(get_mean_cosmo)/jit(main)/vmap(jvp(vmap(vmap(vmap(vmap(jit(get_zeta)))))))/vmap(jit(get_Mgas))/mul\" source_file=\"/mnt/home/spandey/ceph/GODMAX/src/get_BCMP_profile_jit.py\" source_line=254\n\t\tXLA Label: fusion\n\t\tShape: f64[32,16,20,28,32,64]\n\t\t==========================\n\n\tBuffer 10:\n\t\tSize: 4.31GiB\n\t\tOperator: op_name=\"jit(get_mean_cosmo)/jit(main)/vmap(jvp(vmap(vmap(vmap(vmap(jit(get_zeta)))))))/vmap(jit(get_Mcga))/jit(trapz)/add\" source_file=\"/mnt/home/spandey/ceph/GODMAX/src/get_BCMP_profile_jit.py\" source_line=255\n\t\tXLA Label: fusion\n\t\tShape: f64[32,16,20,28,32,63]\n\t\t==========================\n\n\tBuffer 11:\n\t\tSize: 4.31GiB\n\t\tOperator: op_name=\"jit(get_mean_cosmo)/jit(main)/vmap(jvp(vmap(vmap(vmap(vmap(jit(get_zeta)))))))/vmap(jit(get_Mcga))/jit(trapz)/add\" source_file=\"/mnt/home/spandey/ceph/GODMAX/src/get_BCMP_profile_jit.py\" source_line=255\n\t\tXLA Label: fusion\n\t\tShape: f64[32,16,20,28,32,63]\n\t\t==========================\n\n\tBuffer 12:\n\t\tSize: 280.00MiB\n\t\tOperator: op_name=\"jit(get_mean_cosmo)/jit(main)/vmap(jvp(vmap(vmap(vmap(vmap(jit(get_zeta)))))))/vmap(jit(get_Mcga))/mul\" source_file=\"/mnt/home/spandey/ceph/GODMAX/src/get_BCMP_profile_jit.py\" source_line=254\n\t\tXLA Label: fusion\n\t\tShape: f64[1,32,20,28,32,64]\n\t\t==========================\n\n\tBuffer 13:\n\t\tSize: 280.00MiB\n\t\tOperator: op_name=\"jit(get_mean_cosmo)/jit(main)/vmap(jvp(vmap(vmap(vmap(vmap(jit(get_zeta)))))))/vmap(jit(get_Mcga))/mul\" source_file=\"/mnt/home/spandey/ceph/GODMAX/src/get_BCMP_profile_jit.py\" source_line=254\n\t\tXLA Label: fusion\n\t\tShape: f64[32,20,28,32,64]\n\t\t==========================\n\n\tBuffer 14:\n\t\tSize: 280.00MiB\n\t\tOperator: op_name=\"jit(get_mean_cosmo)/jit(main)/vmap(jvp(vmap(vmap(vmap(vmap(jit(get_zeta)))))))/vmap(jit(get_Mcga))/mul\" source_file=\"/mnt/home/spandey/ceph/GODMAX/src/get_BCMP_profile_jit.py\" source_line=254\n\t\tXLA Label: fusion\n\t\tShape: f64[32,20,28,32,64]\n\t\t==========================\n\n\tBuffer 15:\n\t\tSize: 280.00MiB\n\t\tOperator: op_name=\"jit(get_mean_cosmo)/jit(main)/vmap(jvp(vmap(vmap(vmap(vmap(jit(get_zeta)))))))/vmap(jit(get_Mcga))/vmap(jit(get_rho_cga))/exp\" source_file=\"/mnt/home/spandey/ceph/GODMAX/src/get_BCMP_profile_jit.py\" source_line=382\n\t\tXLA Label: fusion\n\t\tShape: f64[1,32,20,28,32,64]\n\t\t==========================\n\n",
     "output_type": "error",
     "traceback": [
      "\u001b[0;31m---------------------------------------------------------------------------\u001b[0m",
      "\u001b[0;31mXlaRuntimeError\u001b[0m                           Traceback (most recent call last)",
      "Cell \u001b[0;32mIn[33], line 15\u001b[0m\n\u001b[1;32m     12\u001b[0m params_fid \u001b[38;5;241m=\u001b[39m jnp\u001b[38;5;241m.\u001b[39marray([sim_params_dict[\u001b[38;5;124m'\u001b[39m\u001b[38;5;124mcosmo\u001b[39m\u001b[38;5;124m'\u001b[39m][cosmo_params_vary_names_all[jp]]])\n\u001b[1;32m     14\u001b[0m jac_mean \u001b[38;5;241m=\u001b[39m jax\u001b[38;5;241m.\u001b[39mjit(jax\u001b[38;5;241m.\u001b[39mjacfwd(get_mean_cosmo))\n\u001b[0;32m---> 15\u001b[0m dmu_cosmo \u001b[38;5;241m=\u001b[39m \u001b[43mjac_mean\u001b[49m\u001b[43m(\u001b[49m\u001b[43mparams_fid\u001b[49m\u001b[43m)\u001b[49m\n\u001b[1;32m     16\u001b[0m dmu_cosmo_all[:, jp] \u001b[38;5;241m=\u001b[39m dmu_cosmo[:,\u001b[38;5;241m0\u001b[39m]\n",
      "    \u001b[0;31m[... skipping hidden 10 frame]\u001b[0m\n",
      "File \u001b[0;32m~/venv_gm/lib/python3.12/site-packages/jax/_src/interpreters/pxla.py:1159\u001b[0m, in \u001b[0;36mExecuteReplicated.__call__\u001b[0;34m(self, *args)\u001b[0m\n\u001b[1;32m   1157\u001b[0m   \u001b[38;5;28mself\u001b[39m\u001b[38;5;241m.\u001b[39m_handle_token_bufs(result_token_bufs, sharded_runtime_token)\n\u001b[1;32m   1158\u001b[0m \u001b[38;5;28;01melse\u001b[39;00m:\n\u001b[0;32m-> 1159\u001b[0m   results \u001b[38;5;241m=\u001b[39m \u001b[38;5;28;43mself\u001b[39;49m\u001b[38;5;241;43m.\u001b[39;49m\u001b[43mxla_executable\u001b[49m\u001b[38;5;241;43m.\u001b[39;49m\u001b[43mexecute_sharded\u001b[49m\u001b[43m(\u001b[49m\u001b[43minput_bufs\u001b[49m\u001b[43m)\u001b[49m\n\u001b[1;32m   1160\u001b[0m \u001b[38;5;28;01mif\u001b[39;00m dispatch\u001b[38;5;241m.\u001b[39mneeds_check_special():\n\u001b[1;32m   1161\u001b[0m   out_arrays \u001b[38;5;241m=\u001b[39m results\u001b[38;5;241m.\u001b[39mdisassemble_into_single_device_arrays()\n",
      "\u001b[0;31mXlaRuntimeError\u001b[0m: RESOURCE_EXHAUSTED: Out of memory while trying to allocate 54465338512 bytes.\nBufferAssignment OOM Debugging.\nBufferAssignment stats:\n             parameter allocation:         8B\n              constant allocation:    36.5KiB\n        maybe_live_out allocation:       800B\n     preallocated temp allocation:   50.72GiB\n  preallocated temp fragmentation:     3.8KiB (0.00%)\n                 total allocation:   50.72GiB\n              total fragmentation:   108.6KiB (0.00%)\nPeak buffers:\n\tBuffer 1:\n\t\tSize: 4.38GiB\n\t\tOperator: op_name=\"jit(get_mean_cosmo)/jit(main)/vmap(jvp(vmap(vmap(vmap(vmap(jit(get_zeta)))))))/vmap(jit(get_Mgas))/mul\" source_file=\"/mnt/home/spandey/ceph/GODMAX/src/get_BCMP_profile_jit.py\" source_line=254\n\t\tXLA Label: fusion\n\t\tShape: f64[32,16,20,28,32,64]\n\t\t==========================\n\n\tBuffer 2:\n\t\tSize: 4.38GiB\n\t\tOperator: op_name=\"jit(get_mean_cosmo)/jit(main)/vmap(jvp(vmap(vmap(vmap(vmap(jit(get_zeta)))))))/vmap(jit(get_Mgas))/mul\" source_file=\"/mnt/home/spandey/ceph/GODMAX/src/get_BCMP_profile_jit.py\" source_line=254\n\t\tXLA Label: fusion\n\t\tShape: f64[32,16,20,28,32,64]\n\t\t==========================\n\n\tBuffer 3:\n\t\tSize: 4.38GiB\n\t\tOperator: op_name=\"jit(get_mean_cosmo)/jit(main)/vmap(jvp(vmap(vmap(vmap(vmap(jit(get_zeta)))))))/vmap(jit(get_Mgas))/mul\" source_file=\"/mnt/home/spandey/ceph/GODMAX/src/get_BCMP_profile_jit.py\" source_line=254\n\t\tXLA Label: fusion\n\t\tShape: f64[32,16,20,28,32,64]\n\t\t==========================\n\n\tBuffer 4:\n\t\tSize: 4.38GiB\n\t\tOperator: op_name=\"jit(get_mean_cosmo)/jit(main)/vmap(jvp(vmap(vmap(vmap(vmap(jit(get_zeta)))))))/vmap(jit(get_Mgas))/mul\" source_file=\"/mnt/home/spandey/ceph/GODMAX/src/get_BCMP_profile_jit.py\" source_line=254\n\t\tXLA Label: fusion\n\t\tShape: f64[32,16,20,28,32,64]\n\t\t==========================\n\n\tBuffer 5:\n\t\tSize: 4.38GiB\n\t\tOperator: op_name=\"jit(get_mean_cosmo)/jit(main)/vmap(jvp(vmap(vmap(vmap(vmap(jit(get_zeta)))))))/vmap(jit(get_Mgas))/mul\" source_file=\"/mnt/home/spandey/ceph/GODMAX/src/get_BCMP_profile_jit.py\" source_line=254\n\t\tXLA Label: fusion\n\t\tShape: f64[32,16,20,28,32,64]\n\t\t==========================\n\n\tBuffer 6:\n\t\tSize: 4.38GiB\n\t\tOperator: op_name=\"jit(get_mean_cosmo)/jit(main)/vmap(jvp(vmap(vmap(vmap(vmap(jit(get_zeta)))))))/vmap(jit(get_Mgas))/mul\" source_file=\"/mnt/home/spandey/ceph/GODMAX/src/get_BCMP_profile_jit.py\" source_line=254\n\t\tXLA Label: fusion\n\t\tShape: f64[32,16,20,28,32,64]\n\t\t==========================\n\n\tBuffer 7:\n\t\tSize: 4.38GiB\n\t\tOperator: op_name=\"jit(get_mean_cosmo)/jit(main)/vmap(jvp(vmap(vmap(vmap(vmap(jit(get_zeta)))))))/vmap(jit(get_Mgas))/mul\" source_file=\"/mnt/home/spandey/ceph/GODMAX/src/get_BCMP_profile_jit.py\" source_line=254\n\t\tXLA Label: fusion\n\t\tShape: f64[32,16,20,28,32,64]\n\t\t==========================\n\n\tBuffer 8:\n\t\tSize: 4.38GiB\n\t\tOperator: op_name=\"jit(get_mean_cosmo)/jit(main)/vmap(jvp(vmap(vmap(vmap(vmap(jit(get_zeta)))))))/vmap(jit(get_Mgas))/mul\" source_file=\"/mnt/home/spandey/ceph/GODMAX/src/get_BCMP_profile_jit.py\" source_line=254\n\t\tXLA Label: fusion\n\t\tShape: f64[32,16,20,28,32,64]\n\t\t==========================\n\n\tBuffer 9:\n\t\tSize: 4.38GiB\n\t\tOperator: op_name=\"jit(get_mean_cosmo)/jit(main)/vmap(jvp(vmap(vmap(vmap(vmap(jit(get_zeta)))))))/vmap(jit(get_Mgas))/mul\" source_file=\"/mnt/home/spandey/ceph/GODMAX/src/get_BCMP_profile_jit.py\" source_line=254\n\t\tXLA Label: fusion\n\t\tShape: f64[32,16,20,28,32,64]\n\t\t==========================\n\n\tBuffer 10:\n\t\tSize: 4.31GiB\n\t\tOperator: op_name=\"jit(get_mean_cosmo)/jit(main)/vmap(jvp(vmap(vmap(vmap(vmap(jit(get_zeta)))))))/vmap(jit(get_Mcga))/jit(trapz)/add\" source_file=\"/mnt/home/spandey/ceph/GODMAX/src/get_BCMP_profile_jit.py\" source_line=255\n\t\tXLA Label: fusion\n\t\tShape: f64[32,16,20,28,32,63]\n\t\t==========================\n\n\tBuffer 11:\n\t\tSize: 4.31GiB\n\t\tOperator: op_name=\"jit(get_mean_cosmo)/jit(main)/vmap(jvp(vmap(vmap(vmap(vmap(jit(get_zeta)))))))/vmap(jit(get_Mcga))/jit(trapz)/add\" source_file=\"/mnt/home/spandey/ceph/GODMAX/src/get_BCMP_profile_jit.py\" source_line=255\n\t\tXLA Label: fusion\n\t\tShape: f64[32,16,20,28,32,63]\n\t\t==========================\n\n\tBuffer 12:\n\t\tSize: 280.00MiB\n\t\tOperator: op_name=\"jit(get_mean_cosmo)/jit(main)/vmap(jvp(vmap(vmap(vmap(vmap(jit(get_zeta)))))))/vmap(jit(get_Mcga))/mul\" source_file=\"/mnt/home/spandey/ceph/GODMAX/src/get_BCMP_profile_jit.py\" source_line=254\n\t\tXLA Label: fusion\n\t\tShape: f64[1,32,20,28,32,64]\n\t\t==========================\n\n\tBuffer 13:\n\t\tSize: 280.00MiB\n\t\tOperator: op_name=\"jit(get_mean_cosmo)/jit(main)/vmap(jvp(vmap(vmap(vmap(vmap(jit(get_zeta)))))))/vmap(jit(get_Mcga))/mul\" source_file=\"/mnt/home/spandey/ceph/GODMAX/src/get_BCMP_profile_jit.py\" source_line=254\n\t\tXLA Label: fusion\n\t\tShape: f64[32,20,28,32,64]\n\t\t==========================\n\n\tBuffer 14:\n\t\tSize: 280.00MiB\n\t\tOperator: op_name=\"jit(get_mean_cosmo)/jit(main)/vmap(jvp(vmap(vmap(vmap(vmap(jit(get_zeta)))))))/vmap(jit(get_Mcga))/mul\" source_file=\"/mnt/home/spandey/ceph/GODMAX/src/get_BCMP_profile_jit.py\" source_line=254\n\t\tXLA Label: fusion\n\t\tShape: f64[32,20,28,32,64]\n\t\t==========================\n\n\tBuffer 15:\n\t\tSize: 280.00MiB\n\t\tOperator: op_name=\"jit(get_mean_cosmo)/jit(main)/vmap(jvp(vmap(vmap(vmap(vmap(jit(get_zeta)))))))/vmap(jit(get_Mcga))/vmap(jit(get_rho_cga))/exp\" source_file=\"/mnt/home/spandey/ceph/GODMAX/src/get_BCMP_profile_jit.py\" source_line=382\n\t\tXLA Label: fusion\n\t\tShape: f64[1,32,20,28,32,64]\n\t\t==========================\n\n"
     ]
    }
   ],
   "source": [
    "\n",
    "cosmo_params_vary_names_all = ['Om0', 'Ob0', 'H0', 'ns', 'sigma8']\n",
    "# cosmo_params_vary_names_all = ['Om0', 'Ob0', 'sigma8']\n",
    "# cosmo_params_vary_names_all = ['Om0']\n",
    "\n",
    "cosmo_params_fid_all = np.zeros(len(cosmo_params_vary_names_all))\n",
    "for jp in range(len(cosmo_params_vary_names_all)):\n",
    "    cosmo_params_fid_all[jp] = sim_params_dict['cosmo'][cosmo_params_vary_names_all[jp]]\n",
    "\n",
    "dmu_cosmo_all = np.zeros((len(mean_dv_val), len(cosmo_params_vary_names_all)))\n",
    "for jp in tqdm(range(len(cosmo_params_vary_names_all))):\n",
    "    cosmo_params_vary_names = [cosmo_params_vary_names_all[jp]]\n",
    "    params_fid = jnp.array([sim_params_dict['cosmo'][cosmo_params_vary_names_all[jp]]])\n",
    "\n",
    "    jac_mean = jax.jit(jax.jacfwd(get_mean_cosmo))\n",
    "    dmu_cosmo = jac_mean(params_fid)\n",
    "    dmu_cosmo_all[:, jp] = dmu_cosmo[:,0]\n",
    "\n",
    "\n"
   ]
  },
  {
   "cell_type": "code",
   "execution_count": 14,
   "metadata": {},
   "outputs": [
    {
     "name": "stderr",
     "output_type": "stream",
     "text": [
      "  0%|          | 0/10 [00:00<?, ?it/s]"
     ]
    },
    {
     "name": "stderr",
     "output_type": "stream",
     "text": [
      "100%|██████████| 10/10 [03:47<00:00, 22.78s/it]"
     ]
    },
    {
     "name": "stdout",
     "output_type": "stream",
     "text": [
      "[3.70170261e+00 4.10738755e-03 2.52110944e+00 2.38984855e-04\n",
      " 1.07388687e+00 1.01698779e+00 3.50502477e+01 5.97776657e-02\n",
      " 3.24867705e-01 1.28473223e+00]\n"
     ]
    },
    {
     "name": "stderr",
     "output_type": "stream",
     "text": [
      "\n"
     ]
    }
   ],
   "source": [
    "import jax \n",
    "from tqdm import tqdm\n",
    "\n",
    "@jax.jit\n",
    "def get_mean_sims(p):\n",
    "    sim_params_dict_vary = copy.deepcopy(sim_params_dict)\n",
    "    other_params_dict_vary = copy.deepcopy(other_params_dict)\n",
    "\n",
    "    for jp in range(len(sim_param_vary_names)):\n",
    "        sim_params_dict_vary[sim_param_vary_names[jp]] = p[jp]\n",
    "    \n",
    "    get_corrfunc_BCMP_test = get_corrfunc_BCMP(sim_params_dict_vary, halo_params_dict, analysis_dict, other_params_dict_vary, verbose_time=False)\n",
    "\n",
    "    def get_gty_from_index(index):\n",
    "        index_val = index_gty[index]\n",
    "        return get_corrfunc_BCMP_test.gty_out_mat[index_val[0], index_val[1]]\n",
    "\n",
    "    def get_xip_from_index(index):\n",
    "        index_val = index_xip[index]\n",
    "        return get_corrfunc_BCMP_test.xip_out_mat[index_val[0], index_val[1], index_val[2]]\n",
    "\n",
    "    def get_xim_from_index(index):\n",
    "        index_val = index_xim[index]\n",
    "        return get_corrfunc_BCMP_test.xim_out_mat[index_val[0], index_val[1], index_val[2]]\n",
    "\n",
    "    gty_val = vmap(get_gty_from_index)(np.arange(100))\n",
    "    xip_val = vmap(get_xip_from_index)(np.arange(300))\n",
    "    xim_val = vmap(get_xim_from_index)(np.arange(300))\n",
    "\n",
    "    if probe == 'xip_xim':\n",
    "        mu = jnp.concatenate([xip_val, xim_val])\n",
    "    elif probe == 'gty':\n",
    "        mu = gty_val\n",
    "    else:\n",
    "        mu = jnp.concatenate([gty_val, xip_val, xim_val])\n",
    "\n",
    "    return mu\n",
    "\n",
    "# sims_params_vary_names_all = ['eta_star','alpha_nt', 'theta_ej_0', 'theta_co_0','nu_theta_ej_M', 'nu_theta_ej_z', 'nu_z', 'log10_Mc0','mu_beta', 'delta_rhogas', 'gamma_rhogas']\n",
    "\n",
    "# sims_params_vary_names_all = ['eta_star','alpha_nt', 'theta_ej_0', 'theta_co_0','nu_theta_ej_M', 'nu_theta_ej_z', 'nu_z', 'log10_Mc0','mu_beta', 'delta_rhogas', 'gamma_rhogas']\n",
    "# sims_params_vary_names_all = ['theta_ej_0', 'theta_co_0', 'delta_rhogas', 'gamma_rhogas']\n",
    "# sims_params_vary_names_all = ['theta_ej_0', 'theta_co_0', 'gamma_rhogas','mu_beta','eta_star','alpha_nt', 'log10_Mc0','nu_theta_ej_M']\n",
    "# sims_params_vary_names_all = ['theta_ej_0', 'theta_co_0', 'gamma_rhogas','mu_beta','eta_star','alpha_nt', 'log10_Mc0','nu_theta_ej_M']\n",
    "# sims_params_vary_names_all = ['theta_ej_0', 'theta_co_0','nu_z', 'gamma_rhogas', 'delta_rhogas','mu_beta','nu_theta_ej_M','eta_star','alpha_nt']\n",
    "# sims_params_vary_names_all = ['theta_ej_0', 'theta_co_0','nu_z', 'gamma_rhogas','mu_beta','nu_theta_ej_M','eta_star','alpha_nt']\n",
    "\n",
    "sims_params_vary_names_all = ['theta_ej_0', 'theta_co_0','nu_z', 'nu_theta_ej_z', 'gamma_rhogas','mu_beta', 'log10_Mc0','eta_star','alpha_nt', 'nu_theta_ej_M']\n",
    "\n",
    "# sims_params_vary_names_all = ['theta_ej_0', 'theta_co_0']\n",
    "\n",
    "\n",
    "# sims_params_vary_names_all = ['theta_ej_0', 'theta_co_0','nu_z', 'gamma_rhogas','mu_beta', 'log10_Mc0','eta_star','alpha_nt']\n",
    "sims_params_fid_all = np.zeros(len(sims_params_vary_names_all))\n",
    "for jp in range(len(sims_params_vary_names_all)):\n",
    "    sims_params_fid_all[jp] = sim_params_dict[sims_params_vary_names_all[jp]]\n",
    "\n",
    "dmu_sims_all = np.zeros((len(mean_dv_val), len(sims_params_vary_names_all)))\n",
    "for jp in tqdm(range(len(sims_params_vary_names_all))):\n",
    "    sim_param_vary_names = [sims_params_vary_names_all[jp]]\n",
    "    params_fid = jnp.array([sim_params_dict[sims_params_vary_names_all[jp]]])\n",
    "\n",
    "    jac_mean = jax.jit(jax.jacfwd(get_mean_sims))\n",
    "    dmu_sim = jac_mean(params_fid)\n",
    "    dmu_sims_all[:,jp] = dmu_sim[:,0]\n",
    "\n",
    "F_sims = jnp.matmul(dmu_sims_all.T, jnp.matmul(P, dmu_sims_all))\n",
    "# print(np.linalg.cond(F_sims))\n",
    "cov_sims_params = np.linalg.inv(F_sims)\n",
    "print(np.sqrt(np.diag(cov_sims_params)))\n",
    "\n",
    "\n"
   ]
  },
  {
   "cell_type": "code",
   "execution_count": 162,
   "metadata": {},
   "outputs": [],
   "source": [
    "# F_sims\n",
    "# print(np.linalg.cond(F_sims))\n",
    "# [1.19154918e+00 1.12868658e-03 1.44971859e+00 7.12045359e-01\n",
    "#  3.77011455e-02 2.69427175e+00 2.00689285e-02 2.41487186e-02]\n"
   ]
  },
  {
   "cell_type": "code",
   "execution_count": 163,
   "metadata": {},
   "outputs": [],
   "source": [
    "# # [0.81274005 0.00220525 1.04479519 0.5617703  0.21365927 0.71319808\n",
    "# #  0.03936394 0.89099363]\n",
    "# pl.figure()\n",
    "# for jp in range(len(sims_params_vary_names_all)):\n",
    "#     pl.plot(np.abs(dmu_sims_all[:,jp]/mean_dv_val))\n",
    "# pl.yscale('log')\n",
    "# # pl.ylim(-1e-5, 1e-5)\n"
   ]
  },
  {
   "cell_type": "code",
   "execution_count": 164,
   "metadata": {},
   "outputs": [
    {
     "name": "stderr",
     "output_type": "stream",
     "text": [
      "  0%|          | 0/2 [00:00<?, ?it/s]"
     ]
    },
    {
     "name": "stderr",
     "output_type": "stream",
     "text": [
      "100%|██████████| 2/2 [00:22<00:00, 11.11s/it]\n"
     ]
    }
   ],
   "source": [
    "import jax \n",
    "from tqdm import tqdm\n",
    "\n",
    "@jax.jit\n",
    "def get_mean_IA(p):\n",
    "    sim_params_dict_vary = copy.deepcopy(sim_params_dict)\n",
    "    other_params_dict_vary = copy.deepcopy(other_params_dict)\n",
    "\n",
    "    for jp in range(len(IA_param_vary_names)):\n",
    "        other_params_dict_vary[IA_param_vary_names[jp]] = p[jp]\n",
    "    \n",
    "    get_corrfunc_BCMP_test = get_corrfunc_BCMP(sim_params_dict_vary, halo_params_dict, analysis_dict, other_params_dict_vary, verbose_time=False)\n",
    "\n",
    "    def get_gty_from_index(index):\n",
    "        index_val = index_gty[index]\n",
    "        return get_corrfunc_BCMP_test.gty_out_mat[index_val[0], index_val[1]]\n",
    "\n",
    "    def get_xip_from_index(index):\n",
    "        index_val = index_xip[index]\n",
    "        return get_corrfunc_BCMP_test.xip_out_mat[index_val[0], index_val[1], index_val[2]]\n",
    "\n",
    "    def get_xim_from_index(index):\n",
    "        index_val = index_xim[index]\n",
    "        return get_corrfunc_BCMP_test.xim_out_mat[index_val[0], index_val[1], index_val[2]]\n",
    "\n",
    "    gty_val = vmap(get_gty_from_index)(np.arange(100))\n",
    "    xip_val = vmap(get_xip_from_index)(np.arange(300))\n",
    "    xim_val = vmap(get_xim_from_index)(np.arange(300))\n",
    "\n",
    "    if probe == 'xip_xim':\n",
    "        mu = jnp.concatenate([xip_val, xim_val])\n",
    "    elif probe == 'gty':\n",
    "        mu = gty_val\n",
    "    else:\n",
    "        mu = jnp.concatenate([gty_val, xip_val, xim_val])\n",
    "\n",
    "    return mu\n",
    "\n",
    "IA_params_vary_names_all = ['A_IA', 'eta_IA']\n",
    "\n",
    "IA_params_fid_all = np.zeros(len(IA_params_vary_names_all))\n",
    "for jp in range(len(IA_params_vary_names_all)):\n",
    "    IA_params_fid_all[jp] = other_params_dict[IA_params_vary_names_all[jp]]\n",
    "\n",
    "dmu_IA_all = np.zeros((len(mean_dv_val), len(IA_params_vary_names_all)))\n",
    "for jp in tqdm(range(len(IA_params_vary_names_all))):\n",
    "    IA_param_vary_names = [IA_params_vary_names_all[jp]]\n",
    "    params_fid = jnp.array([other_params_dict[IA_params_vary_names_all[jp]]])\n",
    "\n",
    "    jac_mean = jax.jit(jax.jacfwd(get_mean_IA))\n",
    "    dmu_IA = jac_mean(params_fid)\n",
    "    dmu_IA_all[:, jp] = dmu_IA[:, 0]\n",
    "\n",
    "\n"
   ]
  },
  {
   "cell_type": "code",
   "execution_count": 165,
   "metadata": {},
   "outputs": [],
   "source": [
    "# dmu_IA_all\n",
    "# F_IA = jnp.matmul(dmu_IA_all.T, jnp.matmul(P, dmu_IA_all))\n",
    "# print(F_IA)\n",
    "\n",
    "\n"
   ]
  },
  {
   "cell_type": "code",
   "execution_count": 166,
   "metadata": {},
   "outputs": [],
   "source": [
    "import jax \n",
    "\n",
    "@jax.jit\n",
    "def get_mean_mult_shear(p):\n",
    "    sim_params_dict_vary = copy.deepcopy(sim_params_dict)\n",
    "    other_params_dict_vary = copy.deepcopy(other_params_dict)\n",
    "\n",
    "    other_params_dict_vary['mult_shear_bias_array'] = p\n",
    "\n",
    "    get_corrfunc_BCMP_test = get_corrfunc_BCMP(sim_params_dict_vary, halo_params_dict, analysis_dict, other_params_dict_vary, verbose_time=False)\n",
    "\n",
    "    def get_gty_from_index(index):\n",
    "        index_val = index_gty[index]\n",
    "        return get_corrfunc_BCMP_test.gty_out_mat[index_val[0], index_val[1]]\n",
    "\n",
    "    def get_xip_from_index(index):\n",
    "        index_val = index_xip[index]\n",
    "        return get_corrfunc_BCMP_test.xip_out_mat[index_val[0], index_val[1], index_val[2]]\n",
    "\n",
    "    def get_xim_from_index(index):\n",
    "        index_val = index_xim[index]\n",
    "        return get_corrfunc_BCMP_test.xim_out_mat[index_val[0], index_val[1], index_val[2]]\n",
    "\n",
    "    gty_val = vmap(get_gty_from_index)(np.arange(100))\n",
    "    xip_val = vmap(get_xip_from_index)(np.arange(300))\n",
    "    xim_val = vmap(get_xim_from_index)(np.arange(300))\n",
    "\n",
    "    if probe == 'xip_xim':\n",
    "        mu = jnp.concatenate([xip_val, xim_val])\n",
    "    elif probe == 'gty':\n",
    "        mu = gty_val\n",
    "    else:\n",
    "        mu = jnp.concatenate([gty_val, xip_val, xim_val])\n",
    "\n",
    "    return mu\n",
    "\n",
    "mult_shear_vary_names = ['mult_shear_bias_bin1', 'mult_shear_bias_bin2', 'mult_shear_bias_bin3', 'mult_shear_bias_bin4', 'mult_shear_bias_bin5'] \n",
    "params_fid = jnp.zeros(len(mult_shear_vary_names))\n",
    "jac_mean = jax.jit(jax.jacfwd(get_mean_mult_shear))\n",
    "dmu_mult_shear_all = jac_mean(params_fid)\n",
    "\n"
   ]
  },
  {
   "cell_type": "code",
   "execution_count": 167,
   "metadata": {},
   "outputs": [],
   "source": [
    "import jax \n",
    "\n",
    "@jax.jit\n",
    "def get_mean_bias_Deltaz(p):\n",
    "    sim_params_dict_vary = copy.deepcopy(sim_params_dict)\n",
    "    other_params_dict_vary = copy.deepcopy(other_params_dict)\n",
    "\n",
    "    other_params_dict_vary['Delta_z_bias_array'] = p\n",
    "\n",
    "    get_corrfunc_BCMP_test = get_corrfunc_BCMP(sim_params_dict_vary, halo_params_dict, analysis_dict, other_params_dict_vary, verbose_time=False)\n",
    "\n",
    "    def get_gty_from_index(index):\n",
    "        index_val = index_gty[index]\n",
    "        return get_corrfunc_BCMP_test.gty_out_mat[index_val[0], index_val[1]]\n",
    "\n",
    "    def get_xip_from_index(index):\n",
    "        index_val = index_xip[index]\n",
    "        return get_corrfunc_BCMP_test.xip_out_mat[index_val[0], index_val[1], index_val[2]]\n",
    "\n",
    "    def get_xim_from_index(index):\n",
    "        index_val = index_xim[index]\n",
    "        return get_corrfunc_BCMP_test.xim_out_mat[index_val[0], index_val[1], index_val[2]]\n",
    "\n",
    "    gty_val = vmap(get_gty_from_index)(np.arange(100))\n",
    "    xip_val = vmap(get_xip_from_index)(np.arange(300))\n",
    "    xim_val = vmap(get_xim_from_index)(np.arange(300))\n",
    "\n",
    "    if probe == 'xip_xim':\n",
    "        mu = jnp.concatenate([xip_val, xim_val])\n",
    "    elif probe == 'gty':\n",
    "        mu = gty_val\n",
    "    else:\n",
    "        mu = jnp.concatenate([gty_val, xip_val, xim_val])\n",
    "\n",
    "    return mu\n",
    "\n",
    "Delta_shear_vary_names = ['Delta_z_bias_bin1', 'Delta_z_bias_bin2', 'Delta_z_bias_bin3', 'Delta_z_bias_bin4', 'Delta_z_bias_bin5']\n",
    "params_fid = jnp.zeros(len(Delta_shear_vary_names))\n",
    "jac_mean = jax.jit(jax.jacfwd(get_mean_bias_Deltaz))\n",
    "dmu_bias_Deltaz_all = jac_mean(params_fid)\n",
    "\n"
   ]
  },
  {
   "cell_type": "code",
   "execution_count": 168,
   "metadata": {},
   "outputs": [
    {
     "name": "stdout",
     "output_type": "stream",
     "text": [
      "(27, 27)\n"
     ]
    }
   ],
   "source": [
    "dmu_all = np.concatenate([dmu_cosmo_all, dmu_sims_all, dmu_IA_all, dmu_mult_shear_all, dmu_bias_Deltaz_all], axis=1)\n",
    "# dmu_all = np.concatenate([dmu_cosmo_all.T, dmu_sims_all.T, dmu_IA_all.T, dmu_mult_shear_all, dmu_bias_Deltaz_all], axis=1)\n",
    "# dmu_all.shape\n",
    "\n",
    "F_all = jnp.matmul(dmu_all.T, jnp.matmul(P, dmu_all))\n",
    "\n",
    "print(F_all.shape)\n"
   ]
  },
  {
   "cell_type": "code",
   "execution_count": 169,
   "metadata": {},
   "outputs": [
    {
     "name": "stdout",
     "output_type": "stream",
     "text": [
      "429036491.8882529\n",
      "286886988.05286455\n",
      "3117.327774967506\n",
      "81.85054598056897\n",
      "4.397148749307751\n"
     ]
    }
   ],
   "source": [
    "# np.linalg.cond(F_all)\n",
    "F_cosmo = jnp.matmul(dmu_cosmo_all.T, jnp.matmul(P, dmu_cosmo_all))\n",
    "F_sims = jnp.matmul(dmu_sims_all.T, jnp.matmul(P, dmu_sims_all))\n",
    "F_IA = jnp.matmul(dmu_IA_all.T, jnp.matmul(P, dmu_IA_all))\n",
    "F_mult_shear = jnp.matmul(dmu_mult_shear_all.T, jnp.matmul(P, dmu_mult_shear_all))\n",
    "F_bias_Deltaz = jnp.matmul(dmu_bias_Deltaz_all.T, jnp.matmul(P, dmu_bias_Deltaz_all))\n",
    "\n",
    "print(np.linalg.cond(F_cosmo))\n",
    "print(np.linalg.cond(F_sims))\n",
    "print(np.linalg.cond(F_IA))\n",
    "print(np.linalg.cond(F_mult_shear))\n",
    "print(np.linalg.cond(F_bias_Deltaz))\n",
    "\n"
   ]
  },
  {
   "cell_type": "code",
   "execution_count": 170,
   "metadata": {},
   "outputs": [],
   "source": [
    "# np.sqrt(np.linalg.inv(F_IA))\n"
   ]
  },
  {
   "cell_type": "code",
   "execution_count": 171,
   "metadata": {},
   "outputs": [],
   "source": [
    "# F_all.shape\n",
    "fid_params_all = np.concatenate([cosmo_params_fid_all, sims_params_fid_all, IA_params_fid_all, other_params_dict['mult_shear_bias_array'], other_params_dict['Delta_z_bias_array']])\n"
   ]
  },
  {
   "cell_type": "code",
   "execution_count": 172,
   "metadata": {},
   "outputs": [
    {
     "data": {
      "text/plain": [
       "array([ 3.10e-01,  4.90e-02,  6.72e+01,  9.50e-01,  8.10e-01,  4.00e+00,\n",
       "        1.00e-01, -2.50e+00,  5.00e-02,  2.00e+00,  2.10e-01,  1.50e+01,\n",
       "        3.00e-01,  1.80e-01, -2.00e-01,  1.00e-01,  0.00e+00,  0.00e+00,\n",
       "        0.00e+00,  0.00e+00,  0.00e+00,  0.00e+00,  0.00e+00,  0.00e+00,\n",
       "        0.00e+00,  0.00e+00,  0.00e+00])"
      ]
     },
     "execution_count": 172,
     "metadata": {},
     "output_type": "execute_result"
    }
   ],
   "source": [
    "fid_params_all\n",
    "# fid_params_all\n",
    "# sims_params_fid_all\n"
   ]
  },
  {
   "cell_type": "code",
   "execution_count": 173,
   "metadata": {},
   "outputs": [],
   "source": [
    "from matplotlib.patches import Ellipse\n",
    "import matplotlib.pyplot as pl\n",
    "def plot_contours(fisher, pos, inds=[1,0], nstd=1., ax=None, **kwargs):\n",
    "  \"\"\"\n",
    "  Plot 2D parameter contours given a Hessian matrix of the likelihood\n",
    "  \"\"\"\n",
    "  i,j = inds\n",
    "  \n",
    "  def eigsorted(cov):\n",
    "    vals, vecs = np.linalg.eigh(cov)\n",
    "    order = vals.argsort()[::-1]\n",
    "    return vals[order], vecs[:, order]\n",
    "\n",
    "  mat = fisher\n",
    "  cov = np.linalg.inv(mat)\n",
    "  sigma_marg = lambda i: np.sqrt(cov[i, i])\n",
    "\n",
    "  if ax is None:\n",
    "      ax = pl.gca()\n",
    "\n",
    "  # Extracts the block we are interested in\n",
    "  block_cov = cov[:,[i,j]][[i,j],:]\n",
    "  vals, vecs = eigsorted(block_cov)\n",
    "  theta = np.degrees(np.arctan2(*vecs[:, 0][::-1]))\n",
    "\n",
    "  # Width and height are \"full\" widths, not radius\n",
    "  width, height = 2 * nstd * np.sqrt(vals)\n",
    "  ellip = Ellipse(xy=pos[[i,j]], width=width,\n",
    "                  height=height, angle=theta, **kwargs)\n",
    "\n",
    "  ax.add_artist(ellip)\n",
    "  sz = max(width, height)\n",
    "  s1 = 1.5*nstd*sigma_marg(i)\n",
    "  s2 = 1.5*nstd*sigma_marg(j)\n",
    "  ax.set_xlim(pos[i] - s1, pos[i] + s1)\n",
    "  ax.set_ylim(pos[j] - s2, pos[j] + s2)\n",
    "  pl.draw()\n",
    "  return ellip\n",
    "\n"
   ]
  },
  {
   "cell_type": "code",
   "execution_count": 174,
   "metadata": {},
   "outputs": [],
   "source": [
    "# Add priors to systematics\n",
    "import numpy as np\n",
    "d = np.zeros(F_all.shape[0])\n",
    "d[F_all.shape[0]-nz_info_dict['nbins']:] = 1/(1e-3)**2\n",
    "d[F_all.shape[0]-2*nz_info_dict['nbins']:F_all.shape[0]-nz_info_dict['nbins']] = 1/(3e-3)**2\n",
    "\n",
    "F_all = F_all + np.diag(d)\n"
   ]
  },
  {
   "cell_type": "code",
   "execution_count": 175,
   "metadata": {},
   "outputs": [],
   "source": [
    "# fid_params_all = np.concatenate([cosmo_params_fid, sims_params_fid, IA_params_fid, other_params_fid])\n",
    "# fid_params_all = np.zeros(F_all.shape[0])\n"
   ]
  },
  {
   "cell_type": "code",
   "execution_count": 176,
   "metadata": {},
   "outputs": [
    {
     "data": {
      "text/plain": [
       "6973209052.718622"
      ]
     },
     "execution_count": 176,
     "metadata": {},
     "output_type": "execute_result"
    }
   ],
   "source": [
    "import jax_cosmo as jc\n",
    "# cov = jc.sparse.inv(F_all)\n",
    "# np.linalg.inv(F_all)\n",
    "np.linalg.cond(F_all)\n",
    "\n"
   ]
  },
  {
   "cell_type": "code",
   "execution_count": 177,
   "metadata": {},
   "outputs": [
    {
     "data": {
      "text/plain": [
       "array([2.37237882e-04, 3.51888477e-04, 2.31986925e+02, 2.03060610e-02,\n",
       "       4.83391029e-04, 3.63437387e+01, 4.65953513e-03, 4.10796747e+01,\n",
       "       5.61751134e-05, 1.33955467e+01, 8.72986171e+00, 3.78261796e+01,\n",
       "       1.58598979e-01, 1.10287579e+00, 1.12928422e+01, 2.21300889e-01,\n",
       "       2.28091100e-01, 8.95061534e-06, 7.82154243e-06, 6.79606443e-06,\n",
       "       5.35215816e-06, 7.37620509e-06, 9.66818878e-07, 8.47611969e-07,\n",
       "       8.83829189e-07, 9.14894179e-07, 9.93518008e-07])"
      ]
     },
     "execution_count": 177,
     "metadata": {},
     "output_type": "execute_result"
    }
   ],
   "source": [
    "cov = np.linalg.inv(F_all)\n",
    "np.diag(cov)\n",
    "\n"
   ]
  },
  {
   "cell_type": "code",
   "execution_count": 178,
   "metadata": {},
   "outputs": [
    {
     "data": {
      "text/plain": [
       "array([2.37237882e-04, 3.51888477e-04, 2.31986925e+02, 2.03060610e-02,\n",
       "       4.83391029e-04, 3.63437387e+01, 4.65953513e-03, 4.10796747e+01,\n",
       "       5.61751134e-05, 1.33955467e+01, 8.72986171e+00, 3.78261796e+01,\n",
       "       1.58598979e-01, 1.10287579e+00, 1.12928422e+01, 2.21300889e-01,\n",
       "       2.28091100e-01, 8.95061534e-06, 7.82154243e-06, 6.79606443e-06,\n",
       "       5.35215816e-06, 7.37620509e-06, 9.66818878e-07, 8.47611969e-07,\n",
       "       8.83829189e-07, 9.14894179e-07, 9.93518008e-07])"
      ]
     },
     "execution_count": 178,
     "metadata": {},
     "output_type": "execute_result"
    }
   ],
   "source": [
    "# fid_params_all\n",
    "# mat = fisher\n",
    "cov = np.linalg.inv(F_all)\n",
    "np.diag(cov)\n"
   ]
  },
  {
   "cell_type": "code",
   "execution_count": 179,
   "metadata": {},
   "outputs": [
    {
     "data": {
      "text/plain": [
       "<matplotlib.patches.Ellipse at 0x1543996f2f00>"
      ]
     },
     "execution_count": 179,
     "metadata": {},
     "output_type": "execute_result"
    },
    {
     "data": {
      "image/png": "[encoded data removed]",
      "text/plain": [
       "<Figure size 640x480 with 1 Axes>"
      ]
     },
     "metadata": {},
     "output_type": "display_data"
    }
   ],
   "source": [
    "plot_contours(F_all, fid_params_all, inds=[5,7])\n"
   ]
  },
  {
   "cell_type": "code",
   "execution_count": 180,
   "metadata": {},
   "outputs": [
    {
     "data": {
      "text/plain": [
       "<matplotlib.patches.Ellipse at 0x154399f7ac90>"
      ]
     },
     "execution_count": 180,
     "metadata": {},
     "output_type": "execute_result"
    },
    {
     "data": {
      "image/png": "[encoded data removed]",
      "text/plain": [
       "<Figure size 640x480 with 1 Axes>"
      ]
     },
     "metadata": {},
     "output_type": "display_data"
    }
   ],
   "source": [
    "# plot_contours(F_all, fid_params_all, inds=[4,0])\n",
    "plot_contours(F_all, fid_params_all, inds=[5,7])\n",
    "# xlabel('Omega_c')\n",
    "# ylabel('sigma8')\n"
   ]
  },
  {
   "cell_type": "code",
   "execution_count": 181,
   "metadata": {},
   "outputs": [],
   "source": [
    "cov = np.linalg.inv(F_all)\n",
    "mean = fid_params_all\n",
    "# get samples from this multi dimensional gaussian\n",
    "samples = np.random.multivariate_normal(mean, cov, 100000)\n"
   ]
  },
  {
   "cell_type": "code",
   "execution_count": 182,
   "metadata": {},
   "outputs": [
    {
     "data": {
      "text/plain": [
       "array([ 3.10e-01,  4.90e-02,  6.72e+01,  9.50e-01,  8.10e-01,  4.00e+00,\n",
       "        1.00e-01, -2.50e+00,  5.00e-02,  2.00e+00,  2.10e-01,  1.50e+01,\n",
       "        3.00e-01,  1.80e-01, -2.00e-01,  1.00e-01,  0.00e+00,  0.00e+00,\n",
       "        0.00e+00,  0.00e+00,  0.00e+00,  0.00e+00,  0.00e+00,  0.00e+00,\n",
       "        0.00e+00,  0.00e+00,  0.00e+00])"
      ]
     },
     "execution_count": 182,
     "metadata": {},
     "output_type": "execute_result"
    }
   ],
   "source": [
    "# F_all\n",
    "fid_params_all\n",
    "\n"
   ]
  },
  {
   "cell_type": "code",
   "execution_count": 183,
   "metadata": {},
   "outputs": [],
   "source": [
    "saved = {'samples':samples, 'mean':mean, 'cov':cov, 'F_all':F_all}\n",
    "import pickle as pk\n",
    "# pk.dump(saved, open('/mnt/home/spandey/ceph/GODMAX/data/forecast/samples_Y1.pk', 'wb'))\n",
    "# pk.dump(saved, open('/mnt/home/spandey/ceph/GODMAX/data/forecast/samples_Y1_REDUCEDSET.pk', 'wb'))\n",
    "# pk.dump(saved, open('/mnt/home/spandey/ceph/GODMAX/data/forecast/samples_Y6.pk', 'wb'))\n",
    "# pk.dump(saved, open('/mnt/home/spandey/ceph/GODMAX/data/forecast/samples_Y6_REDUCEDSET.pk', 'wb'))\n",
    "\n",
    "# pk.dump(saved, open('/mnt/home/spandey/ceph/GODMAX/data/forecast/samples_Y1_REDUCEDSET_xipxim_only.pk', 'wb'))\n",
    "# pk.dump(saved, open('/mnt/home/spandey/ceph/GODMAX/data/forecast/samples_Y6_REDUCEDSET_xipxim_only.pk', 'wb'))\n",
    "\n",
    "\n",
    "# pk.dump(saved, open('/mnt/home/spandey/ceph/GODMAX/data/forecast/samples_Y1_FINALSET.pk', 'wb'))\n",
    "# pk.dump(saved, open('/mnt/home/spandey/ceph/GODMAX/data/forecast/samples_Y1_FINALSET_xipxim_only.pk', 'wb'))\n",
    "# pk.dump(saved, open('/mnt/home/spandey/ceph/GODMAX/data/forecast/samples_Y1_FINALSET_gty_only_wFcov.pk', 'wb'))\n",
    "# pk.dump(saved, open('/mnt/home/spandey/ceph/GODMAX/data/forecast/samples_Y6_FINALSET.pk', 'wb'))\n",
    "# pk.dump(saved, open('/mnt/home/spandey/ceph/GODMAX/data/forecast/samples_Y6_FINALSET_xipxim_only.pk', 'wb'))\n",
    "\n",
    "\n",
    "# pk.dump(saved, open('/mnt/home/spandey/ceph/GODMAX/data/forecast/samples_Y1_FINALSET_wFcov.pk', 'wb'))\n",
    "# pk.dump(saved, open('/mnt/home/spandey/ceph/GODMAX/data/forecast/samples_Y1_FINALSET_xipxim_only_wFcov.pk', 'wb'))\n",
    "# pk.dump(saved, open('/mnt/home/spandey/ceph/GODMAX/data/forecast/samples_Y1_FINALSET_gty_only_wFcov.pk', 'wb'))\n",
    "# pk.dump(saved, open('/mnt/home/spandey/ceph/GODMAX/data/forecast/samples_Y6_FINALSET_wFcov.pk', 'wb'))\n",
    "pk.dump(saved, open('/mnt/home/spandey/ceph/GODMAX/data/forecast/samples_Y6_FINALSET_xipxim_only_wFcov.pk', 'wb'))\n",
    "# pk.dump(saved, open('/mnt/home/spandey/ceph/GODMAX/data/forecast/samples_Y6_FINALSET_gty_only_wFcov.pk', 'wb'))\n",
    "\n"
   ]
  },
  {
   "cell_type": "code",
   "execution_count": 63,
   "metadata": {},
   "outputs": [
    {
     "name": "stdout",
     "output_type": "stream",
     "text": [
      "Removed no burn in\n"
     ]
    },
    {
     "data": {
      "text/plain": [
       "<Figure size 600x450 with 0 Axes>"
      ]
     },
     "metadata": {},
     "output_type": "display_data"
    },
    {
     "data": {
      "text/plain": [
       "<Figure size 600x450 with 0 Axes>"
      ]
     },
     "metadata": {},
     "output_type": "display_data"
    },
    {
     "data": {
      "image/png": "[encoded data removed]",
      "text/plain": [
       "<Figure size 600x450 with 3 Axes>"
      ]
     },
     "metadata": {},
     "output_type": "display_data"
    },
    {
     "data": {
      "text/plain": [
       "<Figure size 600x450 with 0 Axes>"
      ]
     },
     "metadata": {},
     "output_type": "display_data"
    },
    {
     "data": {
      "image/png": "[encoded data removed]",
      "text/plain": [
       "<Figure size 600x450 with 3 Axes>"
      ]
     },
     "metadata": {},
     "output_type": "display_data"
    }
   ],
   "source": [
    "import getdist\n",
    "from getdist import plots, MCSamples\n",
    "from getdist.gaussian_mixtures import MixtureND\n",
    "chain = MCSamples(samples=samples, name_tag='Mixture')\n",
    "g = plots.get_single_plotter()\n",
    "# samples.updateSettings({'contours': [0.68]})\n",
    "g.settings.num_plot_contours = 1\n",
    "\n",
    "# g = plots.get_subplot_plotter()\n",
    "\n",
    "g.triangle_plot([chain], params=chain.getParamNames().list()[:2], filled=True)\n"
   ]
  },
  {
   "cell_type": "code",
   "execution_count": 62,
   "metadata": {},
   "outputs": [],
   "source": [
    "import matplotlib\n",
    "%matplotlib inline\n"
   ]
  },
  {
   "cell_type": "code",
   "execution_count": 21,
   "metadata": {},
   "outputs": [
    {
     "data": {
      "text/plain": [
       "<matplotlib.legend.Legend at 0x1553635cb860>"
      ]
     },
     "execution_count": 21,
     "metadata": {},
     "output_type": "execute_result"
    },
    {
     "data": {
      "image/png": "[encoded data removed]",
      "text/plain": [
       "<Figure size 640x480 with 1 Axes>"
      ]
     },
     "metadata": {},
     "output_type": "display_data"
    }
   ],
   "source": [
    "# We can now plot contours obtained so far \n",
    "p0_name = r'$\\theta$'\n",
    "p1_name = r'$\\gamma$'\n",
    "# pl.figure()\n",
    "# plot_contours(F, params, fill=False,color='black',lw=3, label=\"method 1\");\n",
    "plot_contours(F_2, params_fid, fill=False, color='red', lw=3, linestyle='dashed', label=\"method 2\");\n",
    "pl.xlabel(p0_name)\n",
    "pl.ylabel(p1_name);\n",
    "pl.legend(fontsize=15)\n"
   ]
  },
  {
   "cell_type": "code",
   "execution_count": 15,
   "metadata": {},
   "outputs": [
    {
     "data": {
      "text/plain": [
       "<matplotlib.legend.Legend at 0x1553954a3860>"
      ]
     },
     "execution_count": 15,
     "metadata": {},
     "output_type": "execute_result"
    },
    {
     "data": {
      "image/png": "[encoded data removed]",
      "text/plain": [
       "<Figure size 640x480 with 1 Axes>"
      ]
     },
     "metadata": {},
     "output_type": "display_data"
    }
   ],
   "source": [
    "# We can now plot contours obtained so far \n",
    "p0_name = r'$\\theta$'\n",
    "p1_name = r'$\\gamma$'\n",
    "# pl.figure()\n",
    "# plot_contours(F, params, fill=False,color='black',lw=3, label=\"method 1\");\n",
    "plot_contours(F_2, params_fid, fill=False, color='red', lw=3, linestyle='dashed', label=\"method 2\");\n",
    "pl.xlabel(p0_name)\n",
    "pl.ylabel(p1_name);\n",
    "pl.legend(fontsize=15)\n"
   ]
  },
  {
   "cell_type": "code",
   "execution_count": null,
   "metadata": {},
   "outputs": [],
   "source": []
  }
 ],
 "metadata": {
  "kernelspec": {
   "display_name": "Python 3",
   "language": "python",
   "name": "python3"
  },
  "language_info": {
   "codemirror_mode": {
    "name": "ipython",
    "version": 3
   },
   "file_extension": ".py",
   "mimetype": "text/x-python",
   "name": "python",
   "nbconvert_exporter": "python",
   "pygments_lexer": "ipython3",
   "version": "3.12.0"
  }
 },
 "nbformat": 4,
 "nbformat_minor": 2
}
