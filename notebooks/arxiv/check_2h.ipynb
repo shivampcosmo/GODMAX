{
 "cells": [
  {
   "cell_type": "code",
   "execution_count": 1,
   "metadata": {},
   "outputs": [
    {
     "name": "stderr",
     "output_type": "stream",
     "text": [
      "/tmp/ipykernel_2471192/2477179059.py:7: DeprecationWarning: Accessing jax.config via the jax.config submodule is deprecated.\n",
      "  from jax.config import config\n"
     ]
    }
   ],
   "source": [
    "%reset\n",
    "import sys, os\n",
    "os.environ[\"CUDA_VISIBLE_DEVICES\"] = \"0\"\n",
    "\n",
    "# Change the current working directory to the desired path\n",
    "os.chdir('/mnt/home/spandey/ceph/GODMAX/src/')\n",
    "from jax.config import config\n",
    "config.update(\"jax_enable_x64\", True)\n",
    "import numpy as np\n",
    "import jax.numpy as jnp\n",
    "import colossus \n",
    "from jax import vmap, grad\n",
    "# %matplotlib inline\n",
    "import matplotlib.pyplot as pl\n",
    "pl.rc('text', usetex=False)\n",
    "# Palatino\n",
    "pl.rc('font', family='DejaVu Sans')\n",
    "import pyccl as ccl\n",
    "\n",
    "\n",
    "%load_ext autoreload\n",
    "%autoreload 2\n",
    "\n",
    "\n"
   ]
  },
  {
   "cell_type": "code",
   "execution_count": 2,
   "metadata": {},
   "outputs": [],
   "source": [
    "# cosmo_params_dict = {'flat': True, 'H0': 67.2, 'Om0': 0.31, 'Ob0': 0.049, 'sigma8': 0.81, 'ns': 0.95, 'w0':-1.0}\n",
    "cosmo = ccl.Cosmology(\n",
    "    Omega_c=0.31-0.049, Omega_b=0.049, h=0.672, sigma8=0.81, n_s=0.95,\n",
    "    transfer_function='eisenstein_hu')\n",
    "\n"
   ]
  },
  {
   "cell_type": "code",
   "execution_count": 3,
   "metadata": {},
   "outputs": [],
   "source": [
    "k_array_ccl = np.logspace(-4, 2, 100)\n",
    "z = 0.0\n",
    "pkz_HF_ccl = ccl.nonlin_matter_power(cosmo, k=k_array_ccl, a=1/(1+z))\n",
    "\n"
   ]
  },
  {
   "cell_type": "code",
   "execution_count": 4,
   "metadata": {},
   "outputs": [],
   "source": [
    "from pyccl.halos.profiles import nfw\n",
    "from pyccl.halos.concentration import duffy08\n",
    "\n"
   ]
  },
  {
   "cell_type": "code",
   "execution_count": 5,
   "metadata": {},
   "outputs": [],
   "source": [
    "conc_model_ccl = duffy08.ConcentrationDuffy08()\n",
    "nfw_prof_ccl = nfw.HaloProfileNFW(mass_def='200c',concentration=conc_model_ccl)\n",
    "\n"
   ]
  },
  {
   "cell_type": "code",
   "execution_count": 6,
   "metadata": {},
   "outputs": [],
   "source": [
    "r_array = np.logspace(-2, 0, 100)\n",
    "z_test = 0.0\n",
    "h = cosmo['h']\n",
    "M_test = 1.07710506e+14\n",
    "conc = conc_model_ccl._concentration(cosmo,M_test/h,1/(1+z_test))\n",
    "\n"
   ]
  },
  {
   "cell_type": "code",
   "execution_count": 7,
   "metadata": {},
   "outputs": [],
   "source": [
    "prof_test_ccl = nfw_prof_ccl._real(cosmo,r_array/h,M_test/h,1/(1+z_test))/(h**2)\n",
    "\n"
   ]
  },
  {
   "cell_type": "code",
   "execution_count": 167,
   "metadata": {},
   "outputs": [],
   "source": [
    "# cosmo_params_dict = {'flat': True, 'H0': 70.0, 'Om0': 0.2793, 'Ob0': 0.0463, 'sigma8': 0.821, 'ns': 0.972, 'w0':-1.0}\n",
    "cosmo_params_dict = {'flat': True, 'H0': 67.2, 'Om0': 0.31, 'Ob0': 0.049, 'sigma8': 0.81, 'ns': 0.95, 'w0':-1.0}\n",
    "sim_params_dict = {}\n",
    "sim_params_dict['nfw_trunc'] = True\n",
    "sim_params_dict['gamma_rhogas'] = 5.0\n",
    "sim_params_dict['delta_rhogas'] = 9.0\n",
    "# sim_params_dict['theta_co'] = 0.01\n",
    "# sim_params_dict['theta_ej'] = 1.0\n",
    "\n",
    "sim_params_dict['theta_co_0'] = 0.01\n",
    "sim_params_dict['log10_Mstar0_theta_co'] = 14.0\n",
    "sim_params_dict['nu_theta_co_M'] = 0.0\n",
    "sim_params_dict['nu_theta_co_z'] = 0.0\n",
    "\n",
    "sim_params_dict['theta_ej_0'] = 2.0\n",
    "sim_params_dict['log10_Mstar0_theta_ej'] = 14.0\n",
    "sim_params_dict['nu_theta_ej_M'] = 0.0\n",
    "sim_params_dict['nu_theta_ej_z'] = 0.0\n",
    "\n",
    "sim_params_dict['log10_Mc0'] = 15.1\n",
    "sim_params_dict['log10_Mstar0'] = 14.0\n",
    "sim_params_dict['mu_beta'] = 0.21\n",
    "sim_params_dict['nu_z'] = 0.0\n",
    "sim_params_dict['nu_M'] = 0.0\n",
    "\n",
    "sim_params_dict['eta_star'] = 0.1\n",
    "sim_params_dict['eta_cga'] = 0.7\n",
    "\n",
    "\n",
    "sim_params_dict['neg_bhse_plus_1'] = 0.833\n",
    "sim_params_dict['A_starcga'] = 0.09\n",
    "sim_params_dict['log10_M1_starcga'] = 11.4\n",
    "sim_params_dict['epsilon_rt'] = 4.0\n",
    "\n",
    "\n",
    "sim_params_dict['a_zeta'] = 0.3\n",
    "sim_params_dict['n_zeta'] = 2\n",
    "sim_params_dict['alpha_nt'] = 0.18\n",
    "sim_params_dict['beta_nt'] = 0.5\n",
    "sim_params_dict['n_nt'] = 0.3\n",
    "sim_params_dict['cosmo'] = cosmo_params_dict\n",
    "\n",
    "\n",
    "halo_params_dict = {}\n",
    "halo_params_dict['rmin'], halo_params_dict['rmax'], halo_params_dict['nr'] = 5e-3, 24, 256\n",
    "# halo_params_dict['zmin'], halo_params_dict['zmax'], halo_params_dict['nz'] = 0.001, 0.002, 2\n",
    "# halo_params_dict['zmin'], halo_params_dict['zmax'], halo_params_dict['nz'] = 0.001, 1.0, 10\n",
    "halo_params_dict['z_array'] = np.array([1e-3, 0.5, 1.0])\n",
    "# halo_params_dict['z_array'] = np.array([1e-3])\n",
    "# halo_params_dict['z_array'] = np.array([0.5])\n",
    "# halo_params_dict['z_array'] = np.array([1.0])\n",
    "halo_params_dict['nz'] = len(halo_params_dict['z_array'])\n",
    "halo_params_dict['lg10_Mmin'], halo_params_dict['lg10_Mmax'], halo_params_dict['nM'] = 10.0, 16.0, 64\n",
    "halo_params_dict['cmin'], halo_params_dict['cmax'], halo_params_dict['nc'] = 2, 8, 16\n",
    "halo_params_dict['ellmin'], halo_params_dict['ellmax'], halo_params_dict['nell'] = 8, 2**15, 64\n",
    "# try:\n",
    "halo_params_dict['sig_logc_z_array'] = np.ones(halo_params_dict['nz']) * 0.01\n",
    "halo_params_dict['mdef'] = '200c'\n",
    "halo_params_dict['hmf_model'] = 'T10'\n",
    "halo_params_dict['conc_model'] = 'Diemer15'\n",
    "halo_params_dict['do_corr_2h_mm'] = True\n",
    "\n",
    "# halo_params_dict['do_corr_2h_mm'] = False\n",
    "\n",
    "from astropy.io import fits\n",
    "df = fits.open('/mnt/home/spandey/ceph/GODMAX/data/sim_3x2pt_simulated_DV_PKproject_values_bestfit_maglim_3x2LCDM_final.fits') \n",
    "z_array = df['nz_source'].data['Z_MID']\n",
    "nz_info_dict = {}\n",
    "nz_info_dict['z_array'] = z_array\n",
    "nz_info_dict['nbins'] = 4\n",
    "nz_info_dict['nz0'] = np.maximum(df['nz_source'].data['BIN1'], 1e-4)\n",
    "nz_info_dict['nz1'] = np.maximum(df['nz_source'].data['BIN2'], 1e-4)\n",
    "nz_info_dict['nz2'] = np.maximum(df['nz_source'].data['BIN3'], 1e-4)\n",
    "nz_info_dict['nz3'] = np.maximum(df['nz_source'].data['BIN4'], 1e-4)\n",
    "analysis_dict = {}\n",
    "analysis_dict['nz_info_dict'] = nz_info_dict\n",
    "analysis_dict['do_sheary'] = True\n",
    "analysis_dict['do_shear2pt'] = True\n",
    "analysis_dict['do_yy'] = False\n",
    "\n",
    "df_data = fits.open('/mnt/home/spandey/ceph/GODMAX/data/DES_ACT_full_data_theorycov_2.5.fits')\n",
    "theta_data = df_data['compton_shear'].data['ANG'][0:20]\n",
    "\n",
    "analysis_dict['ellmin_transf'], analysis_dict['ellmax_transf'], analysis_dict['nell_transf'] = 8, 2**15, 16384\n",
    "analysis_dict['angles_data_array'] = jnp.array(theta_data)\n",
    "analysis_dict['beam_fwhm_arcmin'] = 1.6\n",
    "analysis_dict['want_like_diff'] = False\n",
    "analysis_dict['calc_nfw_only'] = True\n",
    "\n",
    "\n",
    "\n"
   ]
  },
  {
   "cell_type": "code",
   "execution_count": 152,
   "metadata": {},
   "outputs": [],
   "source": [
    "from get_BCMP_profile_jit import BCM_18_wP\n",
    "BCMP_test = BCM_18_wP(sim_params_dict, halo_params_dict)\n",
    "\n"
   ]
  },
  {
   "cell_type": "code",
   "execution_count": 164,
   "metadata": {},
   "outputs": [],
   "source": [
    "Mdmb_int = BCMP_test.Mdmb_mat[-1,...] \n",
    "Mtot = BCMP_test.Mtot_mat\n",
    "\n"
   ]
  },
  {
   "cell_type": "code",
   "execution_count": 166,
   "metadata": {},
   "outputs": [
    {
     "data": {
      "text/plain": [
       "Array([1.17023976, 1.11969544, 1.08110157, 1.05123675, 1.02796929,\n",
       "       1.00980394, 0.99566917, 0.98477763, 0.97652073, 0.97041917,\n",
       "       0.96610028, 0.96326086, 0.96163926, 0.96102691, 0.96125096,\n",
       "       0.96124211, 0.96159336, 0.96264959, 0.96425701, 0.96628802,\n",
       "       0.96863609, 0.97121191, 0.97394051, 0.97675902, 0.97961491,\n",
       "       0.98246445, 0.98527189, 0.98800802, 0.99064925, 0.99317738,\n",
       "       0.99557883, 0.99784363, 0.99996545, 1.00194086, 1.00376871,\n",
       "       1.00545005, 1.0069873 , 1.00838429, 1.00964598, 1.01077781,\n",
       "       1.01178606, 1.01267689, 1.01345694, 1.01413277, 1.01471103,\n",
       "       1.01519831, 1.01560123, 1.01592652, 1.01618119, 1.01637261,\n",
       "       1.01650883, 1.01659887, 1.01665315, 1.01668392, 1.01670588,\n",
       "       1.01673689, 1.01679874, 1.01691812, 1.01712756, 1.01746654,\n",
       "       1.01798254, 1.01873218, 1.0197821 , 1.02120969], dtype=float64)"
      ]
     },
     "execution_count": 166,
     "metadata": {},
     "output_type": "execute_result"
    }
   ],
   "source": [
    "# Mtot.shape, Mdmb_int.shape\n",
    "Mtot[10,0,:]/Mdmb_int[10,0,:]\n",
    "\n"
   ]
  },
  {
   "cell_type": "code",
   "execution_count": 153,
   "metadata": {},
   "outputs": [],
   "source": [
    "# BCMP_test.Mtot_mat.shape\n",
    "# BCMP_test.rho_dmb_mat.shape\n",
    "# BCMP_test.rho_dmb_mat[:,indc, indz, indM]\n",
    "# indc, indz, indM\n"
   ]
  },
  {
   "cell_type": "code",
   "execution_count": 154,
   "metadata": {},
   "outputs": [],
   "source": [
    "# import scipy.integrate as integrate\n",
    "# Rh = 0.1\n",
    "# r_array = np.linspace(0.01, 100, 1000)\n",
    "# func = (1/(4 * np.pi**1.5 * Rh)) * (1/r_array**2) * np.exp(-1 * (r_array/(2*Rh))**2)\n",
    "# integrate.simps(func, r_array)\n",
    "\n"
   ]
  },
  {
   "cell_type": "code",
   "execution_count": 155,
   "metadata": {},
   "outputs": [],
   "source": [
    "# BCMP_test.rho_dmb_mat.shape\n",
    "import scipy.integrate as integrate\n",
    "indz = 2\n",
    "indc = 10\n",
    "indM = 30\n",
    "rho_cga_j = BCMP_test.rho_cga_mat[:,indc, indz, indM]\n",
    "rho_clm_j = BCMP_test.rho_clm_mat[:,indc, indz, indM]\n",
    "rho_gas_j = BCMP_test.rho_gas_mat[:,indc, indz, indM]\n",
    "rho_dmb_j = BCMP_test.rho_dmb_mat[:,indc, indz, indM]\n",
    "rho_nfw_j = BCMP_test.rho_nfw_mat[:,indc, indz, indM]\n",
    "r_array_j = BCMP_test.r_array\n",
    "# M_int_j = integrate.simps(4 * np.pi * rho_dmb_j * r_array_j**2 * r_array_j, np.log(r_array_j))\n",
    "Mcga_int_j = integrate.simps(4 * np.pi * rho_cga_j * r_array_j**2 * r_array_j, np.log(r_array_j))\n",
    "Mclm_int_j = integrate.simps(4 * np.pi * rho_clm_j * r_array_j**2 * r_array_j, np.log(r_array_j))\n",
    "Mgas_int_j = integrate.simps(4 * np.pi * rho_gas_j * r_array_j**2 * r_array_j, np.log(r_array_j))\n",
    "Mdmb_int_j = integrate.simps(4 * np.pi * rho_dmb_j * r_array_j**2 * r_array_j, np.log(r_array_j))\n",
    "Mnfw_int_j = integrate.simps(4 * np.pi * rho_nfw_j * r_array_j**2 * r_array_j, np.log(r_array_j))\n",
    "# print(Mdmb_int_j/BCMP_test.Mtot_mat[indc, indz, indM])\n",
    "# print(Mnfw_int_j/BCMP_test.Mtot_mat[indc, indz, indM])\n",
    "\n"
   ]
  },
  {
   "cell_type": "code",
   "execution_count": 156,
   "metadata": {},
   "outputs": [
    {
     "name": "stdout",
     "output_type": "stream",
     "text": [
      "0.004996855140923511 0.008594933274192923\n",
      "0.9014445144059461 0.8976875387118534\n",
      "0.0937174997888229 0.09371752801395374\n"
     ]
    }
   ],
   "source": [
    "print(Mcga_int_j/BCMP_test.Mtot_mat[indc, indz, indM], BCMP_test.fcga_array[indM])\n",
    "print(Mclm_int_j/BCMP_test.Mtot_mat[indc, indz, indM], BCMP_test.fclm_array[indM])\n",
    "print(Mgas_int_j/BCMP_test.Mtot_mat[indc, indz, indM], BCMP_test.fgas_array[indM])\n",
    "\n",
    "\n"
   ]
  },
  {
   "cell_type": "code",
   "execution_count": 14,
   "metadata": {},
   "outputs": [],
   "source": [
    "# BCMP_test.fstar_array[indM]\n",
    "# BCMP_test.zeta_mat[:,indc, indz, indM]\n",
    "\n"
   ]
  },
  {
   "cell_type": "code",
   "execution_count": 15,
   "metadata": {},
   "outputs": [],
   "source": [
    "indc = np.where(BCMP_test.conc_array > 0.95*conc)[0][0]\n",
    "indz = np.where(BCMP_test.z_array > 0.95*z_test)[0][0]\n",
    "indM = np.where(BCMP_test.M_array > 0.95*M_test)[0][0]\n",
    "\n"
   ]
  },
  {
   "cell_type": "code",
   "execution_count": 16,
   "metadata": {},
   "outputs": [
    {
     "data": {
      "text/plain": [
       "(1000000000000.0, 20000000000000.0)"
      ]
     },
     "execution_count": 16,
     "metadata": {},
     "output_type": "execute_result"
    },
    {
     "data": {
      "image/png": "[encoded data removed]",
      "text/plain": [
       "<Figure size 640x480 with 1 Axes>"
      ]
     },
     "metadata": {},
     "output_type": "display_data"
    }
   ],
   "source": [
    "pl.figure()\n",
    "pl.loglog(BCMP_test.r_array, (BCMP_test.r_array**2)*BCMP_test.rho_nfw_mat[:,indc,indz,indM])\n",
    "pl.loglog(r_array, (r_array**2)*prof_test_ccl, '--')\n",
    "pl.ylim(1e12, 2e13)\n",
    "\n",
    "\n"
   ]
  },
  {
   "cell_type": "code",
   "execution_count": 173,
   "metadata": {},
   "outputs": [
    {
     "name": "stdout",
     "output_type": "stream",
     "text": [
      "Time taken to calculate BCMP profile:  5.188401699066162  seconds\n",
      "Time taken to setup Pk:  2.4638304710388184\n",
      "Time taken to setup HMF:  5.227185249328613\n",
      "Time taken to setup uks and bks:  1.1972668170928955\n",
      "Time taken to setup uls and bls:  1.0385735034942627\n",
      "Time taken to setup power spectra:  10.735444068908691\n"
     ]
    }
   ],
   "source": [
    "from setup_power_spectra_jit import setup_power_BCMP\n",
    "\n",
    "setup_power_BCMP_test = setup_power_BCMP(sim_params_dict, halo_params_dict, analysis_dict, num_points_trapz_int=64, verbose_time=True)\n",
    "\n",
    "\n"
   ]
  },
  {
   "cell_type": "code",
   "execution_count": 158,
   "metadata": {},
   "outputs": [],
   "source": [
    "# setup_power_BCMP_test.bias_Mz_mat.shape\n",
    "# setup_power_BCMP_test.uk_nfw[:,0,0,40]\n",
    "# setup_power_BCMP_test.uk_dmb[:,0,0,40]\n",
    "\n",
    "# Pk_dmb\n"
   ]
  },
  {
   "cell_type": "code",
   "execution_count": 174,
   "metadata": {},
   "outputs": [],
   "source": [
    "# Pk_nfw = (setup_power_BCMP_test.bm_nfw_kz_mat)**2 * setup_power_BCMP_test.plin_kz_mat +  setup_power_BCMP_test.Pmm_nfw_1h_mat\n",
    "Pk_nfw = setup_power_BCMP_test.Pmm_nfw_tot_mat\n",
    "Pk_dmb = setup_power_BCMP_test.Pmm_dmb_tot_mat\n",
    "Pk_sup = setup_power_BCMP_test.Pmm_sup_tot_mat\n",
    "\n",
    "\n",
    "Pk_sup2 = (setup_power_BCMP_test.plin_kz_mat +  setup_power_BCMP_test.Pmm_dmb_1h_mat)/(setup_power_BCMP_test.plin_kz_mat +  setup_power_BCMP_test.Pmm_nfw_1h_mat)\n",
    "\n"
   ]
  },
  {
   "cell_type": "code",
   "execution_count": 175,
   "metadata": {},
   "outputs": [],
   "source": [
    "k_array_ccl = setup_power_BCMP_test.k\n",
    "z = z_test\n",
    "# z = 0.0\n",
    "pkz_HF_ccl = ccl.nonlin_matter_power(cosmo, k=k_array_ccl*h, a=1/(1+z)) * h**3\n",
    "\n",
    "\n",
    "\n",
    "\n"
   ]
  },
  {
   "cell_type": "code",
   "execution_count": 176,
   "metadata": {},
   "outputs": [],
   "source": [
    "# indz = 0\n",
    "# pl.figure()\n",
    "# pl.loglog(k_array_ccl, (k_array_ccl**3)*Pk_nfw[:,indz])\n",
    "# pl.loglog(k_array_ccl, (k_array_ccl**3)*Pk_dmb[:,indz], ls=':')\n",
    "# pl.loglog(k_array_ccl, (k_array_ccl**3)*setup_power_BCMP_test.plin_kz_mat[:,indz])\n",
    "# pl.loglog(k_array_ccl, (k_array_ccl**3)*pkz_HF_ccl, '--')\n",
    "# pl.grid()\n",
    "\n",
    "\n"
   ]
  },
  {
   "cell_type": "code",
   "execution_count": 177,
   "metadata": {},
   "outputs": [
    {
     "data": {
      "text/plain": [
       "(0.9, 1.05)"
      ]
     },
     "execution_count": 177,
     "metadata": {},
     "output_type": "execute_result"
    },
    {
     "data": {
      "image/png": "[encoded data removed]",
      "text/plain": [
       "<Figure size 640x480 with 1 Axes>"
      ]
     },
     "metadata": {},
     "output_type": "display_data"
    }
   ],
   "source": [
    "indz = 0\n",
    "pl.figure()\n",
    "pl.plot(k_array_ccl, Pk_sup[:,indz])\n",
    "pl.plot(k_array_ccl, Pk_sup2[:,indz])\n",
    "pl.xscale('log')\n",
    "pl.grid()\n",
    "pl.ylim(0.9,1.05)\n"
   ]
  },
  {
   "cell_type": "code",
   "execution_count": 178,
   "metadata": {},
   "outputs": [
    {
     "data": {
      "image/png": "[encoded data removed]",
      "text/plain": [
       "<Figure size 640x480 with 1 Axes>"
      ]
     },
     "metadata": {},
     "output_type": "display_data"
    }
   ],
   "source": [
    "# setup_power_BCMP_test.bm_dmb_kz_mat.shape\n",
    "pl.figure()\n",
    "pl.plot(k_array_ccl, setup_power_BCMP_test.bm_dmb_kz_mat[:,0])\n",
    "pl.plot(k_array_ccl, setup_power_BCMP_test.bm_nfw_kz_mat[:,0])\n",
    "# pl.plot(k_array_ccl, setup_power_BCMP_test.bm_dmb_2h[:,0] + (1 - setup_power_BCMP_test.bm_largescales_2h_mat[:,0]))\n",
    "# pl.plot(k_array_ccl, setup_power_BCMP_test.bm_dmb_2h[:,0])\n",
    "# pl.plot(k_array_ccl, setup_power_BCMP_test.bm_largescales_2h_mat[:,0], ls='--')\n",
    "pl.xscale('log')\n",
    "pl.ylim(0.7,1.05)\n",
    "# pl.loglog(k_array_ccl, (k_array_ccl**3)*setup_power_BCMP_test.plin_kz_mat[:,indz])\n",
    "# pl.loglog(k_array_ccl, (k_array_ccl**3)*pkz_HF_ccl, '--')\n",
    "pl.grid()\n",
    "\n"
   ]
  },
  {
   "cell_type": "code",
   "execution_count": 69,
   "metadata": {},
   "outputs": [
    {
     "data": {
      "text/plain": [
       "Array([0.9945328 , 0.9945328 , 0.9945328 , 0.9945328 , 0.9945328 ,\n",
       "       0.9945328 , 0.9945328 , 0.9945328 , 0.9945328 , 0.9945328 ,\n",
       "       0.9945328 , 0.9945328 , 0.9945328 , 0.9945328 , 0.9945328 ,\n",
       "       0.9945328 , 0.9945328 , 0.9945328 , 0.9945328 , 0.9945328 ,\n",
       "       0.9945328 , 0.98914397, 0.9893083 , 0.98857626, 0.98788108,\n",
       "       0.98683507, 0.98526245, 0.98318068, 0.98011823, 0.97600214,\n",
       "       0.97024629, 0.96255088, 0.95223443, 0.93880252, 0.92160442,\n",
       "       0.90024582, 0.87444334, 0.84430833, 0.81024758, 0.77299513,\n",
       "       0.73342192, 0.69244383, 0.6509344 , 0.60971181, 0.56950856,\n",
       "       0.53095545, 0.49458156, 0.46079107, 0.42985011, 0.40186822,\n",
       "       0.37682001, 0.35458488, 0.33501617, 0.31796874, 0.30328963,\n",
       "       0.29079151, 0.28026279, 0.27148177, 0.26422915, 0.25829028,\n",
       "       0.25346276, 0.24955964, 0.24641546, 0.24453809], dtype=float64)"
      ]
     },
     "execution_count": 69,
     "metadata": {},
     "output_type": "execute_result"
    }
   ],
   "source": [
    "setup_power_BCMP_test.bm_dmb_kz_mat[:,0]\n"
   ]
  },
  {
   "cell_type": "code",
   "execution_count": 1,
   "metadata": {},
   "outputs": [
    {
     "name": "stdout",
     "output_type": "stream",
     "text": [
      "{'ws': 55.0, 'mu': 6.0, 'dT': 7.0, 'n': 1.0, 'BH_DensTh_m': 2.0}\n"
     ]
    }
   ],
   "source": [
    "# ws_55_04_mu_6_90_dT_7_80_n_1_BH_DensTh_m_2_24\n",
    "import re\n",
    "\n",
    "def extract_specific_values(input_string):\n",
    "    # Dictionary to store the extracted values\n",
    "    values = {}\n",
    "\n",
    "    # Patterns for each specific variable\n",
    "    patterns = {\n",
    "        'ws': r'ws_([0-9]+(?:\\.[0-9]+)?)',\n",
    "        'mu': r'mu_([0-9]+(?:\\.[0-9]+)?)',\n",
    "        'dT': r'dT_([0-9]+(?:\\.[0-9]+)?)',\n",
    "        'n': r'n_([0-9]+(?:\\.[0-9]+)?)',\n",
    "        'BH_DensTh_m': r'BH_DensTh_m_([0-9]+(?:\\.[0-9]+)?)'\n",
    "    }\n",
    "\n",
    "    # Extract each variable\n",
    "    for key, pattern in patterns.items():\n",
    "        match = re.search(pattern, input_string)\n",
    "        if match:\n",
    "            values[key] = float(match.group(1))\n",
    "\n",
    "    return values\n",
    "\n",
    "# Example usage\n",
    "input_string = \"ws_55_04_mu_6_90_dT_7_80_n_1_BH_DensTh_m_2_24\"\n",
    "extracted_values = extract_specific_values(input_string)\n",
    "print(extracted_values)\n",
    "\n"
   ]
  },
  {
   "cell_type": "code",
   "execution_count": null,
   "metadata": {},
   "outputs": [],
   "source": []
  }
 ],
 "metadata": {
  "kernelspec": {
   "display_name": "Python 3",
   "language": "python",
   "name": "python3"
  },
  "language_info": {
   "codemirror_mode": {
    "name": "ipython",
    "version": 3
   },
   "file_extension": ".py",
   "mimetype": "text/x-python",
   "name": "python",
   "nbconvert_exporter": "python",
   "pygments_lexer": "ipython3",
   "version": "3.12.0"
  }
 },
 "nbformat": 4,
 "nbformat_minor": 2
}
