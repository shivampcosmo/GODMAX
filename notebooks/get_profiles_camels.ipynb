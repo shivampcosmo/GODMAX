{
 "cells": [
  {
   "cell_type": "code",
   "execution_count": 2,
   "metadata": {},
   "outputs": [],
   "source": [
    "import matplotlib.pyplot as plt\n",
    "import numpy             as np\n",
    "import h5py\n"
   ]
  },
  {
   "cell_type": "code",
   "execution_count": 14,
   "metadata": {},
   "outputs": [],
   "source": [
    "\n",
    "#-------------------------input section---------------\n",
    "suite='SIMBA'\n",
    "sim_type = 'CV'\n",
    "sim_number = 0\n",
    "snap='024'\n",
    "#-----------------------------------------------------\n",
    "data_dir='/mnt/ceph/users/camels/PUBLIC_RELEASE/Sims'\n",
    "prof_dir='/mnt/ceph/users/camels/PUBLIC_RELEASE/Profiles/'\n",
    "\n"
   ]
  },
  {
   "cell_type": "code",
   "execution_count": 15,
   "metadata": {},
   "outputs": [],
   "source": [
    "\n",
    "\n",
    "def extract(suite, sim_type,sim_number, snap):\n",
    "\n",
    "    '''\n",
    "    Return values of the CGM profiles from the CAMELS simulation\n",
    "\n",
    "    Inputs:\n",
    "      simulation: string, name of the simulation, e.g., 1P_5_2, LH_123, CV_12\n",
    "      snap: string, number of the snapshot, from '000' to '033', '033' being the last snapshot corresponding to z=0\n",
    "\n",
    "    Outputs:\n",
    "      z: float, redshift\n",
    "      r: np array, radial bin on kpc\n",
    "      val_dens: np array, density profile in g/cm^3\n",
    "      val_pres: np array, volume-weighted thermal pressure profile in erg/cm^3\n",
    "      val_temp_mw: np array, mass-weighted temperature in K\n",
    "      val_metals_mw: np array, mass-weighted metallcity in Zsun\n",
    "      mh: np array, halo mass (M200c) in Msun\n",
    "      rh: np array, halo radius (R200c) in kpc\n",
    "\n",
    "    '''\n",
    "\n",
    "    h=0.6711\n",
    "    omegab=0.049\n",
    "    omegam,sigma8=np.loadtxt(data_dir+'/'+suite + '/' + sim_type +'/'+sim_type + '_' + str(sim_number) +'/CosmoAstro_params.txt',usecols=(1,2),unpack=True)\n",
    "    omegalam=1.0-omegam\n",
    "\n",
    "    kb = 1.38e-16 # erg/K\n",
    "    erg_to_keV = 6.242e+8\n",
    "    K_to_keV = kb * erg_to_keV\n",
    "    m_e = 9.11e-28 # electron mass in g\n",
    "    m_p = 1.6726e-24 # in g\n",
    "    XH = 0.76 #primordial hydrogen fraction\n",
    "    mu = 0.58824; # X=0.76 assumed\n",
    "    mu_e = mue = 2.0/(1.0+XH); # X=0.76 assumed\n",
    "    Msun = 1.989e33\n",
    "    kpc = 3.0856e21\n",
    "\n",
    "    data_file= data_dir+'/'+suite + '/' + sim_type +'/'+sim_type + '_' + str(sim_number) +'/snap_'+snap+'.hdf5'\n",
    "    profile_file = prof_dir+'/'+suite+'/'+sim_type +'/'+sim_type + '_' + str(sim_number) +'/'+suite+'_'+sim_type + '_' + str(sim_number)+'_'+snap+'.hdf5'\n",
    "    b=h5py.File(data_file,'r')\n",
    "    z=b['/Header'].attrs[u'Redshift']\n",
    "\n",
    "    comoving_factor = (1.0+z)\n",
    "\n",
    "    density_conversion_factor = Msun*kpc**(-3) * 1e10 * h**2 * comoving_factor**3\n",
    "    #from 1e10Msol/h*(km/s)**2 ckpc^{-3} to keV cm^{-3}\n",
    "    pressure_conversion_factor = density_conversion_factor * 1e10 * erg_to_keV\n",
    "    temperature_conversion_factor = (1e5)**2 * kb * erg_to_keV\n",
    "\n",
    "    stacks=h5py.File(profile_file,'r')\n",
    "    val            = stacks['Profiles']\n",
    "    val_dens       = np.array(val[0,:,:]) * density_conversion_factor #density in g cm^3\n",
    "    val_pres       = np.array(val[1,:,:]) * pressure_conversion_factor  #thermal pressure in keV cm^-3\n",
    "    # val_metals_mw  = np.array(val[2,:,:])/Zsun #mass-weighted metallicity in solar units\n",
    "    # val_temp_mw    = np.array(val[3,:,:]) * temperature_conversion_factor #mass-weighted temperature in keV\n",
    "    bins           = np.array(stacks['nbins']) #number of radial bins\n",
    "    r              = np.array(stacks['r']) / h / comoving_factor #radial bins in comoving kpc\n",
    "    nprofs         = np.array(stacks['nprofs']) #number of halos\n",
    "    m200c          = np.array(stacks['Group_M_Crit200'])*1e10 / h #M200c in Msol\n",
    "    r200c          = np.array(stacks['Group_R_Crit200']) / h / comoving_factor #R200c in kpc\n",
    "\n",
    "    return z, r, val_dens, val_pres, val_temp_mw, val_metals_mw, m200c, r200c\n",
    "\n",
    "\n",
    "    "
   ]
  },
  {
   "cell_type": "code",
   "execution_count": 16,
   "metadata": {},
   "outputs": [
    {
     "ename": "NameError",
     "evalue": "name 'Zsun' is not defined",
     "output_type": "error",
     "traceback": [
      "\u001b[0;31m---------------------------------------------------------------------------\u001b[0m",
      "\u001b[0;31mNameError\u001b[0m                                 Traceback (most recent call last)",
      "\u001b[1;32m/mnt/home/spandey/ceph/GODMAX/notebooks/get_profiles_camels.ipynb Cell 4\u001b[0m line \u001b[0;36m1\n\u001b[0;32m----> <a href='vscode-notebook-cell://tunnel%2Brusty/mnt/home/spandey/ceph/GODMAX/notebooks/get_profiles_camels.ipynb#W3sdnNjb2RlLXJlbW90ZQ%3D%3D?line=0'>1</a>\u001b[0m z, r, val_dens, val_pres, val_temp_mw, val_metals_mw, m200c, r200c \u001b[39m=\u001b[39m extract(suite, sim_type,sim_number, snap)\n",
      "\u001b[1;32m/mnt/home/spandey/ceph/GODMAX/notebooks/get_profiles_camels.ipynb Cell 4\u001b[0m line \u001b[0;36m5\n\u001b[1;32m     <a href='vscode-notebook-cell://tunnel%2Brusty/mnt/home/spandey/ceph/GODMAX/notebooks/get_profiles_camels.ipynb#W3sdnNjb2RlLXJlbW90ZQ%3D%3D?line=51'>52</a>\u001b[0m val_dens       \u001b[39m=\u001b[39m np\u001b[39m.\u001b[39marray(val[\u001b[39m0\u001b[39m,:,:]) \u001b[39m*\u001b[39m density_conversion_factor \u001b[39m#density in g cm^3\u001b[39;00m\n\u001b[1;32m     <a href='vscode-notebook-cell://tunnel%2Brusty/mnt/home/spandey/ceph/GODMAX/notebooks/get_profiles_camels.ipynb#W3sdnNjb2RlLXJlbW90ZQ%3D%3D?line=52'>53</a>\u001b[0m val_pres       \u001b[39m=\u001b[39m np\u001b[39m.\u001b[39marray(val[\u001b[39m1\u001b[39m,:,:]) \u001b[39m*\u001b[39m pressure_conversion_factor  \u001b[39m#thermal pressure in keV cm^-3\u001b[39;00m\n\u001b[0;32m---> <a href='vscode-notebook-cell://tunnel%2Brusty/mnt/home/spandey/ceph/GODMAX/notebooks/get_profiles_camels.ipynb#W3sdnNjb2RlLXJlbW90ZQ%3D%3D?line=53'>54</a>\u001b[0m val_metals_mw  \u001b[39m=\u001b[39m np\u001b[39m.\u001b[39marray(val[\u001b[39m2\u001b[39m,:,:])\u001b[39m/\u001b[39mZsun \u001b[39m#mass-weighted metallicity in solar units\u001b[39;00m\n\u001b[1;32m     <a href='vscode-notebook-cell://tunnel%2Brusty/mnt/home/spandey/ceph/GODMAX/notebooks/get_profiles_camels.ipynb#W3sdnNjb2RlLXJlbW90ZQ%3D%3D?line=54'>55</a>\u001b[0m val_temp_mw    \u001b[39m=\u001b[39m np\u001b[39m.\u001b[39marray(val[\u001b[39m3\u001b[39m,:,:]) \u001b[39m*\u001b[39m temperature_conversion_factor \u001b[39m#mass-weighted temperature in keV\u001b[39;00m\n\u001b[1;32m     <a href='vscode-notebook-cell://tunnel%2Brusty/mnt/home/spandey/ceph/GODMAX/notebooks/get_profiles_camels.ipynb#W3sdnNjb2RlLXJlbW90ZQ%3D%3D?line=55'>56</a>\u001b[0m bins           \u001b[39m=\u001b[39m np\u001b[39m.\u001b[39marray(stacks[\u001b[39m'\u001b[39m\u001b[39mnbins\u001b[39m\u001b[39m'\u001b[39m]) \u001b[39m#number of radial bins\u001b[39;00m\n",
      "\u001b[0;31mNameError\u001b[0m: name 'Zsun' is not defined"
     ]
    }
   ],
   "source": [
    "z, r, val_dens, val_pres, val_temp_mw, val_metals_mw, m200c, r200c = extract(suite, sim_type,sim_number, snap)\n"
   ]
  },
  {
   "cell_type": "code",
   "execution_count": null,
   "metadata": {},
   "outputs": [],
   "source": [
    "\n",
    "\n"
   ]
  }
 ],
 "metadata": {
  "kernelspec": {
   "display_name": ".venv",
   "language": "python",
   "name": "python3"
  },
  "language_info": {
   "codemirror_mode": {
    "name": "ipython",
    "version": 3
   },
   "file_extension": ".py",
   "mimetype": "text/x-python",
   "name": "python",
   "nbconvert_exporter": "python",
   "pygments_lexer": "ipython3",
   "version": "3.9.15"
  },
  "orig_nbformat": 4
 },
 "nbformat": 4,
 "nbformat_minor": 2
}
